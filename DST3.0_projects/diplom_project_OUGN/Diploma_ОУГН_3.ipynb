{
 "cells": [
  {
   "cell_type": "markdown",
   "id": "6e20c9c3",
   "metadata": {},
   "source": [
    "# Определение уязвимых групп населения\n",
    "## Дипломный проект учебного курса Data Science"
   ]
  },
  {
   "cell_type": "markdown",
   "id": "cd3bbabf",
   "metadata": {},
   "source": [
    "## Часть 4. Анализ результатов кластеризации"
   ]
  },
  {
   "cell_type": "code",
   "execution_count": 25,
   "id": "500e378a",
   "metadata": {},
   "outputs": [
    {
     "data": {
      "text/html": [
       "<style>.container { width:100% !important; }</style>"
      ],
      "text/plain": [
       "<IPython.core.display.HTML object>"
      ]
     },
     "metadata": {},
     "output_type": "display_data"
    },
    {
     "data": {
      "application/javascript": [
       "\n",
       "    IPython.OutputArea.prototype._should_scroll = function(lines) {\n",
       "        return false;\n",
       "    }\n",
       "    "
      ],
      "text/plain": [
       "<IPython.core.display.Javascript object>"
      ]
     },
     "metadata": {},
     "output_type": "display_data"
    }
   ],
   "source": [
    "import numpy as np\n",
    "import pandas as pd\n",
    "import plotly.express as px\n",
    "import plotly.graph_objects as go\n",
    "from plotly.subplots import make_subplots\n",
    "import matplotlib.pyplot as plt\n",
    "import seaborn as sns\n",
    "from sklearn.preprocessing import MinMaxScaler\n",
    "from scipy.stats import kruskal, mannwhitneyu, chi2_contingency\n",
    "from statsmodels.stats.proportion import proportions_chisquare\n",
    "\n",
    "pd.set_option('display.float_format', '{:.2f}'.format)\n",
    "\n",
    "\n",
    "from IPython.display import display, HTML, Javascript\n",
    "display(HTML(\"<style>.container { width:100% !important; }</style>\"))\n",
    "\n",
    "\n",
    "display(Javascript(\n",
    "    \"\"\"\n",
    "    IPython.OutputArea.prototype._should_scroll = function(lines) {\n",
    "        return false;\n",
    "    }\n",
    "    \"\"\"\n",
    "))\n",
    "\n",
    "%matplotlib inline\n",
    "\n",
    "data_path = 'C:/Users/admin/Desktop/FDSupportBK/my_projects_DST120/edu_projects/Diploma/ОУГН/social_russia_data/'"
   ]
  },
  {
   "cell_type": "code",
   "execution_count": 26,
   "id": "c1bb15e1",
   "metadata": {},
   "outputs": [],
   "source": [
    "# Функция для добавления ANSI кодов для жирного и синего текста\n",
    "def make_bold_blue(text):\n",
    "    return f\"\\033[1;34m{text}\\033[0m\""
   ]
  },
  {
   "cell_type": "code",
   "execution_count": 27,
   "id": "818caea9",
   "metadata": {},
   "outputs": [],
   "source": [
    "# Подгрузим наш финальный датафрейм с кластерами\n",
    "russia_regions_cl = pd.read_excel(data_path + 'russia_regions_clusters.xlsx', index_col='region')"
   ]
  },
  {
   "cell_type": "code",
   "execution_count": 28,
   "id": "29598270",
   "metadata": {},
   "outputs": [
    {
     "data": {
      "text/html": [
       "<div>\n",
       "<style scoped>\n",
       "    .dataframe tbody tr th:only-of-type {\n",
       "        vertical-align: middle;\n",
       "    }\n",
       "\n",
       "    .dataframe tbody tr th {\n",
       "        vertical-align: top;\n",
       "    }\n",
       "\n",
       "    .dataframe thead th {\n",
       "        text-align: right;\n",
       "    }\n",
       "</style>\n",
       "<table border=\"1\" class=\"dataframe\">\n",
       "  <thead>\n",
       "    <tr style=\"text-align: right;\">\n",
       "      <th></th>\n",
       "      <th>per_capita</th>\n",
       "      <th>real_incomes</th>\n",
       "      <th>formal_wage</th>\n",
       "      <th>real_pay</th>\n",
       "      <th>child_mortality</th>\n",
       "      <th>disabled_18_60</th>\n",
       "      <th>alco</th>\n",
       "      <th>drug</th>\n",
       "      <th>grp</th>\n",
       "      <th>living_area</th>\n",
       "      <th>...</th>\n",
       "      <th>grievous harm</th>\n",
       "      <th>income</th>\n",
       "      <th>subsidies</th>\n",
       "      <th>children</th>\n",
       "      <th>orphanage</th>\n",
       "      <th>adopted_percent</th>\n",
       "      <th>avg_pension</th>\n",
       "      <th>retired_percent</th>\n",
       "      <th>living_wage</th>\n",
       "      <th>Cluster</th>\n",
       "    </tr>\n",
       "    <tr>\n",
       "      <th>region</th>\n",
       "      <th></th>\n",
       "      <th></th>\n",
       "      <th></th>\n",
       "      <th></th>\n",
       "      <th></th>\n",
       "      <th></th>\n",
       "      <th></th>\n",
       "      <th></th>\n",
       "      <th></th>\n",
       "      <th></th>\n",
       "      <th></th>\n",
       "      <th></th>\n",
       "      <th></th>\n",
       "      <th></th>\n",
       "      <th></th>\n",
       "      <th></th>\n",
       "      <th></th>\n",
       "      <th></th>\n",
       "      <th></th>\n",
       "      <th></th>\n",
       "      <th></th>\n",
       "    </tr>\n",
       "  </thead>\n",
       "  <tbody>\n",
       "    <tr>\n",
       "      <th>Алтайский край</th>\n",
       "      <td>23864</td>\n",
       "      <td>95.50</td>\n",
       "      <td>30072</td>\n",
       "      <td>103.80</td>\n",
       "      <td>97</td>\n",
       "      <td>2060817</td>\n",
       "      <td>88.10</td>\n",
       "      <td>17.40</td>\n",
       "      <td>291156.90</td>\n",
       "      <td>18.00</td>\n",
       "      <td>...</td>\n",
       "      <td>647</td>\n",
       "      <td>130944.12</td>\n",
       "      <td>74306.24</td>\n",
       "      <td>490149</td>\n",
       "      <td>983</td>\n",
       "      <td>59</td>\n",
       "      <td>8064.10</td>\n",
       "      <td>26.80</td>\n",
       "      <td>10904</td>\n",
       "      <td>1</td>\n",
       "    </tr>\n",
       "    <tr>\n",
       "      <th>Амурская область</th>\n",
       "      <td>35499</td>\n",
       "      <td>100.30</td>\n",
       "      <td>52430</td>\n",
       "      <td>105.20</td>\n",
       "      <td>42</td>\n",
       "      <td>766768</td>\n",
       "      <td>113.30</td>\n",
       "      <td>24.40</td>\n",
       "      <td>571362.10</td>\n",
       "      <td>17.30</td>\n",
       "      <td>...</td>\n",
       "      <td>255</td>\n",
       "      <td>85583.44</td>\n",
       "      <td>34011.89</td>\n",
       "      <td>178702</td>\n",
       "      <td>676</td>\n",
       "      <td>65</td>\n",
       "      <td>8999.35</td>\n",
       "      <td>22.40</td>\n",
       "      <td>14331</td>\n",
       "      <td>2</td>\n",
       "    </tr>\n",
       "    <tr>\n",
       "      <th>Архангельская область</th>\n",
       "      <td>34852</td>\n",
       "      <td>98.40</td>\n",
       "      <td>52779</td>\n",
       "      <td>102.90</td>\n",
       "      <td>27</td>\n",
       "      <td>1016584</td>\n",
       "      <td>64.70</td>\n",
       "      <td>9.20</td>\n",
       "      <td>697648.20</td>\n",
       "      <td>16.90</td>\n",
       "      <td>...</td>\n",
       "      <td>288</td>\n",
       "      <td>95411.95</td>\n",
       "      <td>42447.95</td>\n",
       "      <td>226228</td>\n",
       "      <td>785</td>\n",
       "      <td>60</td>\n",
       "      <td>10876.94</td>\n",
       "      <td>26.40</td>\n",
       "      <td>14507</td>\n",
       "      <td>2</td>\n",
       "    </tr>\n",
       "    <tr>\n",
       "      <th>Астраханская область</th>\n",
       "      <td>25199</td>\n",
       "      <td>97.10</td>\n",
       "      <td>38885</td>\n",
       "      <td>104.50</td>\n",
       "      <td>64</td>\n",
       "      <td>520687</td>\n",
       "      <td>22.20</td>\n",
       "      <td>0.20</td>\n",
       "      <td>526950.90</td>\n",
       "      <td>19.20</td>\n",
       "      <td>...</td>\n",
       "      <td>169</td>\n",
       "      <td>52310.99</td>\n",
       "      <td>24050.16</td>\n",
       "      <td>227512</td>\n",
       "      <td>376</td>\n",
       "      <td>66</td>\n",
       "      <td>7713.92</td>\n",
       "      <td>23.90</td>\n",
       "      <td>11287</td>\n",
       "      <td>2</td>\n",
       "    </tr>\n",
       "    <tr>\n",
       "      <th>Белгородская область</th>\n",
       "      <td>32841</td>\n",
       "      <td>98.10</td>\n",
       "      <td>37442</td>\n",
       "      <td>104.80</td>\n",
       "      <td>47</td>\n",
       "      <td>2359129</td>\n",
       "      <td>41.30</td>\n",
       "      <td>3.20</td>\n",
       "      <td>646569.00</td>\n",
       "      <td>17.80</td>\n",
       "      <td>...</td>\n",
       "      <td>249</td>\n",
       "      <td>93595.18</td>\n",
       "      <td>35521.91</td>\n",
       "      <td>290694</td>\n",
       "      <td>219</td>\n",
       "      <td>82</td>\n",
       "      <td>8719.47</td>\n",
       "      <td>27.20</td>\n",
       "      <td>10403</td>\n",
       "      <td>2</td>\n",
       "    </tr>\n",
       "  </tbody>\n",
       "</table>\n",
       "<p>5 rows × 40 columns</p>\n",
       "</div>"
      ],
      "text/plain": [
       "                       per_capita  real_incomes  formal_wage  real_pay  \\\n",
       "region                                                                   \n",
       "Алтайский край              23864         95.50        30072    103.80   \n",
       "Амурская область            35499        100.30        52430    105.20   \n",
       "Архангельская область       34852         98.40        52779    102.90   \n",
       "Астраханская область        25199         97.10        38885    104.50   \n",
       "Белгородская область        32841         98.10        37442    104.80   \n",
       "\n",
       "                       child_mortality  disabled_18_60   alco  drug       grp  \\\n",
       "region                                                                          \n",
       "Алтайский край                      97         2060817  88.10 17.40 291156.90   \n",
       "Амурская область                    42          766768 113.30 24.40 571362.10   \n",
       "Архангельская область               27         1016584  64.70  9.20 697648.20   \n",
       "Астраханская область                64          520687  22.20  0.20 526950.90   \n",
       "Белгородская область                47         2359129  41.30  3.20 646569.00   \n",
       "\n",
       "                       living_area  ...  grievous harm    income  subsidies  \\\n",
       "region                              ...                                       \n",
       "Алтайский край               18.00  ...            647 130944.12   74306.24   \n",
       "Амурская область             17.30  ...            255  85583.44   34011.89   \n",
       "Архангельская область        16.90  ...            288  95411.95   42447.95   \n",
       "Астраханская область         19.20  ...            169  52310.99   24050.16   \n",
       "Белгородская область         17.80  ...            249  93595.18   35521.91   \n",
       "\n",
       "                       children  orphanage  adopted_percent  avg_pension  \\\n",
       "region                                                                     \n",
       "Алтайский край           490149        983               59      8064.10   \n",
       "Амурская область         178702        676               65      8999.35   \n",
       "Архангельская область    226228        785               60     10876.94   \n",
       "Астраханская область     227512        376               66      7713.92   \n",
       "Белгородская область     290694        219               82      8719.47   \n",
       "\n",
       "                       retired_percent  living_wage  Cluster  \n",
       "region                                                        \n",
       "Алтайский край                   26.80        10904        1  \n",
       "Амурская область                 22.40        14331        2  \n",
       "Архангельская область            26.40        14507        2  \n",
       "Астраханская область             23.90        11287        2  \n",
       "Белгородская область             27.20        10403        2  \n",
       "\n",
       "[5 rows x 40 columns]"
      ]
     },
     "metadata": {},
     "output_type": "display_data"
    }
   ],
   "source": [
    "display(russia_regions_cl.head())"
   ]
  },
  {
   "cell_type": "markdown",
   "id": "785ce9a2",
   "metadata": {},
   "source": [
    "#### 4.1. Описание кластеров, их характерные особенности в пространстве признаков"
   ]
  },
  {
   "cell_type": "code",
   "execution_count": 29,
   "id": "d8759712",
   "metadata": {},
   "outputs": [
    {
     "name": "stdout",
     "output_type": "stream",
     "text": [
      "0     8\n",
      "1    25\n",
      "2    42\n",
      "3    10\n",
      "Name: Cluster, dtype: int64\n"
     ]
    }
   ],
   "source": [
    "cluster_counts = russia_regions_cl['Cluster'].value_counts().sort_index()\n",
    "print(cluster_counts)"
   ]
  },
  {
   "cell_type": "markdown",
   "id": "07c9e694",
   "metadata": {},
   "source": [
    "Для группировки регионов в соответствии с их социально-экономическим благополучием при моделировании были использованы следующие признаки:\n",
    "- доход на душу населения (per_capita), \n",
    "- валовый региональный продукт (grp), \n",
    "- общий объем производства товаров и услуг в регионе (reg_prod_total), \n",
    "- процент работающего населения (workers_percent), \n",
    "- уровень бедности (poverty_percent).\n",
    "\n",
    "Рассмотрим отличия кластеров по этим характеристикам с помощью полярной диаграммы по медианным значениям. Только заменим reg_prod_total на retail, так как с этим показателем будет интереснее сравнить."
   ]
  },
  {
   "cell_type": "code",
   "execution_count": 30,
   "id": "703fef89",
   "metadata": {},
   "outputs": [
    {
     "data": {
      "application/vnd.plotly.v1+json": {
       "config": {
        "plotlyServerURL": "https://plot.ly"
       },
       "data": [
        {
         "fill": "toself",
         "name": "Cluster 0",
         "r": [
          0.9999999999999998,
          0.9999999999999999,
          0.7023511011039099,
          1,
          0
         ],
         "subplot": "polar",
         "theta": [
          "PerCapita",
          "GRP",
          "Retail",
          "Workers%",
          "Poverty%"
         ],
         "type": "scatterpolar"
        },
        {
         "fill": "toself",
         "name": "Cluster 1",
         "r": [
          0.1732858635638308,
          0.04437654119136955,
          0.6746209248528205,
          0.3673245614035088,
          0.43848580441640367
         ],
         "subplot": "polar2",
         "theta": [
          "PerCapita",
          "GRP",
          "Retail",
          "Workers%",
          "Poverty%"
         ],
         "type": "scatterpolar"
        },
        {
         "fill": "toself",
         "name": "Cluster 2",
         "r": [
          0.3678033218606289,
          0.1603121306924453,
          1,
          0.4769736842105261,
          0.2712933753943217
         ],
         "subplot": "polar3",
         "theta": [
          "PerCapita",
          "GRP",
          "Retail",
          "Workers%",
          "Poverty%"
         ],
         "type": "scatterpolar"
        },
        {
         "fill": "toself",
         "name": "Cluster 3",
         "r": [
          0,
          0,
          0,
          0,
          1
         ],
         "subplot": "polar4",
         "theta": [
          "PerCapita",
          "GRP",
          "Retail",
          "Workers%",
          "Poverty%"
         ],
         "type": "scatterpolar"
        }
       ],
       "layout": {
        "annotations": [
         {
          "font": {
           "size": 16
          },
          "showarrow": false,
          "text": "Cluster 0",
          "x": 0.225,
          "xanchor": "center",
          "xref": "paper",
          "y": 1,
          "yanchor": "bottom",
          "yref": "paper"
         },
         {
          "font": {
           "size": 16
          },
          "showarrow": false,
          "text": "Cluster 1",
          "x": 0.775,
          "xanchor": "center",
          "xref": "paper",
          "y": 1,
          "yanchor": "bottom",
          "yref": "paper"
         },
         {
          "font": {
           "size": 16
          },
          "showarrow": false,
          "text": "Cluster 2",
          "x": 0.225,
          "xanchor": "center",
          "xref": "paper",
          "y": 0.375,
          "yanchor": "bottom",
          "yref": "paper"
         },
         {
          "font": {
           "size": 16
          },
          "showarrow": false,
          "text": "Cluster 3",
          "x": 0.775,
          "xanchor": "center",
          "xref": "paper",
          "y": 0.375,
          "yanchor": "bottom",
          "yref": "paper"
         }
        ],
        "autosize": false,
        "font": {
         "size": 16
        },
        "height": 800,
        "polar": {
         "domain": {
          "x": [
           0,
           0.45
          ],
          "y": [
           0.625,
           1
          ]
         },
         "radialaxis": {
          "range": [
           0,
           1
          ]
         }
        },
        "polar2": {
         "domain": {
          "x": [
           0.55,
           1
          ],
          "y": [
           0.625,
           1
          ]
         },
         "radialaxis": {
          "range": [
           0,
           1
          ]
         }
        },
        "polar3": {
         "domain": {
          "x": [
           0,
           0.45
          ],
          "y": [
           0,
           0.375
          ]
         },
         "radialaxis": {
          "range": [
           0,
           1
          ]
         }
        },
        "polar4": {
         "domain": {
          "x": [
           0.55,
           1
          ],
          "y": [
           0,
           0.375
          ]
         },
         "radialaxis": {
          "range": [
           0,
           1
          ]
         }
        },
        "showlegend": false,
        "template": {
         "data": {
          "bar": [
           {
            "error_x": {
             "color": "#2a3f5f"
            },
            "error_y": {
             "color": "#2a3f5f"
            },
            "marker": {
             "line": {
              "color": "#E5ECF6",
              "width": 0.5
             },
             "pattern": {
              "fillmode": "overlay",
              "size": 10,
              "solidity": 0.2
             }
            },
            "type": "bar"
           }
          ],
          "barpolar": [
           {
            "marker": {
             "line": {
              "color": "#E5ECF6",
              "width": 0.5
             },
             "pattern": {
              "fillmode": "overlay",
              "size": 10,
              "solidity": 0.2
             }
            },
            "type": "barpolar"
           }
          ],
          "carpet": [
           {
            "aaxis": {
             "endlinecolor": "#2a3f5f",
             "gridcolor": "white",
             "linecolor": "white",
             "minorgridcolor": "white",
             "startlinecolor": "#2a3f5f"
            },
            "baxis": {
             "endlinecolor": "#2a3f5f",
             "gridcolor": "white",
             "linecolor": "white",
             "minorgridcolor": "white",
             "startlinecolor": "#2a3f5f"
            },
            "type": "carpet"
           }
          ],
          "choropleth": [
           {
            "colorbar": {
             "outlinewidth": 0,
             "ticks": ""
            },
            "type": "choropleth"
           }
          ],
          "contour": [
           {
            "colorbar": {
             "outlinewidth": 0,
             "ticks": ""
            },
            "colorscale": [
             [
              0,
              "#0d0887"
             ],
             [
              0.1111111111111111,
              "#46039f"
             ],
             [
              0.2222222222222222,
              "#7201a8"
             ],
             [
              0.3333333333333333,
              "#9c179e"
             ],
             [
              0.4444444444444444,
              "#bd3786"
             ],
             [
              0.5555555555555556,
              "#d8576b"
             ],
             [
              0.6666666666666666,
              "#ed7953"
             ],
             [
              0.7777777777777778,
              "#fb9f3a"
             ],
             [
              0.8888888888888888,
              "#fdca26"
             ],
             [
              1,
              "#f0f921"
             ]
            ],
            "type": "contour"
           }
          ],
          "contourcarpet": [
           {
            "colorbar": {
             "outlinewidth": 0,
             "ticks": ""
            },
            "type": "contourcarpet"
           }
          ],
          "heatmap": [
           {
            "colorbar": {
             "outlinewidth": 0,
             "ticks": ""
            },
            "colorscale": [
             [
              0,
              "#0d0887"
             ],
             [
              0.1111111111111111,
              "#46039f"
             ],
             [
              0.2222222222222222,
              "#7201a8"
             ],
             [
              0.3333333333333333,
              "#9c179e"
             ],
             [
              0.4444444444444444,
              "#bd3786"
             ],
             [
              0.5555555555555556,
              "#d8576b"
             ],
             [
              0.6666666666666666,
              "#ed7953"
             ],
             [
              0.7777777777777778,
              "#fb9f3a"
             ],
             [
              0.8888888888888888,
              "#fdca26"
             ],
             [
              1,
              "#f0f921"
             ]
            ],
            "type": "heatmap"
           }
          ],
          "heatmapgl": [
           {
            "colorbar": {
             "outlinewidth": 0,
             "ticks": ""
            },
            "colorscale": [
             [
              0,
              "#0d0887"
             ],
             [
              0.1111111111111111,
              "#46039f"
             ],
             [
              0.2222222222222222,
              "#7201a8"
             ],
             [
              0.3333333333333333,
              "#9c179e"
             ],
             [
              0.4444444444444444,
              "#bd3786"
             ],
             [
              0.5555555555555556,
              "#d8576b"
             ],
             [
              0.6666666666666666,
              "#ed7953"
             ],
             [
              0.7777777777777778,
              "#fb9f3a"
             ],
             [
              0.8888888888888888,
              "#fdca26"
             ],
             [
              1,
              "#f0f921"
             ]
            ],
            "type": "heatmapgl"
           }
          ],
          "histogram": [
           {
            "marker": {
             "pattern": {
              "fillmode": "overlay",
              "size": 10,
              "solidity": 0.2
             }
            },
            "type": "histogram"
           }
          ],
          "histogram2d": [
           {
            "colorbar": {
             "outlinewidth": 0,
             "ticks": ""
            },
            "colorscale": [
             [
              0,
              "#0d0887"
             ],
             [
              0.1111111111111111,
              "#46039f"
             ],
             [
              0.2222222222222222,
              "#7201a8"
             ],
             [
              0.3333333333333333,
              "#9c179e"
             ],
             [
              0.4444444444444444,
              "#bd3786"
             ],
             [
              0.5555555555555556,
              "#d8576b"
             ],
             [
              0.6666666666666666,
              "#ed7953"
             ],
             [
              0.7777777777777778,
              "#fb9f3a"
             ],
             [
              0.8888888888888888,
              "#fdca26"
             ],
             [
              1,
              "#f0f921"
             ]
            ],
            "type": "histogram2d"
           }
          ],
          "histogram2dcontour": [
           {
            "colorbar": {
             "outlinewidth": 0,
             "ticks": ""
            },
            "colorscale": [
             [
              0,
              "#0d0887"
             ],
             [
              0.1111111111111111,
              "#46039f"
             ],
             [
              0.2222222222222222,
              "#7201a8"
             ],
             [
              0.3333333333333333,
              "#9c179e"
             ],
             [
              0.4444444444444444,
              "#bd3786"
             ],
             [
              0.5555555555555556,
              "#d8576b"
             ],
             [
              0.6666666666666666,
              "#ed7953"
             ],
             [
              0.7777777777777778,
              "#fb9f3a"
             ],
             [
              0.8888888888888888,
              "#fdca26"
             ],
             [
              1,
              "#f0f921"
             ]
            ],
            "type": "histogram2dcontour"
           }
          ],
          "mesh3d": [
           {
            "colorbar": {
             "outlinewidth": 0,
             "ticks": ""
            },
            "type": "mesh3d"
           }
          ],
          "parcoords": [
           {
            "line": {
             "colorbar": {
              "outlinewidth": 0,
              "ticks": ""
             }
            },
            "type": "parcoords"
           }
          ],
          "pie": [
           {
            "automargin": true,
            "type": "pie"
           }
          ],
          "scatter": [
           {
            "fillpattern": {
             "fillmode": "overlay",
             "size": 10,
             "solidity": 0.2
            },
            "type": "scatter"
           }
          ],
          "scatter3d": [
           {
            "line": {
             "colorbar": {
              "outlinewidth": 0,
              "ticks": ""
             }
            },
            "marker": {
             "colorbar": {
              "outlinewidth": 0,
              "ticks": ""
             }
            },
            "type": "scatter3d"
           }
          ],
          "scattercarpet": [
           {
            "marker": {
             "colorbar": {
              "outlinewidth": 0,
              "ticks": ""
             }
            },
            "type": "scattercarpet"
           }
          ],
          "scattergeo": [
           {
            "marker": {
             "colorbar": {
              "outlinewidth": 0,
              "ticks": ""
             }
            },
            "type": "scattergeo"
           }
          ],
          "scattergl": [
           {
            "marker": {
             "colorbar": {
              "outlinewidth": 0,
              "ticks": ""
             }
            },
            "type": "scattergl"
           }
          ],
          "scattermapbox": [
           {
            "marker": {
             "colorbar": {
              "outlinewidth": 0,
              "ticks": ""
             }
            },
            "type": "scattermapbox"
           }
          ],
          "scatterpolar": [
           {
            "marker": {
             "colorbar": {
              "outlinewidth": 0,
              "ticks": ""
             }
            },
            "type": "scatterpolar"
           }
          ],
          "scatterpolargl": [
           {
            "marker": {
             "colorbar": {
              "outlinewidth": 0,
              "ticks": ""
             }
            },
            "type": "scatterpolargl"
           }
          ],
          "scatterternary": [
           {
            "marker": {
             "colorbar": {
              "outlinewidth": 0,
              "ticks": ""
             }
            },
            "type": "scatterternary"
           }
          ],
          "surface": [
           {
            "colorbar": {
             "outlinewidth": 0,
             "ticks": ""
            },
            "colorscale": [
             [
              0,
              "#0d0887"
             ],
             [
              0.1111111111111111,
              "#46039f"
             ],
             [
              0.2222222222222222,
              "#7201a8"
             ],
             [
              0.3333333333333333,
              "#9c179e"
             ],
             [
              0.4444444444444444,
              "#bd3786"
             ],
             [
              0.5555555555555556,
              "#d8576b"
             ],
             [
              0.6666666666666666,
              "#ed7953"
             ],
             [
              0.7777777777777778,
              "#fb9f3a"
             ],
             [
              0.8888888888888888,
              "#fdca26"
             ],
             [
              1,
              "#f0f921"
             ]
            ],
            "type": "surface"
           }
          ],
          "table": [
           {
            "cells": {
             "fill": {
              "color": "#EBF0F8"
             },
             "line": {
              "color": "white"
             }
            },
            "header": {
             "fill": {
              "color": "#C8D4E3"
             },
             "line": {
              "color": "white"
             }
            },
            "type": "table"
           }
          ]
         },
         "layout": {
          "annotationdefaults": {
           "arrowcolor": "#2a3f5f",
           "arrowhead": 0,
           "arrowwidth": 1
          },
          "autotypenumbers": "strict",
          "coloraxis": {
           "colorbar": {
            "outlinewidth": 0,
            "ticks": ""
           }
          },
          "colorscale": {
           "diverging": [
            [
             0,
             "#8e0152"
            ],
            [
             0.1,
             "#c51b7d"
            ],
            [
             0.2,
             "#de77ae"
            ],
            [
             0.3,
             "#f1b6da"
            ],
            [
             0.4,
             "#fde0ef"
            ],
            [
             0.5,
             "#f7f7f7"
            ],
            [
             0.6,
             "#e6f5d0"
            ],
            [
             0.7,
             "#b8e186"
            ],
            [
             0.8,
             "#7fbc41"
            ],
            [
             0.9,
             "#4d9221"
            ],
            [
             1,
             "#276419"
            ]
           ],
           "sequential": [
            [
             0,
             "#0d0887"
            ],
            [
             0.1111111111111111,
             "#46039f"
            ],
            [
             0.2222222222222222,
             "#7201a8"
            ],
            [
             0.3333333333333333,
             "#9c179e"
            ],
            [
             0.4444444444444444,
             "#bd3786"
            ],
            [
             0.5555555555555556,
             "#d8576b"
            ],
            [
             0.6666666666666666,
             "#ed7953"
            ],
            [
             0.7777777777777778,
             "#fb9f3a"
            ],
            [
             0.8888888888888888,
             "#fdca26"
            ],
            [
             1,
             "#f0f921"
            ]
           ],
           "sequentialminus": [
            [
             0,
             "#0d0887"
            ],
            [
             0.1111111111111111,
             "#46039f"
            ],
            [
             0.2222222222222222,
             "#7201a8"
            ],
            [
             0.3333333333333333,
             "#9c179e"
            ],
            [
             0.4444444444444444,
             "#bd3786"
            ],
            [
             0.5555555555555556,
             "#d8576b"
            ],
            [
             0.6666666666666666,
             "#ed7953"
            ],
            [
             0.7777777777777778,
             "#fb9f3a"
            ],
            [
             0.8888888888888888,
             "#fdca26"
            ],
            [
             1,
             "#f0f921"
            ]
           ]
          },
          "colorway": [
           "#636efa",
           "#EF553B",
           "#00cc96",
           "#ab63fa",
           "#FFA15A",
           "#19d3f3",
           "#FF6692",
           "#B6E880",
           "#FF97FF",
           "#FECB52"
          ],
          "font": {
           "color": "#2a3f5f"
          },
          "geo": {
           "bgcolor": "white",
           "lakecolor": "white",
           "landcolor": "#E5ECF6",
           "showlakes": true,
           "showland": true,
           "subunitcolor": "white"
          },
          "hoverlabel": {
           "align": "left"
          },
          "hovermode": "closest",
          "mapbox": {
           "style": "light"
          },
          "paper_bgcolor": "white",
          "plot_bgcolor": "#E5ECF6",
          "polar": {
           "angularaxis": {
            "gridcolor": "white",
            "linecolor": "white",
            "ticks": ""
           },
           "bgcolor": "#E5ECF6",
           "radialaxis": {
            "gridcolor": "white",
            "linecolor": "white",
            "ticks": ""
           }
          },
          "scene": {
           "xaxis": {
            "backgroundcolor": "#E5ECF6",
            "gridcolor": "white",
            "gridwidth": 2,
            "linecolor": "white",
            "showbackground": true,
            "ticks": "",
            "zerolinecolor": "white"
           },
           "yaxis": {
            "backgroundcolor": "#E5ECF6",
            "gridcolor": "white",
            "gridwidth": 2,
            "linecolor": "white",
            "showbackground": true,
            "ticks": "",
            "zerolinecolor": "white"
           },
           "zaxis": {
            "backgroundcolor": "#E5ECF6",
            "gridcolor": "white",
            "gridwidth": 2,
            "linecolor": "white",
            "showbackground": true,
            "ticks": "",
            "zerolinecolor": "white"
           }
          },
          "shapedefaults": {
           "line": {
            "color": "#2a3f5f"
           }
          },
          "ternary": {
           "aaxis": {
            "gridcolor": "white",
            "linecolor": "white",
            "ticks": ""
           },
           "baxis": {
            "gridcolor": "white",
            "linecolor": "white",
            "ticks": ""
           },
           "bgcolor": "#E5ECF6",
           "caxis": {
            "gridcolor": "white",
            "linecolor": "white",
            "ticks": ""
           }
          },
          "title": {
           "x": 0.05
          },
          "xaxis": {
           "automargin": true,
           "gridcolor": "white",
           "linecolor": "white",
           "ticks": "",
           "title": {
            "standoff": 15
           },
           "zerolinecolor": "white",
           "zerolinewidth": 2
          },
          "yaxis": {
           "automargin": true,
           "gridcolor": "white",
           "linecolor": "white",
           "ticks": "",
           "title": {
            "standoff": 15
           },
           "zerolinecolor": "white",
           "zerolinewidth": 2
          }
         }
        },
        "title": {
         "text": "Сравнение кластеров"
        },
        "width": 800
       }
      },
      "text/html": [
       "<div>                            <div id=\"e56d5f34-6fd6-4cd1-8428-1942ae6344ea\" class=\"plotly-graph-div\" style=\"height:800px; width:800px;\"></div>            <script type=\"text/javascript\">                require([\"plotly\"], function(Plotly) {                    window.PLOTLYENV=window.PLOTLYENV || {};                                    if (document.getElementById(\"e56d5f34-6fd6-4cd1-8428-1942ae6344ea\")) {                    Plotly.newPlot(                        \"e56d5f34-6fd6-4cd1-8428-1942ae6344ea\",                        [{\"fill\":\"toself\",\"name\":\"Cluster 0\",\"r\":[0.9999999999999998,0.9999999999999999,0.7023511011039099,1.0,0.0],\"theta\":[\"PerCapita\",\"GRP\",\"Retail\",\"Workers%\",\"Poverty%\"],\"type\":\"scatterpolar\",\"subplot\":\"polar\"},{\"fill\":\"toself\",\"name\":\"Cluster 1\",\"r\":[0.1732858635638308,0.04437654119136955,0.6746209248528205,0.3673245614035088,0.43848580441640367],\"theta\":[\"PerCapita\",\"GRP\",\"Retail\",\"Workers%\",\"Poverty%\"],\"type\":\"scatterpolar\",\"subplot\":\"polar2\"},{\"fill\":\"toself\",\"name\":\"Cluster 2\",\"r\":[0.3678033218606289,0.1603121306924453,1.0,0.4769736842105261,0.2712933753943217],\"theta\":[\"PerCapita\",\"GRP\",\"Retail\",\"Workers%\",\"Poverty%\"],\"type\":\"scatterpolar\",\"subplot\":\"polar3\"},{\"fill\":\"toself\",\"name\":\"Cluster 3\",\"r\":[0.0,0.0,0.0,0.0,1.0],\"theta\":[\"PerCapita\",\"GRP\",\"Retail\",\"Workers%\",\"Poverty%\"],\"type\":\"scatterpolar\",\"subplot\":\"polar4\"}],                        {\"template\":{\"data\":{\"histogram2dcontour\":[{\"type\":\"histogram2dcontour\",\"colorbar\":{\"outlinewidth\":0,\"ticks\":\"\"},\"colorscale\":[[0.0,\"#0d0887\"],[0.1111111111111111,\"#46039f\"],[0.2222222222222222,\"#7201a8\"],[0.3333333333333333,\"#9c179e\"],[0.4444444444444444,\"#bd3786\"],[0.5555555555555556,\"#d8576b\"],[0.6666666666666666,\"#ed7953\"],[0.7777777777777778,\"#fb9f3a\"],[0.8888888888888888,\"#fdca26\"],[1.0,\"#f0f921\"]]}],\"choropleth\":[{\"type\":\"choropleth\",\"colorbar\":{\"outlinewidth\":0,\"ticks\":\"\"}}],\"histogram2d\":[{\"type\":\"histogram2d\",\"colorbar\":{\"outlinewidth\":0,\"ticks\":\"\"},\"colorscale\":[[0.0,\"#0d0887\"],[0.1111111111111111,\"#46039f\"],[0.2222222222222222,\"#7201a8\"],[0.3333333333333333,\"#9c179e\"],[0.4444444444444444,\"#bd3786\"],[0.5555555555555556,\"#d8576b\"],[0.6666666666666666,\"#ed7953\"],[0.7777777777777778,\"#fb9f3a\"],[0.8888888888888888,\"#fdca26\"],[1.0,\"#f0f921\"]]}],\"heatmap\":[{\"type\":\"heatmap\",\"colorbar\":{\"outlinewidth\":0,\"ticks\":\"\"},\"colorscale\":[[0.0,\"#0d0887\"],[0.1111111111111111,\"#46039f\"],[0.2222222222222222,\"#7201a8\"],[0.3333333333333333,\"#9c179e\"],[0.4444444444444444,\"#bd3786\"],[0.5555555555555556,\"#d8576b\"],[0.6666666666666666,\"#ed7953\"],[0.7777777777777778,\"#fb9f3a\"],[0.8888888888888888,\"#fdca26\"],[1.0,\"#f0f921\"]]}],\"heatmapgl\":[{\"type\":\"heatmapgl\",\"colorbar\":{\"outlinewidth\":0,\"ticks\":\"\"},\"colorscale\":[[0.0,\"#0d0887\"],[0.1111111111111111,\"#46039f\"],[0.2222222222222222,\"#7201a8\"],[0.3333333333333333,\"#9c179e\"],[0.4444444444444444,\"#bd3786\"],[0.5555555555555556,\"#d8576b\"],[0.6666666666666666,\"#ed7953\"],[0.7777777777777778,\"#fb9f3a\"],[0.8888888888888888,\"#fdca26\"],[1.0,\"#f0f921\"]]}],\"contourcarpet\":[{\"type\":\"contourcarpet\",\"colorbar\":{\"outlinewidth\":0,\"ticks\":\"\"}}],\"contour\":[{\"type\":\"contour\",\"colorbar\":{\"outlinewidth\":0,\"ticks\":\"\"},\"colorscale\":[[0.0,\"#0d0887\"],[0.1111111111111111,\"#46039f\"],[0.2222222222222222,\"#7201a8\"],[0.3333333333333333,\"#9c179e\"],[0.4444444444444444,\"#bd3786\"],[0.5555555555555556,\"#d8576b\"],[0.6666666666666666,\"#ed7953\"],[0.7777777777777778,\"#fb9f3a\"],[0.8888888888888888,\"#fdca26\"],[1.0,\"#f0f921\"]]}],\"surface\":[{\"type\":\"surface\",\"colorbar\":{\"outlinewidth\":0,\"ticks\":\"\"},\"colorscale\":[[0.0,\"#0d0887\"],[0.1111111111111111,\"#46039f\"],[0.2222222222222222,\"#7201a8\"],[0.3333333333333333,\"#9c179e\"],[0.4444444444444444,\"#bd3786\"],[0.5555555555555556,\"#d8576b\"],[0.6666666666666666,\"#ed7953\"],[0.7777777777777778,\"#fb9f3a\"],[0.8888888888888888,\"#fdca26\"],[1.0,\"#f0f921\"]]}],\"mesh3d\":[{\"type\":\"mesh3d\",\"colorbar\":{\"outlinewidth\":0,\"ticks\":\"\"}}],\"scatter\":[{\"fillpattern\":{\"fillmode\":\"overlay\",\"size\":10,\"solidity\":0.2},\"type\":\"scatter\"}],\"parcoords\":[{\"type\":\"parcoords\",\"line\":{\"colorbar\":{\"outlinewidth\":0,\"ticks\":\"\"}}}],\"scatterpolargl\":[{\"type\":\"scatterpolargl\",\"marker\":{\"colorbar\":{\"outlinewidth\":0,\"ticks\":\"\"}}}],\"bar\":[{\"error_x\":{\"color\":\"#2a3f5f\"},\"error_y\":{\"color\":\"#2a3f5f\"},\"marker\":{\"line\":{\"color\":\"#E5ECF6\",\"width\":0.5},\"pattern\":{\"fillmode\":\"overlay\",\"size\":10,\"solidity\":0.2}},\"type\":\"bar\"}],\"scattergeo\":[{\"type\":\"scattergeo\",\"marker\":{\"colorbar\":{\"outlinewidth\":0,\"ticks\":\"\"}}}],\"scatterpolar\":[{\"type\":\"scatterpolar\",\"marker\":{\"colorbar\":{\"outlinewidth\":0,\"ticks\":\"\"}}}],\"histogram\":[{\"marker\":{\"pattern\":{\"fillmode\":\"overlay\",\"size\":10,\"solidity\":0.2}},\"type\":\"histogram\"}],\"scattergl\":[{\"type\":\"scattergl\",\"marker\":{\"colorbar\":{\"outlinewidth\":0,\"ticks\":\"\"}}}],\"scatter3d\":[{\"type\":\"scatter3d\",\"line\":{\"colorbar\":{\"outlinewidth\":0,\"ticks\":\"\"}},\"marker\":{\"colorbar\":{\"outlinewidth\":0,\"ticks\":\"\"}}}],\"scattermapbox\":[{\"type\":\"scattermapbox\",\"marker\":{\"colorbar\":{\"outlinewidth\":0,\"ticks\":\"\"}}}],\"scatterternary\":[{\"type\":\"scatterternary\",\"marker\":{\"colorbar\":{\"outlinewidth\":0,\"ticks\":\"\"}}}],\"scattercarpet\":[{\"type\":\"scattercarpet\",\"marker\":{\"colorbar\":{\"outlinewidth\":0,\"ticks\":\"\"}}}],\"carpet\":[{\"aaxis\":{\"endlinecolor\":\"#2a3f5f\",\"gridcolor\":\"white\",\"linecolor\":\"white\",\"minorgridcolor\":\"white\",\"startlinecolor\":\"#2a3f5f\"},\"baxis\":{\"endlinecolor\":\"#2a3f5f\",\"gridcolor\":\"white\",\"linecolor\":\"white\",\"minorgridcolor\":\"white\",\"startlinecolor\":\"#2a3f5f\"},\"type\":\"carpet\"}],\"table\":[{\"cells\":{\"fill\":{\"color\":\"#EBF0F8\"},\"line\":{\"color\":\"white\"}},\"header\":{\"fill\":{\"color\":\"#C8D4E3\"},\"line\":{\"color\":\"white\"}},\"type\":\"table\"}],\"barpolar\":[{\"marker\":{\"line\":{\"color\":\"#E5ECF6\",\"width\":0.5},\"pattern\":{\"fillmode\":\"overlay\",\"size\":10,\"solidity\":0.2}},\"type\":\"barpolar\"}],\"pie\":[{\"automargin\":true,\"type\":\"pie\"}]},\"layout\":{\"autotypenumbers\":\"strict\",\"colorway\":[\"#636efa\",\"#EF553B\",\"#00cc96\",\"#ab63fa\",\"#FFA15A\",\"#19d3f3\",\"#FF6692\",\"#B6E880\",\"#FF97FF\",\"#FECB52\"],\"font\":{\"color\":\"#2a3f5f\"},\"hovermode\":\"closest\",\"hoverlabel\":{\"align\":\"left\"},\"paper_bgcolor\":\"white\",\"plot_bgcolor\":\"#E5ECF6\",\"polar\":{\"bgcolor\":\"#E5ECF6\",\"angularaxis\":{\"gridcolor\":\"white\",\"linecolor\":\"white\",\"ticks\":\"\"},\"radialaxis\":{\"gridcolor\":\"white\",\"linecolor\":\"white\",\"ticks\":\"\"}},\"ternary\":{\"bgcolor\":\"#E5ECF6\",\"aaxis\":{\"gridcolor\":\"white\",\"linecolor\":\"white\",\"ticks\":\"\"},\"baxis\":{\"gridcolor\":\"white\",\"linecolor\":\"white\",\"ticks\":\"\"},\"caxis\":{\"gridcolor\":\"white\",\"linecolor\":\"white\",\"ticks\":\"\"}},\"coloraxis\":{\"colorbar\":{\"outlinewidth\":0,\"ticks\":\"\"}},\"colorscale\":{\"sequential\":[[0.0,\"#0d0887\"],[0.1111111111111111,\"#46039f\"],[0.2222222222222222,\"#7201a8\"],[0.3333333333333333,\"#9c179e\"],[0.4444444444444444,\"#bd3786\"],[0.5555555555555556,\"#d8576b\"],[0.6666666666666666,\"#ed7953\"],[0.7777777777777778,\"#fb9f3a\"],[0.8888888888888888,\"#fdca26\"],[1.0,\"#f0f921\"]],\"sequentialminus\":[[0.0,\"#0d0887\"],[0.1111111111111111,\"#46039f\"],[0.2222222222222222,\"#7201a8\"],[0.3333333333333333,\"#9c179e\"],[0.4444444444444444,\"#bd3786\"],[0.5555555555555556,\"#d8576b\"],[0.6666666666666666,\"#ed7953\"],[0.7777777777777778,\"#fb9f3a\"],[0.8888888888888888,\"#fdca26\"],[1.0,\"#f0f921\"]],\"diverging\":[[0,\"#8e0152\"],[0.1,\"#c51b7d\"],[0.2,\"#de77ae\"],[0.3,\"#f1b6da\"],[0.4,\"#fde0ef\"],[0.5,\"#f7f7f7\"],[0.6,\"#e6f5d0\"],[0.7,\"#b8e186\"],[0.8,\"#7fbc41\"],[0.9,\"#4d9221\"],[1,\"#276419\"]]},\"xaxis\":{\"gridcolor\":\"white\",\"linecolor\":\"white\",\"ticks\":\"\",\"title\":{\"standoff\":15},\"zerolinecolor\":\"white\",\"automargin\":true,\"zerolinewidth\":2},\"yaxis\":{\"gridcolor\":\"white\",\"linecolor\":\"white\",\"ticks\":\"\",\"title\":{\"standoff\":15},\"zerolinecolor\":\"white\",\"automargin\":true,\"zerolinewidth\":2},\"scene\":{\"xaxis\":{\"backgroundcolor\":\"#E5ECF6\",\"gridcolor\":\"white\",\"linecolor\":\"white\",\"showbackground\":true,\"ticks\":\"\",\"zerolinecolor\":\"white\",\"gridwidth\":2},\"yaxis\":{\"backgroundcolor\":\"#E5ECF6\",\"gridcolor\":\"white\",\"linecolor\":\"white\",\"showbackground\":true,\"ticks\":\"\",\"zerolinecolor\":\"white\",\"gridwidth\":2},\"zaxis\":{\"backgroundcolor\":\"#E5ECF6\",\"gridcolor\":\"white\",\"linecolor\":\"white\",\"showbackground\":true,\"ticks\":\"\",\"zerolinecolor\":\"white\",\"gridwidth\":2}},\"shapedefaults\":{\"line\":{\"color\":\"#2a3f5f\"}},\"annotationdefaults\":{\"arrowcolor\":\"#2a3f5f\",\"arrowhead\":0,\"arrowwidth\":1},\"geo\":{\"bgcolor\":\"white\",\"landcolor\":\"#E5ECF6\",\"subunitcolor\":\"white\",\"showland\":true,\"showlakes\":true,\"lakecolor\":\"white\"},\"title\":{\"x\":0.05},\"mapbox\":{\"style\":\"light\"}}},\"polar\":{\"domain\":{\"x\":[0.0,0.45],\"y\":[0.625,1.0]},\"radialaxis\":{\"range\":[0,1]}},\"polar2\":{\"domain\":{\"x\":[0.55,1.0],\"y\":[0.625,1.0]},\"radialaxis\":{\"range\":[0,1]}},\"polar3\":{\"domain\":{\"x\":[0.0,0.45],\"y\":[0.0,0.375]},\"radialaxis\":{\"range\":[0,1]}},\"polar4\":{\"domain\":{\"x\":[0.55,1.0],\"y\":[0.0,0.375]},\"radialaxis\":{\"range\":[0,1]}},\"annotations\":[{\"font\":{\"size\":16},\"showarrow\":false,\"text\":\"Cluster 0\",\"x\":0.225,\"xanchor\":\"center\",\"xref\":\"paper\",\"y\":1.0,\"yanchor\":\"bottom\",\"yref\":\"paper\"},{\"font\":{\"size\":16},\"showarrow\":false,\"text\":\"Cluster 1\",\"x\":0.775,\"xanchor\":\"center\",\"xref\":\"paper\",\"y\":1.0,\"yanchor\":\"bottom\",\"yref\":\"paper\"},{\"font\":{\"size\":16},\"showarrow\":false,\"text\":\"Cluster 2\",\"x\":0.225,\"xanchor\":\"center\",\"xref\":\"paper\",\"y\":0.375,\"yanchor\":\"bottom\",\"yref\":\"paper\"},{\"font\":{\"size\":16},\"showarrow\":false,\"text\":\"Cluster 3\",\"x\":0.775,\"xanchor\":\"center\",\"xref\":\"paper\",\"y\":0.375,\"yanchor\":\"bottom\",\"yref\":\"paper\"}],\"font\":{\"size\":16},\"title\":{\"text\":\"\\u0421\\u0440\\u0430\\u0432\\u043d\\u0435\\u043d\\u0438\\u0435 \\u043a\\u043b\\u0430\\u0441\\u0442\\u0435\\u0440\\u043e\\u0432\"},\"showlegend\":false,\"autosize\":false,\"width\":800,\"height\":800},                        {\"responsive\": true}                    ).then(function(){\n",
       "                            \n",
       "var gd = document.getElementById('e56d5f34-6fd6-4cd1-8428-1942ae6344ea');\n",
       "var x = new MutationObserver(function (mutations, observer) {{\n",
       "        var display = window.getComputedStyle(gd).display;\n",
       "        if (!display || display === 'none') {{\n",
       "            console.log([gd, 'removed!']);\n",
       "            Plotly.purge(gd);\n",
       "            observer.disconnect();\n",
       "        }}\n",
       "}});\n",
       "\n",
       "// Listen for the removal of the full notebook cells\n",
       "var notebookContainer = gd.closest('#notebook-container');\n",
       "if (notebookContainer) {{\n",
       "    x.observe(notebookContainer, {childList: true});\n",
       "}}\n",
       "\n",
       "// Listen for the clearing of the current output cell\n",
       "var outputEl = gd.closest('.output');\n",
       "if (outputEl) {{\n",
       "    x.observe(outputEl, {childList: true});\n",
       "}}\n",
       "\n",
       "                        })                };                });            </script>        </div>"
      ]
     },
     "metadata": {},
     "output_type": "display_data"
    }
   ],
   "source": [
    "# Нормализуем данные о доходах на душу населения\n",
    "russia_regions_cl['per_capita_normalized'] = russia_regions_cl['per_capita'] / russia_regions_cl['living_wage']\n",
    "russia_regions_cl['retail_normalized'] = russia_regions_cl['retail'] / russia_regions_cl['living_wage']\n",
    "\n",
    "# Выборем интересующие столбцы\n",
    "cols = ['per_capita_normalized', 'grp', 'retail_normalized', 'workers_percent', 'poverty_percent']\n",
    "\n",
    "# Сгруппируем по кластерам и вычислим медианы\n",
    "medians = russia_regions_cl.groupby('Cluster')[cols].median()\n",
    "\n",
    "# Переименуем столбцы для удобства\n",
    "medians.rename({\n",
    "    'per_capita_normalized': 'PerCapita',\n",
    "    'grp': 'GRP',\n",
    "    'retail_normalized': 'Retail',\n",
    "    'workers_percent': 'Workers%',\n",
    "    'poverty_percent': 'Poverty%'}, \n",
    "    axis=1, inplace=True)\n",
    "\n",
    "# Масштабируем данные\n",
    "scaler = MinMaxScaler()\n",
    "medians_scaled = pd.DataFrame(scaler.fit_transform(medians), \n",
    "                              columns=medians.columns,\n",
    "                              index=medians.index)\n",
    "\n",
    "# Создадим полярные диаграммы для каждого кластера\n",
    "fig = make_subplots(rows=2, cols=2, specs=[[{'type': 'polar'}]*2]*2, \n",
    "                   subplot_titles=('Cluster 0', 'Cluster 1', 'Cluster 2', 'Cluster 3'))\n",
    "\n",
    "\n",
    "# Цикл для добавления диаграммы для каждого кластера\n",
    "for i in range(len(medians_scaled)):\n",
    "    row = (i // 2) + 1  # Определим строки для текущего кластера\n",
    "    col = (i % 2) + 1   # Определим столбцы для текущего кластера\n",
    "    fig.add_trace(go.Scatterpolar(\n",
    "        r = medians_scaled.iloc[i].values,\n",
    "        theta = medians_scaled.columns,\n",
    "        fill='toself',\n",
    "        name = f'Cluster {i}'\n",
    "    ), row, col)\n",
    "\n",
    "# Обновим макет графика\n",
    "fig.update_polars(radialaxis=dict(range=[0, 1]))\n",
    "fig.update_layout(\n",
    "    title=\"Сравнение кластеров\",\n",
    "    font_size=16,\n",
    "    showlegend=False,\n",
    "    autosize=False,\n",
    "    width=800,\n",
    "    height=800\n",
    ")\n",
    "\n",
    "fig.show()"
   ]
  },
  {
   "cell_type": "code",
   "execution_count": 31,
   "id": "fcceb39c",
   "metadata": {},
   "outputs": [
    {
     "data": {
      "text/plain": [
       "'Медианные значения в числовом выражении:'"
      ]
     },
     "metadata": {},
     "output_type": "display_data"
    },
    {
     "data": {
      "text/html": [
       "<div>\n",
       "<style scoped>\n",
       "    .dataframe tbody tr th:only-of-type {\n",
       "        vertical-align: middle;\n",
       "    }\n",
       "\n",
       "    .dataframe tbody tr th {\n",
       "        vertical-align: top;\n",
       "    }\n",
       "\n",
       "    .dataframe thead th {\n",
       "        text-align: right;\n",
       "    }\n",
       "</style>\n",
       "<table border=\"1\" class=\"dataframe\">\n",
       "  <thead>\n",
       "    <tr style=\"text-align: right;\">\n",
       "      <th></th>\n",
       "      <th>PerCapita</th>\n",
       "      <th>GRP</th>\n",
       "      <th>Retail</th>\n",
       "      <th>Workers%</th>\n",
       "      <th>Poverty%</th>\n",
       "    </tr>\n",
       "    <tr>\n",
       "      <th>Cluster</th>\n",
       "      <th></th>\n",
       "      <th></th>\n",
       "      <th></th>\n",
       "      <th></th>\n",
       "      <th></th>\n",
       "    </tr>\n",
       "  </thead>\n",
       "  <tbody>\n",
       "    <tr>\n",
       "      <th>0</th>\n",
       "      <td>3.64</td>\n",
       "      <td>2047106.75</td>\n",
       "      <td>15.09</td>\n",
       "      <td>106.55</td>\n",
       "      <td>7.85</td>\n",
       "    </tr>\n",
       "    <tr>\n",
       "      <th>1</th>\n",
       "      <td>2.15</td>\n",
       "      <td>325659.60</td>\n",
       "      <td>14.91</td>\n",
       "      <td>77.70</td>\n",
       "      <td>14.80</td>\n",
       "    </tr>\n",
       "    <tr>\n",
       "      <th>2</th>\n",
       "      <td>2.50</td>\n",
       "      <td>534504.40</td>\n",
       "      <td>17.03</td>\n",
       "      <td>82.70</td>\n",
       "      <td>12.15</td>\n",
       "    </tr>\n",
       "    <tr>\n",
       "      <th>3</th>\n",
       "      <td>1.84</td>\n",
       "      <td>245720.30</td>\n",
       "      <td>10.50</td>\n",
       "      <td>60.95</td>\n",
       "      <td>23.70</td>\n",
       "    </tr>\n",
       "  </tbody>\n",
       "</table>\n",
       "</div>"
      ],
      "text/plain": [
       "         PerCapita        GRP  Retail  Workers%  Poverty%\n",
       "Cluster                                                  \n",
       "0             3.64 2047106.75   15.09    106.55      7.85\n",
       "1             2.15  325659.60   14.91     77.70     14.80\n",
       "2             2.50  534504.40   17.03     82.70     12.15\n",
       "3             1.84  245720.30   10.50     60.95     23.70"
      ]
     },
     "metadata": {},
     "output_type": "display_data"
    }
   ],
   "source": [
    "display('Медианные значения в числовом выражении:', medians)"
   ]
  },
  {
   "cell_type": "markdown",
   "id": "6e97b6c2",
   "metadata": {},
   "source": [
    "**Кластер_0 - \"Богатые регионы\"**. Медианные показатели (в расчете на одного человека): зарплата 2.2 прожиточных минимума в месяц, валовый региональный продукт около 345 т.р., годовой объем розничной торговли 15 прожиточных минимумов, 78% работающего населения, 14.9% населения за чертой бедности."
   ]
  },
  {
   "cell_type": "code",
   "execution_count": 33,
   "id": "5f5ba111",
   "metadata": {},
   "outputs": [
    {
     "name": "stdout",
     "output_type": "stream",
     "text": [
      "\u001b[1;34mРегионы в Кластере_0:\u001b[0m Магаданская область, Ненецкий автономный округ, Сахалинская область, Ханты-Мансийский автономный округ - Югра, Чукотский автономный округ, Ямало-Ненецкий автономный округ, г. Москва, г. Санкт-Петербург\n"
     ]
    }
   ],
   "source": [
    "# Выведем эти регионы\n",
    "cluster_0 = russia_regions_cl[russia_regions_cl['Cluster'] == 0].index\n",
    "print(make_bold_blue(\"Регионы в Кластере_0:\"), ', '.join(cluster_0))"
   ]
  },
  {
   "cell_type": "markdown",
   "id": "26bcf1f0",
   "metadata": {},
   "source": [
    "**Кластер_1 - \"На уровне прожиточного минимума\"**. Тут наиболее высокие зарплаты, валовый региональный продукт в 5 раз выше среднестатистического, самый высокий процент работающего населения и самый низкий уровень бедности. Одновременно с этим тут средние показатели розничной торговли."
   ]
  },
  {
   "cell_type": "code",
   "execution_count": 35,
   "id": "d1850996",
   "metadata": {},
   "outputs": [
    {
     "name": "stdout",
     "output_type": "stream",
     "text": [
      "\u001b[1;34mРегионы в Кластере_1:\u001b[0m Алтайский край, Брянская область, Забайкальский край, Ивановская область, Кировская область, Костромская область, Курганская область, Новгородская область, Орловская область, Пензенская область, Псковская область, Республика Бурятия, Республика Карелия, Республика Крым, Республика Марий Эл, Республика Мордовия, Республика Северная Осетия-Алания, Республика Хакасия, Саратовская область, Смоленская область, Ставропольский край, Томская область, Ульяновская область, Чувашская Республика, г. Севастополь\n"
     ]
    }
   ],
   "source": [
    "# Выведем эти регионы\n",
    "cluster_1 = russia_regions_cl[russia_regions_cl['Cluster'] == 1].index\n",
    "print(make_bold_blue(\"Регионы в Кластере_1:\"), ', '.join(cluster_1))"
   ]
  },
  {
   "cell_type": "markdown",
   "id": "9079ab77",
   "metadata": {},
   "source": [
    "**Кластер_2 - \"Выше уровня прожиточного минимума\"**. Эти регионы, по-видимому, можно считать наиболее комфортными для жизни в РФ. Заработки выше среднего (хотя и значительно ниже ниже, чем у \"богатых регионов\"), относительно высокий валовый региональный продукт (соответственно более высокое наполнение региональных бюджетов), самый большой объем розничной торговли, процент бедного населения (12%, лишь чуть ниже, чем у Кластера_0)."
   ]
  },
  {
   "cell_type": "code",
   "execution_count": 36,
   "id": "1f63c625",
   "metadata": {},
   "outputs": [
    {
     "name": "stdout",
     "output_type": "stream",
     "text": [
      "\u001b[1;34mРегионы в Кластере_2:\u001b[0m Амурская область, Архангельская область, Астраханская область, Белгородская область, Владимирская область, Волгоградская область, Вологодская область, Воронежская область, Иркутская область, Калининградская область, Калужская область, Камчатский край, Кемеровская область, Краснодарский край, Красноярский край, Курская область, Ленинградская область, Липецкая область, Московская область, Мурманская область, Нижегородская область, Новосибирская область, Омская область, Оренбургская область, Пермский край, Приморский край, Республика Башкортостан, Республика Коми, Республика Саха (Якутия), Республика Татарстан, Ростовская область, Рязанская область, Самарская область, Свердловская область, Тамбовская область, Тверская область, Тульская область, Тюменская область, Удмуртская Республика, Хабаровский край, Челябинская область, Ярославская область\n"
     ]
    }
   ],
   "source": [
    "# Выведем эти регионы\n",
    "cluster_2 = russia_regions_cl[russia_regions_cl['Cluster'] == 2].index\n",
    "print(make_bold_blue(\"Регионы в Кластере_2:\"), ', '.join(cluster_2))"
   ]
  },
  {
   "cell_type": "markdown",
   "id": "248190fa",
   "metadata": {},
   "source": [
    "**Кластер_3 - \"Бедные регионы\"**. Наиболее низкие заработки, валовый региональный продукт, объемы розничной торговли показывает значения в полтора раза меньше чем у среднестатистического и при этом всего 60% работающего населения. Ну и тут конечно же присутствует самый высокий процент населения за чертой бедности (почти вдвое больше среднестатистического). Под среднестатистическими данными здесь понимаем медианные значения для Кластера_0."
   ]
  },
  {
   "cell_type": "code",
   "execution_count": 37,
   "id": "6606418a",
   "metadata": {},
   "outputs": [
    {
     "name": "stdout",
     "output_type": "stream",
     "text": [
      "\u001b[1;34mРегионы в Кластере_3:\u001b[0m Еврейская автономная область, Кабардино-Балкарская Республика, Карачаево-Черкесская Республика, Республика Адыгея, Республика Алтай, Республика Дагестан, Республика Ингушетия, Республика Калмыкия, Республика Тыва, Чеченская Республика\n"
     ]
    }
   ],
   "source": [
    "# Выведем эти регионы\n",
    "cluster_3 = russia_regions_cl[russia_regions_cl['Cluster'] == 3].index\n",
    "print(make_bold_blue(\"Регионы в Кластере_3:\"), ', '.join(cluster_3))"
   ]
  },
  {
   "cell_type": "markdown",
   "id": "5f4c225d",
   "metadata": {},
   "source": [
    "Предлагаю упорядочить кластера от бедных до богатых. \\\n",
    "То есть так: \n",
    "- Кластер_0 - \"Бедные регионы\", \n",
    "- Кластер_1 - \"На уровне прожиточного минимума\",\n",
    "- Кластер_2 - \"Выше уровня прожиточного минимума\", \n",
    "- Кластер_3 - \"Богатые регионы\". "
   ]
  },
  {
   "cell_type": "code",
   "execution_count": 38,
   "id": "470a5434",
   "metadata": {},
   "outputs": [],
   "source": [
    "# Создадим словарь сопоставления для изменения номеров кластеров\n",
    "cluster_mapping = {\n",
    "    3: 0,  # Бедные регионы теперь будут иметь номер 0\n",
    "    1: 1,  # На уровне прожиточного минимума теперь будет 1\n",
    "    2: 2,  # Выше уровня прожиточного минимума остается 2\n",
    "    0: 3   # Богатые регионы теперь будут иметь номер 3\n",
    "}\n",
    "# Применим сопоставления для изменения номеров кластеров\n",
    "russia_regions_cl['Cluster'] = russia_regions_cl['Cluster'].map(cluster_mapping)"
   ]
  },
  {
   "cell_type": "code",
   "execution_count": 40,
   "id": "51b5c17a",
   "metadata": {},
   "outputs": [
    {
     "name": "stdout",
     "output_type": "stream",
     "text": [
      "0    10\n",
      "1    25\n",
      "2    42\n",
      "3     8\n",
      "Name: Cluster, dtype: int64\n"
     ]
    }
   ],
   "source": [
    "# Проверим результат\n",
    "cluster_counts = russia_regions_cl['Cluster'].value_counts().sort_index()\n",
    "print(cluster_counts)"
   ]
  },
  {
   "cell_type": "markdown",
   "id": "068b418a",
   "metadata": {},
   "source": [
    "Рассмотрим статистическую значимость наблюдаемых различий. Как было показано в Части 3 настоящего проекта, распределения признаков не являются нормальными, а количество сравниваемых групп больше двух. В этом случае можно применить непараметрический критерий Краскела-Уоллиса для проверки гипотезы о том, что несколько выборок имеют одинаковое распределение."
   ]
  },
  {
   "cell_type": "code",
   "execution_count": 41,
   "id": "1655b4c8",
   "metadata": {},
   "outputs": [
    {
     "name": "stdout",
     "output_type": "stream",
     "text": [
      "per_capita_normalized: p-value = 0.000\n",
      "grp: p-value = 0.000\n",
      "retail_normalized: p-value = 0.000\n",
      "workers_percent: p-value = 0.000\n",
      "poverty_percent: p-value = 0.000\n"
     ]
    }
   ],
   "source": [
    "def kruskal_pvalue(df, col):\n",
    "    # Создаём список для значений из разных кластеров\n",
    "    cluster_values = [df[df['Cluster'] == cluster][col] for cluster in range(4)]\n",
    "    # Выполняем тест Краскела-Уоллиса\n",
    "    stat, p = kruskal(*cluster_values)\n",
    "    # Возвращаем p-value\n",
    "    return p\n",
    "\n",
    "# Список колонок для проверки\n",
    "cols = ['per_capita_normalized', 'grp', 'retail_normalized', 'workers_percent', 'poverty_percent']\n",
    "\n",
    "# Выводим результаты для каждой колонки\n",
    "for col in cols:\n",
    "    try:\n",
    "        p_value = kruskal_pvalue(russia_regions_cl, col)\n",
    "        print(f'{col}: p-value = {p_value:.3f}')\n",
    "    except ValueError as e:  # Это если, например, в кластере нет данных)\n",
    "        print(f'{col}: Невозможно вычислить p-value - {e}')"
   ]
  },
  {
   "cell_type": "markdown",
   "id": "466d5e45",
   "metadata": {},
   "source": [
    "p-значения оказались очень маленькими, на уровне 0.000 после округления до трех десятичных знаков. Это означает, что существуют статистически значимые различия между кластерами для каждого из этих показателей. Можно с уверенностью утверждать, что медианные значения этих показателей значимо различаются по кластерам. Это указывает на то, что кластеры имеют уникальные характеристики."
   ]
  },
  {
   "cell_type": "markdown",
   "id": "afd325a1",
   "metadata": {},
   "source": [
    "Проверим также справедливость выделения **\"Выше уровня прожиточного минимума\"** в отдельный Кластер_2 путем сравнения этой группы с Кластером_0 **\"На уровне прожиточного минимума\"** по критерию Манна-Уитни. Он нам поможет определить, есть ли значимые различия между двумя независимыми выборками."
   ]
  },
  {
   "cell_type": "code",
   "execution_count": 42,
   "id": "6096fbc8",
   "metadata": {},
   "outputs": [
    {
     "name": "stdout",
     "output_type": "stream",
     "text": [
      "per_capita_normalized: p-value = 0.000\n",
      "grp: p-value = 0.000\n",
      "retail_normalized: p-value = 0.001\n",
      "workers_percent: p-value = 0.000\n",
      "poverty_percent: p-value = 0.000\n"
     ]
    }
   ],
   "source": [
    "def mannwhitney_pvalue(df, col, cluster_pair):\n",
    "    # Извлекаем значения для каждого кластера\n",
    "    cluster_value_1 = df[df['Cluster'] == cluster_pair[0]][col]\n",
    "    cluster_value_2 = df[df['Cluster'] == cluster_pair[1]][col]\n",
    "    \n",
    "    # Выполняем тест Манна-Уитни и возвращаем p-value\n",
    "    _, p_value = mannwhitneyu(cluster_value_1, cluster_value_2, alternative='two-sided')\n",
    "    return p_value\n",
    "\n",
    "# Список колонок для анализа\n",
    "cols = ['per_capita_normalized', 'grp', 'retail_normalized', 'workers_percent', 'poverty_percent']\n",
    "\n",
    "# Выводим p-value для каждой колонки между кластерами 1 и 2\n",
    "for col in cols:\n",
    "    p_val = mannwhitney_pvalue(russia_regions_cl, col, (1, 2))\n",
    "    print(f'{col}: p-value = {p_val:.3f}')"
   ]
  },
  {
   "cell_type": "markdown",
   "id": "69419359",
   "metadata": {},
   "source": [
    "Как видим, эти две группы действительно значимо отличаются по всем признакам. Это означает, что вероятность того, что наблюдаемые различия в данных переменных могли возникнуть случайно, очень мала."
   ]
  },
  {
   "cell_type": "markdown",
   "id": "860a2ff8",
   "metadata": {},
   "source": [
    "#### 4.2. Группы населения, сталкивающиеся с бедностью"
   ]
  },
  {
   "cell_type": "markdown",
   "id": "54c1dd52",
   "metadata": {},
   "source": [
    "В нашем распоряжении есть непосредственная статистика о распределении малоимущего населения по социально-демографическим группам. Ниже эта статистика дана в виде графика по регионам (дополнительно они упорядочены по кластерам слева направо). Некоторые вариации присутствуют, однако существенных отличий между регионами, а также между кластерамии (левая и правая части графика) не наблюдается. Основной состав малоимущего населения - это люди трудоспособного возраста (56%) и дети (39%). На пенсионеров приходится около 5%. Однако эти показатели ничего не говорят о проценте малоимущих внутри каждой из социально-демографических групп (например сколько процентов пенсионеров находятся за чертой бедности - посмотрим дальше)."
   ]
  },
  {
   "cell_type": "code",
   "execution_count": 43,
   "id": "5c3a99f9",
   "metadata": {},
   "outputs": [
    {
     "data": {
      "text/plain": [
       "the poor: children     39.00\n",
       "the poor: employable   55.70\n",
       "the poor: retired       5.48\n",
       "dtype: float64"
      ]
     },
     "execution_count": 43,
     "metadata": {},
     "output_type": "execute_result"
    }
   ],
   "source": [
    "cols = ['the poor: children', 'the poor: employable', 'the poor: retired']\n",
    "russia_regions_cl[cols].mean()"
   ]
  },
  {
   "cell_type": "code",
   "execution_count": 44,
   "id": "bfdc74ff",
   "metadata": {},
   "outputs": [
    {
     "data": {
      "image/svg+xml": [
       "<svg class=\"main-svg\" xmlns=\"http://www.w3.org/2000/svg\" xmlns:xlink=\"http://www.w3.org/1999/xlink\" width=\"1500\" height=\"950\" style=\"\" viewBox=\"0 0 1500 950\"><rect x=\"0\" y=\"0\" width=\"1500\" height=\"950\" style=\"fill: rgb(255, 255, 255); fill-opacity: 1;\"/><defs id=\"defs-de66d8\"><g class=\"clips\"><clipPath id=\"clipde66d8xyplot\" class=\"plotclip\"><rect width=\"1231\" height=\"597\"/></clipPath><clipPath class=\"axesclip\" id=\"clipde66d8x\"><rect x=\"80\" y=\"0\" width=\"1231\" height=\"950\"/></clipPath><clipPath class=\"axesclip\" id=\"clipde66d8y\"><rect x=\"0\" y=\"100\" width=\"1500\" height=\"597\"/></clipPath><clipPath class=\"axesclip\" id=\"clipde66d8xy\"><rect x=\"80\" y=\"100\" width=\"1231\" height=\"597\"/></clipPath></g><g class=\"gradients\"/><g class=\"patterns\"/></defs><g class=\"bglayer\"><rect class=\"bg\" x=\"80\" y=\"100\" width=\"1231\" height=\"597\" style=\"fill: rgb(229, 236, 246); fill-opacity: 1; stroke-width: 0;\"/></g><g class=\"layer-below\"><g class=\"imagelayer\"/><g class=\"shapelayer\"/></g><g class=\"cartesianlayer\"><g class=\"subplot xy\"><g class=\"layer-subplot\"><g class=\"shapelayer\"/><g class=\"imagelayer\"/></g><g class=\"minor-gridlayer\"><g class=\"x\"/><g class=\"y\"/></g><g class=\"gridlayer\"><g class=\"x\"/><g class=\"y\"><path class=\"ygrid crisp\" transform=\"translate(0,588.9200000000001)\" d=\"M80,0h1231\" style=\"stroke: rgb(255, 255, 255); stroke-opacity: 1; stroke-width: 1px;\"/><path class=\"ygrid crisp\" transform=\"translate(0,480.84)\" d=\"M80,0h1231\" style=\"stroke: rgb(255, 255, 255); stroke-opacity: 1; stroke-width: 1px;\"/><path class=\"ygrid crisp\" transform=\"translate(0,372.76)\" d=\"M80,0h1231\" style=\"stroke: rgb(255, 255, 255); stroke-opacity: 1; stroke-width: 1px;\"/><path class=\"ygrid crisp\" transform=\"translate(0,264.68)\" d=\"M80,0h1231\" style=\"stroke: rgb(255, 255, 255); stroke-opacity: 1; stroke-width: 1px;\"/><path class=\"ygrid crisp\" transform=\"translate(0,156.6)\" d=\"M80,0h1231\" style=\"stroke: rgb(255, 255, 255); stroke-opacity: 1; stroke-width: 1px;\"/></g></g><g class=\"zerolinelayer\"><path class=\"yzl zl crisp\" transform=\"translate(0,697)\" d=\"M80,0h1231\" style=\"stroke: rgb(255, 255, 255); stroke-opacity: 1; stroke-width: 2px;\"/></g><path class=\"xlines-below\"/><path class=\"ylines-below\"/><g class=\"overlines-below\"/><g class=\"xaxislayer-below\"/><g class=\"yaxislayer-below\"/><g class=\"overaxes-below\"/><g class=\"plot\" transform=\"translate(80,100)\" clip-path=\"url(#clipde66d8xyplot)\"><g class=\"barlayer mlayer\"><g class=\"trace bars\" style=\"opacity: 1;\"><g class=\"points\"><g class=\"point\"><path d=\"M1.45,597V408.94H13.03V597Z\" style=\"vector-effect: non-scaling-stroke; opacity: 1; stroke-width: 0.5px; fill: rgb(99, 110, 250); fill-opacity: 1; stroke: rgb(229, 236, 246); stroke-opacity: 1;\"/></g><g class=\"point\"><path d=\"M15.93,597V403H27.52V597Z\" style=\"vector-effect: non-scaling-stroke; opacity: 1; stroke-width: 0.5px; fill: rgb(99, 110, 250); fill-opacity: 1; stroke: rgb(229, 236, 246); stroke-opacity: 1;\"/></g><g class=\"point\"><path d=\"M30.41,597V447.85H42V597Z\" style=\"vector-effect: non-scaling-stroke; opacity: 1; stroke-width: 0.5px; fill: rgb(99, 110, 250); fill-opacity: 1; stroke: rgb(229, 236, 246); stroke-opacity: 1;\"/></g><g class=\"point\"><path d=\"M44.9,597V355.98H56.48V597Z\" style=\"vector-effect: non-scaling-stroke; opacity: 1; stroke-width: 0.5px; fill: rgb(99, 110, 250); fill-opacity: 1; stroke: rgb(229, 236, 246); stroke-opacity: 1;\"/></g><g class=\"point\"><path d=\"M59.38,597V356.52H70.96V597Z\" style=\"vector-effect: non-scaling-stroke; opacity: 1; stroke-width: 0.5px; fill: rgb(99, 110, 250); fill-opacity: 1; stroke: rgb(229, 236, 246); stroke-opacity: 1;\"/></g><g class=\"point\"><path d=\"M73.86,597V390.03H85.45V597Z\" style=\"vector-effect: non-scaling-stroke; opacity: 1; stroke-width: 0.5px; fill: rgb(99, 110, 250); fill-opacity: 1; stroke: rgb(229, 236, 246); stroke-opacity: 1;\"/></g><g class=\"point\"><path d=\"M88.34,597V391.11H99.93V597Z\" style=\"vector-effect: non-scaling-stroke; opacity: 1; stroke-width: 0.5px; fill: rgb(99, 110, 250); fill-opacity: 1; stroke: rgb(229, 236, 246); stroke-opacity: 1;\"/></g><g class=\"point\"><path d=\"M102.82,597V414.34H114.41V597Z\" style=\"vector-effect: non-scaling-stroke; opacity: 1; stroke-width: 0.5px; fill: rgb(99, 110, 250); fill-opacity: 1; stroke: rgb(229, 236, 246); stroke-opacity: 1;\"/></g><g class=\"point\"><path d=\"M117.31,597V353.82H128.89V597Z\" style=\"vector-effect: non-scaling-stroke; opacity: 1; stroke-width: 0.5px; fill: rgb(99, 110, 250); fill-opacity: 1; stroke: rgb(229, 236, 246); stroke-opacity: 1;\"/></g><g class=\"point\"><path d=\"M131.79,597V360.85H143.38V597Z\" style=\"vector-effect: non-scaling-stroke; opacity: 1; stroke-width: 0.5px; fill: rgb(99, 110, 250); fill-opacity: 1; stroke: rgb(229, 236, 246); stroke-opacity: 1;\"/></g><g class=\"point\"><path d=\"M146.27,597V427.31H157.86V597Z\" style=\"vector-effect: non-scaling-stroke; opacity: 1; stroke-width: 0.5px; fill: rgb(99, 110, 250); fill-opacity: 1; stroke: rgb(229, 236, 246); stroke-opacity: 1;\"/></g><g class=\"point\"><path d=\"M160.75,597V354.9H172.34V597Z\" style=\"vector-effect: non-scaling-stroke; opacity: 1; stroke-width: 0.5px; fill: rgb(99, 110, 250); fill-opacity: 1; stroke: rgb(229, 236, 246); stroke-opacity: 1;\"/></g><g class=\"point\"><path d=\"M175.24,597V416.51H186.82V597Z\" style=\"vector-effect: non-scaling-stroke; opacity: 1; stroke-width: 0.5px; fill: rgb(99, 110, 250); fill-opacity: 1; stroke: rgb(229, 236, 246); stroke-opacity: 1;\"/></g><g class=\"point\"><path d=\"M189.72,597V395.43H201.3V597Z\" style=\"vector-effect: non-scaling-stroke; opacity: 1; stroke-width: 0.5px; fill: rgb(99, 110, 250); fill-opacity: 1; stroke: rgb(229, 236, 246); stroke-opacity: 1;\"/></g><g class=\"point\"><path d=\"M204.2,597V376.52H215.79V597Z\" style=\"vector-effect: non-scaling-stroke; opacity: 1; stroke-width: 0.5px; fill: rgb(99, 110, 250); fill-opacity: 1; stroke: rgb(229, 236, 246); stroke-opacity: 1;\"/></g><g class=\"point\"><path d=\"M218.68,597V381.38H230.27V597Z\" style=\"vector-effect: non-scaling-stroke; opacity: 1; stroke-width: 0.5px; fill: rgb(99, 110, 250); fill-opacity: 1; stroke: rgb(229, 236, 246); stroke-opacity: 1;\"/></g><g class=\"point\"><path d=\"M233.17,597V383.18H244.75V597Z\" style=\"vector-effect: non-scaling-stroke; opacity: 1; stroke-width: 0.5px; fill: rgb(99, 110, 250); fill-opacity: 1; stroke: rgb(229, 236, 246); stroke-opacity: 1;\"/></g><g class=\"point\"><path d=\"M247.65,597V380.3H259.23V597Z\" style=\"vector-effect: non-scaling-stroke; opacity: 1; stroke-width: 0.5px; fill: rgb(99, 110, 250); fill-opacity: 1; stroke: rgb(229, 236, 246); stroke-opacity: 1;\"/></g><g class=\"point\"><path d=\"M262.13,597V372.73H273.72V597Z\" style=\"vector-effect: non-scaling-stroke; opacity: 1; stroke-width: 0.5px; fill: rgb(99, 110, 250); fill-opacity: 1; stroke: rgb(229, 236, 246); stroke-opacity: 1;\"/></g><g class=\"point\"><path d=\"M276.61,597V420.29H288.2V597Z\" style=\"vector-effect: non-scaling-stroke; opacity: 1; stroke-width: 0.5px; fill: rgb(99, 110, 250); fill-opacity: 1; stroke: rgb(229, 236, 246); stroke-opacity: 1;\"/></g><g class=\"point\"><path d=\"M291.1,597V437.04H302.68V597Z\" style=\"vector-effect: non-scaling-stroke; opacity: 1; stroke-width: 0.5px; fill: rgb(99, 110, 250); fill-opacity: 1; stroke: rgb(229, 236, 246); stroke-opacity: 1;\"/></g><g class=\"point\"><path d=\"M305.58,597V371.65H317.16V597Z\" style=\"vector-effect: non-scaling-stroke; opacity: 1; stroke-width: 0.5px; fill: rgb(99, 110, 250); fill-opacity: 1; stroke: rgb(229, 236, 246); stroke-opacity: 1;\"/></g><g class=\"point\"><path d=\"M320.06,597V386.24H331.65V597Z\" style=\"vector-effect: non-scaling-stroke; opacity: 1; stroke-width: 0.5px; fill: rgb(99, 110, 250); fill-opacity: 1; stroke: rgb(229, 236, 246); stroke-opacity: 1;\"/></g><g class=\"point\"><path d=\"M334.54,597V336.53H346.13V597Z\" style=\"vector-effect: non-scaling-stroke; opacity: 1; stroke-width: 0.5px; fill: rgb(99, 110, 250); fill-opacity: 1; stroke: rgb(229, 236, 246); stroke-opacity: 1;\"/></g><g class=\"point\"><path d=\"M349.02,597V419.75H360.61V597Z\" style=\"vector-effect: non-scaling-stroke; opacity: 1; stroke-width: 0.5px; fill: rgb(99, 110, 250); fill-opacity: 1; stroke: rgb(229, 236, 246); stroke-opacity: 1;\"/></g><g class=\"point\"><path d=\"M363.51,597V416.69H375.09V597Z\" style=\"vector-effect: non-scaling-stroke; opacity: 1; stroke-width: 0.5px; fill: rgb(99, 110, 250); fill-opacity: 1; stroke: rgb(229, 236, 246); stroke-opacity: 1;\"/></g><g class=\"point\"><path d=\"M377.99,597V408.94H389.58V597Z\" style=\"vector-effect: non-scaling-stroke; opacity: 1; stroke-width: 0.5px; fill: rgb(99, 110, 250); fill-opacity: 1; stroke: rgb(229, 236, 246); stroke-opacity: 1;\"/></g><g class=\"point\"><path d=\"M392.47,597V363.55H404.06V597Z\" style=\"vector-effect: non-scaling-stroke; opacity: 1; stroke-width: 0.5px; fill: rgb(99, 110, 250); fill-opacity: 1; stroke: rgb(229, 236, 246); stroke-opacity: 1;\"/></g><g class=\"point\"><path d=\"M406.95,597V386.24H418.54V597Z\" style=\"vector-effect: non-scaling-stroke; opacity: 1; stroke-width: 0.5px; fill: rgb(99, 110, 250); fill-opacity: 1; stroke: rgb(229, 236, 246); stroke-opacity: 1;\"/></g><g class=\"point\"><path d=\"M421.44,597V409.48H433.02V597Z\" style=\"vector-effect: non-scaling-stroke; opacity: 1; stroke-width: 0.5px; fill: rgb(99, 110, 250); fill-opacity: 1; stroke: rgb(229, 236, 246); stroke-opacity: 1;\"/></g><g class=\"point\"><path d=\"M435.92,597V385.16H447.5V597Z\" style=\"vector-effect: non-scaling-stroke; opacity: 1; stroke-width: 0.5px; fill: rgb(99, 110, 250); fill-opacity: 1; stroke: rgb(229, 236, 246); stroke-opacity: 1;\"/></g><g class=\"point\"><path d=\"M450.4,597V368.95H461.99V597Z\" style=\"vector-effect: non-scaling-stroke; opacity: 1; stroke-width: 0.5px; fill: rgb(99, 110, 250); fill-opacity: 1; stroke: rgb(229, 236, 246); stroke-opacity: 1;\"/></g><g class=\"point\"><path d=\"M464.88,597V389.49H476.47V597Z\" style=\"vector-effect: non-scaling-stroke; opacity: 1; stroke-width: 0.5px; fill: rgb(99, 110, 250); fill-opacity: 1; stroke: rgb(229, 236, 246); stroke-opacity: 1;\"/></g><g class=\"point\"><path d=\"M479.37,597V477.03H490.95V597Z\" style=\"vector-effect: non-scaling-stroke; opacity: 1; stroke-width: 0.5px; fill: rgb(99, 110, 250); fill-opacity: 1; stroke: rgb(229, 236, 246); stroke-opacity: 1;\"/></g><g class=\"point\"><path d=\"M493.85,597V372.91H505.43V597Z\" style=\"vector-effect: non-scaling-stroke; opacity: 1; stroke-width: 0.5px; fill: rgb(99, 110, 250); fill-opacity: 1; stroke: rgb(229, 236, 246); stroke-opacity: 1;\"/></g><g class=\"point\"><path d=\"M508.33,597V389.49H519.92V597Z\" style=\"vector-effect: non-scaling-stroke; opacity: 1; stroke-width: 0.5px; fill: rgb(99, 110, 250); fill-opacity: 1; stroke: rgb(229, 236, 246); stroke-opacity: 1;\"/></g><g class=\"point\"><path d=\"M522.81,597V433.8H534.4V597Z\" style=\"vector-effect: non-scaling-stroke; opacity: 1; stroke-width: 0.5px; fill: rgb(99, 110, 250); fill-opacity: 1; stroke: rgb(229, 236, 246); stroke-opacity: 1;\"/></g><g class=\"point\"><path d=\"M537.3,597V369.49H548.88V597Z\" style=\"vector-effect: non-scaling-stroke; opacity: 1; stroke-width: 0.5px; fill: rgb(99, 110, 250); fill-opacity: 1; stroke: rgb(229, 236, 246); stroke-opacity: 1;\"/></g><g class=\"point\"><path d=\"M551.78,597V358.68H563.36V597Z\" style=\"vector-effect: non-scaling-stroke; opacity: 1; stroke-width: 0.5px; fill: rgb(99, 110, 250); fill-opacity: 1; stroke: rgb(229, 236, 246); stroke-opacity: 1;\"/></g><g class=\"point\"><path d=\"M566.26,597V383.54H577.85V597Z\" style=\"vector-effect: non-scaling-stroke; opacity: 1; stroke-width: 0.5px; fill: rgb(99, 110, 250); fill-opacity: 1; stroke: rgb(229, 236, 246); stroke-opacity: 1;\"/></g><g class=\"point\"><path d=\"M580.74,597V347.34H592.33V597Z\" style=\"vector-effect: non-scaling-stroke; opacity: 1; stroke-width: 0.5px; fill: rgb(99, 110, 250); fill-opacity: 1; stroke: rgb(229, 236, 246); stroke-opacity: 1;\"/></g><g class=\"point\"><path d=\"M595.22,597V364.09H606.81V597Z\" style=\"vector-effect: non-scaling-stroke; opacity: 1; stroke-width: 0.5px; fill: rgb(99, 110, 250); fill-opacity: 1; stroke: rgb(229, 236, 246); stroke-opacity: 1;\"/></g><g class=\"point\"><path d=\"M609.71,597V442.99H621.29V597Z\" style=\"vector-effect: non-scaling-stroke; opacity: 1; stroke-width: 0.5px; fill: rgb(99, 110, 250); fill-opacity: 1; stroke: rgb(229, 236, 246); stroke-opacity: 1;\"/></g><g class=\"point\"><path d=\"M624.19,597V372.73H635.78V597Z\" style=\"vector-effect: non-scaling-stroke; opacity: 1; stroke-width: 0.5px; fill: rgb(99, 110, 250); fill-opacity: 1; stroke: rgb(229, 236, 246); stroke-opacity: 1;\"/></g><g class=\"point\"><path d=\"M638.67,597V439.74H650.26V597Z\" style=\"vector-effect: non-scaling-stroke; opacity: 1; stroke-width: 0.5px; fill: rgb(99, 110, 250); fill-opacity: 1; stroke: rgb(229, 236, 246); stroke-opacity: 1;\"/></g><g class=\"point\"><path d=\"M653.15,597V392.73H664.74V597Z\" style=\"vector-effect: non-scaling-stroke; opacity: 1; stroke-width: 0.5px; fill: rgb(99, 110, 250); fill-opacity: 1; stroke: rgb(229, 236, 246); stroke-opacity: 1;\"/></g><g class=\"point\"><path d=\"M667.64,597V366.79H679.22V597Z\" style=\"vector-effect: non-scaling-stroke; opacity: 1; stroke-width: 0.5px; fill: rgb(99, 110, 250); fill-opacity: 1; stroke: rgb(229, 236, 246); stroke-opacity: 1;\"/></g><g class=\"point\"><path d=\"M682.12,597V382.46H693.7V597Z\" style=\"vector-effect: non-scaling-stroke; opacity: 1; stroke-width: 0.5px; fill: rgb(99, 110, 250); fill-opacity: 1; stroke: rgb(229, 236, 246); stroke-opacity: 1;\"/></g><g class=\"point\"><path d=\"M696.6,597V384.62H708.19V597Z\" style=\"vector-effect: non-scaling-stroke; opacity: 1; stroke-width: 0.5px; fill: rgb(99, 110, 250); fill-opacity: 1; stroke: rgb(229, 236, 246); stroke-opacity: 1;\"/></g><g class=\"point\"><path d=\"M711.08,597V403.54H722.67V597Z\" style=\"vector-effect: non-scaling-stroke; opacity: 1; stroke-width: 0.5px; fill: rgb(99, 110, 250); fill-opacity: 1; stroke: rgb(229, 236, 246); stroke-opacity: 1;\"/></g><g class=\"point\"><path d=\"M725.57,597V412.18H737.15V597Z\" style=\"vector-effect: non-scaling-stroke; opacity: 1; stroke-width: 0.5px; fill: rgb(99, 110, 250); fill-opacity: 1; stroke: rgb(229, 236, 246); stroke-opacity: 1;\"/></g><g class=\"point\"><path d=\"M740.05,597V460.55H751.63V597Z\" style=\"vector-effect: non-scaling-stroke; opacity: 1; stroke-width: 0.5px; fill: rgb(99, 110, 250); fill-opacity: 1; stroke: rgb(229, 236, 246); stroke-opacity: 1;\"/></g><g class=\"point\"><path d=\"M754.53,597V380.84H766.12V597Z\" style=\"vector-effect: non-scaling-stroke; opacity: 1; stroke-width: 0.5px; fill: rgb(99, 110, 250); fill-opacity: 1; stroke: rgb(229, 236, 246); stroke-opacity: 1;\"/></g><g class=\"point\"><path d=\"M769.01,597V327.34H780.6V597Z\" style=\"vector-effect: non-scaling-stroke; opacity: 1; stroke-width: 0.5px; fill: rgb(99, 110, 250); fill-opacity: 1; stroke: rgb(229, 236, 246); stroke-opacity: 1;\"/></g><g class=\"point\"><path d=\"M783.5,597V360.85H795.08V597Z\" style=\"vector-effect: non-scaling-stroke; opacity: 1; stroke-width: 0.5px; fill: rgb(99, 110, 250); fill-opacity: 1; stroke: rgb(229, 236, 246); stroke-opacity: 1;\"/></g><g class=\"point\"><path d=\"M797.98,597V425.69H809.56V597Z\" style=\"vector-effect: non-scaling-stroke; opacity: 1; stroke-width: 0.5px; fill: rgb(99, 110, 250); fill-opacity: 1; stroke: rgb(229, 236, 246); stroke-opacity: 1;\"/></g><g class=\"point\"><path d=\"M812.46,597V412.72H824.05V597Z\" style=\"vector-effect: non-scaling-stroke; opacity: 1; stroke-width: 0.5px; fill: rgb(99, 110, 250); fill-opacity: 1; stroke: rgb(229, 236, 246); stroke-opacity: 1;\"/></g><g class=\"point\"><path d=\"M826.94,597V387.32H838.53V597Z\" style=\"vector-effect: non-scaling-stroke; opacity: 1; stroke-width: 0.5px; fill: rgb(99, 110, 250); fill-opacity: 1; stroke: rgb(229, 236, 246); stroke-opacity: 1;\"/></g><g class=\"point\"><path d=\"M841.42,597V365.71H853.01V597Z\" style=\"vector-effect: non-scaling-stroke; opacity: 1; stroke-width: 0.5px; fill: rgb(99, 110, 250); fill-opacity: 1; stroke: rgb(229, 236, 246); stroke-opacity: 1;\"/></g><g class=\"point\"><path d=\"M855.91,597V372.73H867.49V597Z\" style=\"vector-effect: non-scaling-stroke; opacity: 1; stroke-width: 0.5px; fill: rgb(99, 110, 250); fill-opacity: 1; stroke: rgb(229, 236, 246); stroke-opacity: 1;\"/></g><g class=\"point\"><path d=\"M870.39,597V328.96H881.98V597Z\" style=\"vector-effect: non-scaling-stroke; opacity: 1; stroke-width: 0.5px; fill: rgb(99, 110, 250); fill-opacity: 1; stroke: rgb(229, 236, 246); stroke-opacity: 1;\"/></g><g class=\"point\"><path d=\"M884.87,597V380.3H896.46V597Z\" style=\"vector-effect: non-scaling-stroke; opacity: 1; stroke-width: 0.5px; fill: rgb(99, 110, 250); fill-opacity: 1; stroke: rgb(229, 236, 246); stroke-opacity: 1;\"/></g><g class=\"point\"><path d=\"M899.35,597V380.3H910.94V597Z\" style=\"vector-effect: non-scaling-stroke; opacity: 1; stroke-width: 0.5px; fill: rgb(99, 110, 250); fill-opacity: 1; stroke: rgb(229, 236, 246); stroke-opacity: 1;\"/></g><g class=\"point\"><path d=\"M913.84,597V358.14H925.42V597Z\" style=\"vector-effect: non-scaling-stroke; opacity: 1; stroke-width: 0.5px; fill: rgb(99, 110, 250); fill-opacity: 1; stroke: rgb(229, 236, 246); stroke-opacity: 1;\"/></g><g class=\"point\"><path d=\"M928.32,597V370.03H939.9V597Z\" style=\"vector-effect: non-scaling-stroke; opacity: 1; stroke-width: 0.5px; fill: rgb(99, 110, 250); fill-opacity: 1; stroke: rgb(229, 236, 246); stroke-opacity: 1;\"/></g><g class=\"point\"><path d=\"M942.8,597V359.76H954.39V597Z\" style=\"vector-effect: non-scaling-stroke; opacity: 1; stroke-width: 0.5px; fill: rgb(99, 110, 250); fill-opacity: 1; stroke: rgb(229, 236, 246); stroke-opacity: 1;\"/></g><g class=\"point\"><path d=\"M957.28,597V397.05H968.87V597Z\" style=\"vector-effect: non-scaling-stroke; opacity: 1; stroke-width: 0.5px; fill: rgb(99, 110, 250); fill-opacity: 1; stroke: rgb(229, 236, 246); stroke-opacity: 1;\"/></g><g class=\"point\"><path d=\"M971.77,597V397.59H983.35V597Z\" style=\"vector-effect: non-scaling-stroke; opacity: 1; stroke-width: 0.5px; fill: rgb(99, 110, 250); fill-opacity: 1; stroke: rgb(229, 236, 246); stroke-opacity: 1;\"/></g><g class=\"point\"><path d=\"M986.25,597V346.79H997.83V597Z\" style=\"vector-effect: non-scaling-stroke; opacity: 1; stroke-width: 0.5px; fill: rgb(99, 110, 250); fill-opacity: 1; stroke: rgb(229, 236, 246); stroke-opacity: 1;\"/></g><g class=\"point\"><path d=\"M1000.73,597V415.97H1012.32V597Z\" style=\"vector-effect: non-scaling-stroke; opacity: 1; stroke-width: 0.5px; fill: rgb(99, 110, 250); fill-opacity: 1; stroke: rgb(229, 236, 246); stroke-opacity: 1;\"/></g><g class=\"point\"><path d=\"M1015.21,597V429.48H1026.8V597Z\" style=\"vector-effect: non-scaling-stroke; opacity: 1; stroke-width: 0.5px; fill: rgb(99, 110, 250); fill-opacity: 1; stroke: rgb(229, 236, 246); stroke-opacity: 1;\"/></g><g class=\"point\"><path d=\"M1029.7,597V387.32H1041.28V597Z\" style=\"vector-effect: non-scaling-stroke; opacity: 1; stroke-width: 0.5px; fill: rgb(99, 110, 250); fill-opacity: 1; stroke: rgb(229, 236, 246); stroke-opacity: 1;\"/></g><g class=\"point\"><path d=\"M1044.18,597V350.58H1055.76V597Z\" style=\"vector-effect: non-scaling-stroke; opacity: 1; stroke-width: 0.5px; fill: rgb(99, 110, 250); fill-opacity: 1; stroke: rgb(229, 236, 246); stroke-opacity: 1;\"/></g><g class=\"point\"><path d=\"M1058.66,597V327.34H1070.25V597Z\" style=\"vector-effect: non-scaling-stroke; opacity: 1; stroke-width: 0.5px; fill: rgb(99, 110, 250); fill-opacity: 1; stroke: rgb(229, 236, 246); stroke-opacity: 1;\"/></g><g class=\"point\"><path d=\"M1073.14,597V420.29H1084.73V597Z\" style=\"vector-effect: non-scaling-stroke; opacity: 1; stroke-width: 0.5px; fill: rgb(99, 110, 250); fill-opacity: 1; stroke: rgb(229, 236, 246); stroke-opacity: 1;\"/></g><g class=\"point\"><path d=\"M1087.62,597V377.6H1099.21V597Z\" style=\"vector-effect: non-scaling-stroke; opacity: 1; stroke-width: 0.5px; fill: rgb(99, 110, 250); fill-opacity: 1; stroke: rgb(229, 236, 246); stroke-opacity: 1;\"/></g><g class=\"point\"><path d=\"M1102.11,597V424.61H1113.69V597Z\" style=\"vector-effect: non-scaling-stroke; opacity: 1; stroke-width: 0.5px; fill: rgb(99, 110, 250); fill-opacity: 1; stroke: rgb(229, 236, 246); stroke-opacity: 1;\"/></g><g class=\"point\"><path d=\"M1116.59,597V401.19H1128.18V597Z\" style=\"vector-effect: non-scaling-stroke; opacity: 1; stroke-width: 0.5px; fill: rgb(99, 110, 250); fill-opacity: 1; stroke: rgb(229, 236, 246); stroke-opacity: 1;\"/></g><g class=\"point\"><path d=\"M1131.07,597V332.92H1142.66V597Z\" style=\"vector-effect: non-scaling-stroke; opacity: 1; stroke-width: 0.5px; fill: rgb(99, 110, 250); fill-opacity: 1; stroke: rgb(229, 236, 246); stroke-opacity: 1;\"/></g><g class=\"point\"><path d=\"M1145.55,597V391.29H1157.14V597Z\" style=\"vector-effect: non-scaling-stroke; opacity: 1; stroke-width: 0.5px; fill: rgb(99, 110, 250); fill-opacity: 1; stroke: rgb(229, 236, 246); stroke-opacity: 1;\"/></g><g class=\"point\"><path d=\"M1160.04,597V296.54H1171.62V597Z\" style=\"vector-effect: non-scaling-stroke; opacity: 1; stroke-width: 0.5px; fill: rgb(99, 110, 250); fill-opacity: 1; stroke: rgb(229, 236, 246); stroke-opacity: 1;\"/></g><g class=\"point\"><path d=\"M1174.52,597V332.47H1186.1V597Z\" style=\"vector-effect: non-scaling-stroke; opacity: 1; stroke-width: 0.5px; fill: rgb(99, 110, 250); fill-opacity: 1; stroke: rgb(229, 236, 246); stroke-opacity: 1;\"/></g><g class=\"point\"><path d=\"M1189,597V321.4H1200.59V597Z\" style=\"vector-effect: non-scaling-stroke; opacity: 1; stroke-width: 0.5px; fill: rgb(99, 110, 250); fill-opacity: 1; stroke: rgb(229, 236, 246); stroke-opacity: 1;\"/></g><g class=\"point\"><path d=\"M1203.48,597V389.49H1215.07V597Z\" style=\"vector-effect: non-scaling-stroke; opacity: 1; stroke-width: 0.5px; fill: rgb(99, 110, 250); fill-opacity: 1; stroke: rgb(229, 236, 246); stroke-opacity: 1;\"/></g><g class=\"point\"><path d=\"M1217.97,597V455.69H1229.55V597Z\" style=\"vector-effect: non-scaling-stroke; opacity: 1; stroke-width: 0.5px; fill: rgb(99, 110, 250); fill-opacity: 1; stroke: rgb(229, 236, 246); stroke-opacity: 1;\"/></g></g></g><g class=\"trace bars\" style=\"opacity: 1;\"><g class=\"points\"><g class=\"point\"><path d=\"M1.45,408.94V114.96H13.03V408.94Z\" style=\"vector-effect: non-scaling-stroke; opacity: 1; stroke-width: 0.5px; fill: rgb(239, 85, 59); fill-opacity: 1; stroke: rgb(229, 236, 246); stroke-opacity: 1;\"/></g><g class=\"point\"><path d=\"M15.93,403V92.81H27.52V403Z\" style=\"vector-effect: non-scaling-stroke; opacity: 1; stroke-width: 0.5px; fill: rgb(239, 85, 59); fill-opacity: 1; stroke: rgb(229, 236, 246); stroke-opacity: 1;\"/></g><g class=\"point\"><path d=\"M30.41,447.85V93.89H42V447.85Z\" style=\"vector-effect: non-scaling-stroke; opacity: 1; stroke-width: 0.5px; fill: rgb(239, 85, 59); fill-opacity: 1; stroke: rgb(229, 236, 246); stroke-opacity: 1;\"/></g><g class=\"point\"><path d=\"M44.9,355.98V85.24H56.48V355.98Z\" style=\"vector-effect: non-scaling-stroke; opacity: 1; stroke-width: 0.5px; fill: rgb(239, 85, 59); fill-opacity: 1; stroke: rgb(229, 236, 246); stroke-opacity: 1;\"/></g><g class=\"point\"><path d=\"M59.38,356.52V72.27H70.96V356.52Z\" style=\"vector-effect: non-scaling-stroke; opacity: 1; stroke-width: 0.5px; fill: rgb(239, 85, 59); fill-opacity: 1; stroke: rgb(229, 236, 246); stroke-opacity: 1;\"/></g><g class=\"point\"><path d=\"M73.86,390.03V83.62H85.45V390.03Z\" style=\"vector-effect: non-scaling-stroke; opacity: 1; stroke-width: 0.5px; fill: rgb(239, 85, 59); fill-opacity: 1; stroke: rgb(229, 236, 246); stroke-opacity: 1;\"/></g><g class=\"point\"><path d=\"M88.34,391.11V113.88H99.93V391.11Z\" style=\"vector-effect: non-scaling-stroke; opacity: 1; stroke-width: 0.5px; fill: rgb(239, 85, 59); fill-opacity: 1; stroke: rgb(229, 236, 246); stroke-opacity: 1;\"/></g><g class=\"point\"><path d=\"M102.82,414.34V58.22H114.41V414.34Z\" style=\"vector-effect: non-scaling-stroke; opacity: 1; stroke-width: 0.5px; fill: rgb(239, 85, 59); fill-opacity: 1; stroke: rgb(229, 236, 246); stroke-opacity: 1;\"/></g><g class=\"point\"><path d=\"M117.31,353.82V70.65H128.89V353.82Z\" style=\"vector-effect: non-scaling-stroke; opacity: 1; stroke-width: 0.5px; fill: rgb(239, 85, 59); fill-opacity: 1; stroke: rgb(229, 236, 246); stroke-opacity: 1;\"/></g><g class=\"point\"><path d=\"M131.79,360.85V90.1H143.38V360.85Z\" style=\"vector-effect: non-scaling-stroke; opacity: 1; stroke-width: 0.5px; fill: rgb(239, 85, 59); fill-opacity: 1; stroke: rgb(229, 236, 246); stroke-opacity: 1;\"/></g><g class=\"point\"><path d=\"M146.27,427.31V106.32H157.86V427.31Z\" style=\"vector-effect: non-scaling-stroke; opacity: 1; stroke-width: 0.5px; fill: rgb(239, 85, 59); fill-opacity: 1; stroke: rgb(229, 236, 246); stroke-opacity: 1;\"/></g><g class=\"point\"><path d=\"M160.75,354.9V76.05H172.34V354.9Z\" style=\"vector-effect: non-scaling-stroke; opacity: 1; stroke-width: 0.5px; fill: rgb(239, 85, 59); fill-opacity: 1; stroke: rgb(229, 236, 246); stroke-opacity: 1;\"/></g><g class=\"point\"><path d=\"M175.24,416.51V96.05H186.82V416.51Z\" style=\"vector-effect: non-scaling-stroke; opacity: 1; stroke-width: 0.5px; fill: rgb(239, 85, 59); fill-opacity: 1; stroke: rgb(229, 236, 246); stroke-opacity: 1;\"/></g><g class=\"point\"><path d=\"M189.72,395.43V102.35H201.3V395.43Z\" style=\"vector-effect: non-scaling-stroke; opacity: 1; stroke-width: 0.5px; fill: rgb(239, 85, 59); fill-opacity: 1; stroke: rgb(229, 236, 246); stroke-opacity: 1;\"/></g><g class=\"point\"><path d=\"M204.2,376.52V75.51H215.79V376.52Z\" style=\"vector-effect: non-scaling-stroke; opacity: 1; stroke-width: 0.5px; fill: rgb(239, 85, 59); fill-opacity: 1; stroke: rgb(229, 236, 246); stroke-opacity: 1;\"/></g><g class=\"point\"><path d=\"M218.68,381.38V92.27H230.27V381.38Z\" style=\"vector-effect: non-scaling-stroke; opacity: 1; stroke-width: 0.5px; fill: rgb(239, 85, 59); fill-opacity: 1; stroke: rgb(229, 236, 246); stroke-opacity: 1;\"/></g><g class=\"point\"><path d=\"M233.17,383.18V68.67H244.75V383.18Z\" style=\"vector-effect: non-scaling-stroke; opacity: 1; stroke-width: 0.5px; fill: rgb(239, 85, 59); fill-opacity: 1; stroke: rgb(229, 236, 246); stroke-opacity: 1;\"/></g><g class=\"point\"><path d=\"M247.65,380.3V63.63H259.23V380.3Z\" style=\"vector-effect: non-scaling-stroke; opacity: 1; stroke-width: 0.5px; fill: rgb(239, 85, 59); fill-opacity: 1; stroke: rgb(229, 236, 246); stroke-opacity: 1;\"/></g><g class=\"point\"><path d=\"M262.13,372.73V99.83H273.72V372.73Z\" style=\"vector-effect: non-scaling-stroke; opacity: 1; stroke-width: 0.5px; fill: rgb(239, 85, 59); fill-opacity: 1; stroke: rgb(229, 236, 246); stroke-opacity: 1;\"/></g><g class=\"point\"><path d=\"M276.61,420.29V125.77H288.2V420.29Z\" style=\"vector-effect: non-scaling-stroke; opacity: 1; stroke-width: 0.5px; fill: rgb(239, 85, 59); fill-opacity: 1; stroke: rgb(229, 236, 246); stroke-opacity: 1;\"/></g><g class=\"point\"><path d=\"M291.1,437.04V107.4H302.68V437.04Z\" style=\"vector-effect: non-scaling-stroke; opacity: 1; stroke-width: 0.5px; fill: rgb(239, 85, 59); fill-opacity: 1; stroke: rgb(229, 236, 246); stroke-opacity: 1;\"/></g><g class=\"point\"><path d=\"M305.58,371.65V76.59H317.16V371.65Z\" style=\"vector-effect: non-scaling-stroke; opacity: 1; stroke-width: 0.5px; fill: rgb(239, 85, 59); fill-opacity: 1; stroke: rgb(229, 236, 246); stroke-opacity: 1;\"/></g><g class=\"point\"><path d=\"M320.06,386.24V72.27H331.65V386.24Z\" style=\"vector-effect: non-scaling-stroke; opacity: 1; stroke-width: 0.5px; fill: rgb(239, 85, 59); fill-opacity: 1; stroke: rgb(229, 236, 246); stroke-opacity: 1;\"/></g><g class=\"point\"><path d=\"M334.54,336.53V65.79H346.13V336.53Z\" style=\"vector-effect: non-scaling-stroke; opacity: 1; stroke-width: 0.5px; fill: rgb(239, 85, 59); fill-opacity: 1; stroke: rgb(229, 236, 246); stroke-opacity: 1;\"/></g><g class=\"point\"><path d=\"M349.02,419.75V87.4H360.61V419.75Z\" style=\"vector-effect: non-scaling-stroke; opacity: 1; stroke-width: 0.5px; fill: rgb(239, 85, 59); fill-opacity: 1; stroke: rgb(229, 236, 246); stroke-opacity: 1;\"/></g><g class=\"point\"><path d=\"M363.51,416.69V96.77H375.09V416.69Z\" style=\"vector-effect: non-scaling-stroke; opacity: 1; stroke-width: 0.5px; fill: rgb(239, 85, 59); fill-opacity: 1; stroke: rgb(229, 236, 246); stroke-opacity: 1;\"/></g><g class=\"point\"><path d=\"M377.99,408.94V93.35H389.58V408.94Z\" style=\"vector-effect: non-scaling-stroke; opacity: 1; stroke-width: 0.5px; fill: rgb(239, 85, 59); fill-opacity: 1; stroke: rgb(229, 236, 246); stroke-opacity: 1;\"/></g><g class=\"point\"><path d=\"M392.47,363.55V70.11H404.06V363.55Z\" style=\"vector-effect: non-scaling-stroke; opacity: 1; stroke-width: 0.5px; fill: rgb(239, 85, 59); fill-opacity: 1; stroke: rgb(229, 236, 246); stroke-opacity: 1;\"/></g><g class=\"point\"><path d=\"M406.95,386.24V70.11H418.54V386.24Z\" style=\"vector-effect: non-scaling-stroke; opacity: 1; stroke-width: 0.5px; fill: rgb(239, 85, 59); fill-opacity: 1; stroke: rgb(229, 236, 246); stroke-opacity: 1;\"/></g><g class=\"point\"><path d=\"M421.44,409.48V121.45H433.02V409.48Z\" style=\"vector-effect: non-scaling-stroke; opacity: 1; stroke-width: 0.5px; fill: rgb(239, 85, 59); fill-opacity: 1; stroke: rgb(229, 236, 246); stroke-opacity: 1;\"/></g><g class=\"point\"><path d=\"M435.92,385.16V66.87H447.5V385.16Z\" style=\"vector-effect: non-scaling-stroke; opacity: 1; stroke-width: 0.5px; fill: rgb(239, 85, 59); fill-opacity: 1; stroke: rgb(229, 236, 246); stroke-opacity: 1;\"/></g><g class=\"point\"><path d=\"M450.4,368.95V76.05H461.99V368.95Z\" style=\"vector-effect: non-scaling-stroke; opacity: 1; stroke-width: 0.5px; fill: rgb(239, 85, 59); fill-opacity: 1; stroke: rgb(229, 236, 246); stroke-opacity: 1;\"/></g><g class=\"point\"><path d=\"M464.88,389.49V73.35H476.47V389.49Z\" style=\"vector-effect: non-scaling-stroke; opacity: 1; stroke-width: 0.5px; fill: rgb(239, 85, 59); fill-opacity: 1; stroke: rgb(229, 236, 246); stroke-opacity: 1;\"/></g><g class=\"point\"><path d=\"M479.37,477.03V79.3H490.95V477.03Z\" style=\"vector-effect: non-scaling-stroke; opacity: 1; stroke-width: 0.5px; fill: rgb(239, 85, 59); fill-opacity: 1; stroke: rgb(229, 236, 246); stroke-opacity: 1;\"/></g><g class=\"point\"><path d=\"M493.85,372.91V83.8H505.43V372.91Z\" style=\"vector-effect: non-scaling-stroke; opacity: 1; stroke-width: 0.5px; fill: rgb(239, 85, 59); fill-opacity: 1; stroke: rgb(229, 236, 246); stroke-opacity: 1;\"/></g><g class=\"point\"><path d=\"M508.33,389.49V82H519.92V389.49Z\" style=\"vector-effect: non-scaling-stroke; opacity: 1; stroke-width: 0.5px; fill: rgb(239, 85, 59); fill-opacity: 1; stroke: rgb(229, 236, 246); stroke-opacity: 1;\"/></g><g class=\"point\"><path d=\"M522.81,433.8V92.81H534.4V433.8Z\" style=\"vector-effect: non-scaling-stroke; opacity: 1; stroke-width: 0.5px; fill: rgb(239, 85, 59); fill-opacity: 1; stroke: rgb(229, 236, 246); stroke-opacity: 1;\"/></g><g class=\"point\"><path d=\"M537.3,369.49V86.32H548.88V369.49Z\" style=\"vector-effect: non-scaling-stroke; opacity: 1; stroke-width: 0.5px; fill: rgb(239, 85, 59); fill-opacity: 1; stroke: rgb(229, 236, 246); stroke-opacity: 1;\"/></g><g class=\"point\"><path d=\"M551.78,358.68V123.34H563.36V358.68Z\" style=\"vector-effect: non-scaling-stroke; opacity: 1; stroke-width: 0.5px; fill: rgb(239, 85, 59); fill-opacity: 1; stroke: rgb(229, 236, 246); stroke-opacity: 1;\"/></g><g class=\"point\"><path d=\"M566.26,383.54V95.69H577.85V383.54Z\" style=\"vector-effect: non-scaling-stroke; opacity: 1; stroke-width: 0.5px; fill: rgb(239, 85, 59); fill-opacity: 1; stroke: rgb(229, 236, 246); stroke-opacity: 1;\"/></g><g class=\"point\"><path d=\"M580.74,347.34V78.22H592.33V347.34Z\" style=\"vector-effect: non-scaling-stroke; opacity: 1; stroke-width: 0.5px; fill: rgb(239, 85, 59); fill-opacity: 1; stroke: rgb(229, 236, 246); stroke-opacity: 1;\"/></g><g class=\"point\"><path d=\"M595.22,364.09V69.03H606.81V364.09Z\" style=\"vector-effect: non-scaling-stroke; opacity: 1; stroke-width: 0.5px; fill: rgb(239, 85, 59); fill-opacity: 1; stroke: rgb(229, 236, 246); stroke-opacity: 1;\"/></g><g class=\"point\"><path d=\"M609.71,442.99V69.03H621.29V442.99Z\" style=\"vector-effect: non-scaling-stroke; opacity: 1; stroke-width: 0.5px; fill: rgb(239, 85, 59); fill-opacity: 1; stroke: rgb(229, 236, 246); stroke-opacity: 1;\"/></g><g class=\"point\"><path d=\"M624.19,372.73V94.43H635.78V372.73Z\" style=\"vector-effect: non-scaling-stroke; opacity: 1; stroke-width: 0.5px; fill: rgb(239, 85, 59); fill-opacity: 1; stroke: rgb(229, 236, 246); stroke-opacity: 1;\"/></g><g class=\"point\"><path d=\"M638.67,439.74V89.56H650.26V439.74Z\" style=\"vector-effect: non-scaling-stroke; opacity: 1; stroke-width: 0.5px; fill: rgb(239, 85, 59); fill-opacity: 1; stroke: rgb(229, 236, 246); stroke-opacity: 1;\"/></g><g class=\"point\"><path d=\"M653.15,392.73V114.06H664.74V392.73Z\" style=\"vector-effect: non-scaling-stroke; opacity: 1; stroke-width: 0.5px; fill: rgb(239, 85, 59); fill-opacity: 1; stroke: rgb(229, 236, 246); stroke-opacity: 1;\"/></g><g class=\"point\"><path d=\"M667.64,366.79V88.48H679.22V366.79Z\" style=\"vector-effect: non-scaling-stroke; opacity: 1; stroke-width: 0.5px; fill: rgb(239, 85, 59); fill-opacity: 1; stroke: rgb(229, 236, 246); stroke-opacity: 1;\"/></g><g class=\"point\"><path d=\"M682.12,382.46V80.92H693.7V382.46Z\" style=\"vector-effect: non-scaling-stroke; opacity: 1; stroke-width: 0.5px; fill: rgb(239, 85, 59); fill-opacity: 1; stroke: rgb(229, 236, 246); stroke-opacity: 1;\"/></g><g class=\"point\"><path d=\"M696.6,384.62V93.89H708.19V384.62Z\" style=\"vector-effect: non-scaling-stroke; opacity: 1; stroke-width: 0.5px; fill: rgb(239, 85, 59); fill-opacity: 1; stroke: rgb(229, 236, 246); stroke-opacity: 1;\"/></g><g class=\"point\"><path d=\"M711.08,403.54V82.54H722.67V403.54Z\" style=\"vector-effect: non-scaling-stroke; opacity: 1; stroke-width: 0.5px; fill: rgb(239, 85, 59); fill-opacity: 1; stroke: rgb(229, 236, 246); stroke-opacity: 1;\"/></g><g class=\"point\"><path d=\"M725.57,412.18V92.27H737.15V412.18Z\" style=\"vector-effect: non-scaling-stroke; opacity: 1; stroke-width: 0.5px; fill: rgb(239, 85, 59); fill-opacity: 1; stroke: rgb(229, 236, 246); stroke-opacity: 1;\"/></g><g class=\"point\"><path d=\"M740.05,460.55V119.56H751.63V460.55Z\" style=\"vector-effect: non-scaling-stroke; opacity: 1; stroke-width: 0.5px; fill: rgb(239, 85, 59); fill-opacity: 1; stroke: rgb(229, 236, 246); stroke-opacity: 1;\"/></g><g class=\"point\"><path d=\"M754.53,380.84V60.38H766.12V380.84Z\" style=\"vector-effect: non-scaling-stroke; opacity: 1; stroke-width: 0.5px; fill: rgb(239, 85, 59); fill-opacity: 1; stroke: rgb(229, 236, 246); stroke-opacity: 1;\"/></g><g class=\"point\"><path d=\"M769.01,327.34V87.4H780.6V327.34Z\" style=\"vector-effect: non-scaling-stroke; opacity: 1; stroke-width: 0.5px; fill: rgb(239, 85, 59); fill-opacity: 1; stroke: rgb(229, 236, 246); stroke-opacity: 1;\"/></g><g class=\"point\"><path d=\"M783.5,360.85V59.3H795.08V360.85Z\" style=\"vector-effect: non-scaling-stroke; opacity: 1; stroke-width: 0.5px; fill: rgb(239, 85, 59); fill-opacity: 1; stroke: rgb(229, 236, 246); stroke-opacity: 1;\"/></g><g class=\"point\"><path d=\"M797.98,425.69V77.14H809.56V425.69Z\" style=\"vector-effect: non-scaling-stroke; opacity: 1; stroke-width: 0.5px; fill: rgb(239, 85, 59); fill-opacity: 1; stroke: rgb(229, 236, 246); stroke-opacity: 1;\"/></g><g class=\"point\"><path d=\"M812.46,412.72V80.38H824.05V412.72Z\" style=\"vector-effect: non-scaling-stroke; opacity: 1; stroke-width: 0.5px; fill: rgb(239, 85, 59); fill-opacity: 1; stroke: rgb(229, 236, 246); stroke-opacity: 1;\"/></g><g class=\"point\"><path d=\"M826.94,387.32V83.62H838.53V387.32Z\" style=\"vector-effect: non-scaling-stroke; opacity: 1; stroke-width: 0.5px; fill: rgb(239, 85, 59); fill-opacity: 1; stroke: rgb(229, 236, 246); stroke-opacity: 1;\"/></g><g class=\"point\"><path d=\"M841.42,365.71V74.43H853.01V365.71Z\" style=\"vector-effect: non-scaling-stroke; opacity: 1; stroke-width: 0.5px; fill: rgb(239, 85, 59); fill-opacity: 1; stroke: rgb(229, 236, 246); stroke-opacity: 1;\"/></g><g class=\"point\"><path d=\"M855.91,372.73V80.38H867.49V372.73Z\" style=\"vector-effect: non-scaling-stroke; opacity: 1; stroke-width: 0.5px; fill: rgb(239, 85, 59); fill-opacity: 1; stroke: rgb(229, 236, 246); stroke-opacity: 1;\"/></g><g class=\"point\"><path d=\"M870.39,328.96V79.3H881.98V328.96Z\" style=\"vector-effect: non-scaling-stroke; opacity: 1; stroke-width: 0.5px; fill: rgb(239, 85, 59); fill-opacity: 1; stroke: rgb(229, 236, 246); stroke-opacity: 1;\"/></g><g class=\"point\"><path d=\"M884.87,380.3V80.92H896.46V380.3Z\" style=\"vector-effect: non-scaling-stroke; opacity: 1; stroke-width: 0.5px; fill: rgb(239, 85, 59); fill-opacity: 1; stroke: rgb(229, 236, 246); stroke-opacity: 1;\"/></g><g class=\"point\"><path d=\"M899.35,380.3V92.27H910.94V380.3Z\" style=\"vector-effect: non-scaling-stroke; opacity: 1; stroke-width: 0.5px; fill: rgb(239, 85, 59); fill-opacity: 1; stroke: rgb(229, 236, 246); stroke-opacity: 1;\"/></g><g class=\"point\"><path d=\"M913.84,358.14V84.16H925.42V358.14Z\" style=\"vector-effect: non-scaling-stroke; opacity: 1; stroke-width: 0.5px; fill: rgb(239, 85, 59); fill-opacity: 1; stroke: rgb(229, 236, 246); stroke-opacity: 1;\"/></g><g class=\"point\"><path d=\"M928.32,370.03V96.05H939.9V370.03Z\" style=\"vector-effect: non-scaling-stroke; opacity: 1; stroke-width: 0.5px; fill: rgb(239, 85, 59); fill-opacity: 1; stroke: rgb(229, 236, 246); stroke-opacity: 1;\"/></g><g class=\"point\"><path d=\"M942.8,359.76V65.25H954.39V359.76Z\" style=\"vector-effect: non-scaling-stroke; opacity: 1; stroke-width: 0.5px; fill: rgb(239, 85, 59); fill-opacity: 1; stroke: rgb(229, 236, 246); stroke-opacity: 1;\"/></g><g class=\"point\"><path d=\"M957.28,397.05V74.43H968.87V397.05Z\" style=\"vector-effect: non-scaling-stroke; opacity: 1; stroke-width: 0.5px; fill: rgb(239, 85, 59); fill-opacity: 1; stroke: rgb(229, 236, 246); stroke-opacity: 1;\"/></g><g class=\"point\"><path d=\"M971.77,397.59V107.94H983.35V397.59Z\" style=\"vector-effect: non-scaling-stroke; opacity: 1; stroke-width: 0.5px; fill: rgb(239, 85, 59); fill-opacity: 1; stroke: rgb(229, 236, 246); stroke-opacity: 1;\"/></g><g class=\"point\"><path d=\"M986.25,346.79V68.49H997.83V346.79Z\" style=\"vector-effect: non-scaling-stroke; opacity: 1; stroke-width: 0.5px; fill: rgb(239, 85, 59); fill-opacity: 1; stroke: rgb(229, 236, 246); stroke-opacity: 1;\"/></g><g class=\"point\"><path d=\"M1000.73,415.97V97.67H1012.32V415.97Z\" style=\"vector-effect: non-scaling-stroke; opacity: 1; stroke-width: 0.5px; fill: rgb(239, 85, 59); fill-opacity: 1; stroke: rgb(229, 236, 246); stroke-opacity: 1;\"/></g><g class=\"point\"><path d=\"M1015.21,429.48V77.68H1026.8V429.48Z\" style=\"vector-effect: non-scaling-stroke; opacity: 1; stroke-width: 0.5px; fill: rgb(239, 85, 59); fill-opacity: 1; stroke: rgb(229, 236, 246); stroke-opacity: 1;\"/></g><g class=\"point\"><path d=\"M1029.7,387.32V84.7H1041.28V387.32Z\" style=\"vector-effect: non-scaling-stroke; opacity: 1; stroke-width: 0.5px; fill: rgb(239, 85, 59); fill-opacity: 1; stroke: rgb(229, 236, 246); stroke-opacity: 1;\"/></g><g class=\"point\"><path d=\"M1044.18,350.58V81.46H1055.76V350.58Z\" style=\"vector-effect: non-scaling-stroke; opacity: 1; stroke-width: 0.5px; fill: rgb(239, 85, 59); fill-opacity: 1; stroke: rgb(229, 236, 246); stroke-opacity: 1;\"/></g><g class=\"point\"><path d=\"M1058.66,327.34V70.65H1070.25V327.34Z\" style=\"vector-effect: non-scaling-stroke; opacity: 1; stroke-width: 0.5px; fill: rgb(239, 85, 59); fill-opacity: 1; stroke: rgb(229, 236, 246); stroke-opacity: 1;\"/></g><g class=\"point\"><path d=\"M1073.14,420.29V91.19H1084.73V420.29Z\" style=\"vector-effect: non-scaling-stroke; opacity: 1; stroke-width: 0.5px; fill: rgb(239, 85, 59); fill-opacity: 1; stroke: rgb(229, 236, 246); stroke-opacity: 1;\"/></g><g class=\"point\"><path d=\"M1087.62,377.6V89.02H1099.21V377.6Z\" style=\"vector-effect: non-scaling-stroke; opacity: 1; stroke-width: 0.5px; fill: rgb(239, 85, 59); fill-opacity: 1; stroke: rgb(229, 236, 246); stroke-opacity: 1;\"/></g><g class=\"point\"><path d=\"M1102.11,424.61V69.03H1113.69V424.61Z\" style=\"vector-effect: non-scaling-stroke; opacity: 1; stroke-width: 0.5px; fill: rgb(239, 85, 59); fill-opacity: 1; stroke: rgb(229, 236, 246); stroke-opacity: 1;\"/></g><g class=\"point\"><path d=\"M1116.59,401.19V103.97H1128.18V401.19Z\" style=\"vector-effect: non-scaling-stroke; opacity: 1; stroke-width: 0.5px; fill: rgb(239, 85, 59); fill-opacity: 1; stroke: rgb(229, 236, 246); stroke-opacity: 1;\"/></g><g class=\"point\"><path d=\"M1131.07,332.92V72.09H1142.66V332.92Z\" style=\"vector-effect: non-scaling-stroke; opacity: 1; stroke-width: 0.5px; fill: rgb(239, 85, 59); fill-opacity: 1; stroke: rgb(229, 236, 246); stroke-opacity: 1;\"/></g><g class=\"point\"><path d=\"M1145.55,391.29V97.85H1157.14V391.29Z\" style=\"vector-effect: non-scaling-stroke; opacity: 1; stroke-width: 0.5px; fill: rgb(239, 85, 59); fill-opacity: 1; stroke: rgb(229, 236, 246); stroke-opacity: 1;\"/></g><g class=\"point\"><path d=\"M1160.04,296.54V64.71H1171.62V296.54Z\" style=\"vector-effect: non-scaling-stroke; opacity: 1; stroke-width: 0.5px; fill: rgb(239, 85, 59); fill-opacity: 1; stroke: rgb(229, 236, 246); stroke-opacity: 1;\"/></g><g class=\"point\"><path d=\"M1174.52,332.47V63.9H1186.1V332.47Z\" style=\"vector-effect: non-scaling-stroke; opacity: 1; stroke-width: 0.5px; fill: rgb(239, 85, 59); fill-opacity: 1; stroke: rgb(229, 236, 246); stroke-opacity: 1;\"/></g><g class=\"point\"><path d=\"M1189,321.4V59.84H1200.59V321.4Z\" style=\"vector-effect: non-scaling-stroke; opacity: 1; stroke-width: 0.5px; fill: rgb(239, 85, 59); fill-opacity: 1; stroke: rgb(229, 236, 246); stroke-opacity: 1;\"/></g><g class=\"point\"><path d=\"M1203.48,389.49V112.08H1215.07V389.49Z\" style=\"vector-effect: non-scaling-stroke; opacity: 1; stroke-width: 0.5px; fill: rgb(239, 85, 59); fill-opacity: 1; stroke: rgb(229, 236, 246); stroke-opacity: 1;\"/></g><g class=\"point\"><path d=\"M1217.97,455.69V82.81H1229.55V455.69Z\" style=\"vector-effect: non-scaling-stroke; opacity: 1; stroke-width: 0.5px; fill: rgb(239, 85, 59); fill-opacity: 1; stroke: rgb(229, 236, 246); stroke-opacity: 1;\"/></g></g></g><g class=\"trace bars\" style=\"opacity: 1;\"><g class=\"points\"><g class=\"point\"><path d=\"M1.45,114.96V56.6H13.03V114.96Z\" style=\"vector-effect: non-scaling-stroke; opacity: 1; stroke-width: 0.5px; fill: rgb(0, 204, 150); fill-opacity: 1; stroke: rgb(229, 236, 246); stroke-opacity: 1;\"/></g><g class=\"point\"><path d=\"M15.93,92.81V56.6H27.52V92.81Z\" style=\"vector-effect: non-scaling-stroke; opacity: 1; stroke-width: 0.5px; fill: rgb(0, 204, 150); fill-opacity: 1; stroke: rgb(229, 236, 246); stroke-opacity: 1;\"/></g><g class=\"point\"><path d=\"M30.41,93.89V56.6H42V93.89Z\" style=\"vector-effect: non-scaling-stroke; opacity: 1; stroke-width: 0.5px; fill: rgb(0, 204, 150); fill-opacity: 1; stroke: rgb(229, 236, 246); stroke-opacity: 1;\"/></g><g class=\"point\"><path d=\"M44.9,85.24V56.06H56.48V85.24Z\" style=\"vector-effect: non-scaling-stroke; opacity: 1; stroke-width: 0.5px; fill: rgb(0, 204, 150); fill-opacity: 1; stroke: rgb(229, 236, 246); stroke-opacity: 1;\"/></g><g class=\"point\"><path d=\"M59.38,72.27V56.6H70.96V72.27Z\" style=\"vector-effect: non-scaling-stroke; opacity: 1; stroke-width: 0.5px; fill: rgb(0, 204, 150); fill-opacity: 1; stroke: rgb(229, 236, 246); stroke-opacity: 1;\"/></g><g class=\"point\"><path d=\"M73.86,83.62V56.6H85.45V83.62Z\" style=\"vector-effect: non-scaling-stroke; opacity: 1; stroke-width: 0.5px; fill: rgb(0, 204, 150); fill-opacity: 1; stroke: rgb(229, 236, 246); stroke-opacity: 1;\"/></g><g class=\"point\"><path d=\"M88.34,113.88V56.6H99.93V113.88Z\" style=\"vector-effect: non-scaling-stroke; opacity: 1; stroke-width: 0.5px; fill: rgb(0, 204, 150); fill-opacity: 1; stroke: rgb(229, 236, 246); stroke-opacity: 1;\"/></g><g class=\"point\"><path d=\"M102.82,58.22V56.6H114.41V58.22Z\" style=\"vector-effect: non-scaling-stroke; opacity: 1; stroke-width: 0.5px; fill: rgb(0, 204, 150); fill-opacity: 1; stroke: rgb(229, 236, 246); stroke-opacity: 1;\"/></g><g class=\"point\"><path d=\"M117.31,70.65V56.6H128.89V70.65Z\" style=\"vector-effect: non-scaling-stroke; opacity: 1; stroke-width: 0.5px; fill: rgb(0, 204, 150); fill-opacity: 1; stroke: rgb(229, 236, 246); stroke-opacity: 1;\"/></g><g class=\"point\"><path d=\"M131.79,90.1V56.6H143.38V90.1Z\" style=\"vector-effect: non-scaling-stroke; opacity: 1; stroke-width: 0.5px; fill: rgb(0, 204, 150); fill-opacity: 1; stroke: rgb(229, 236, 246); stroke-opacity: 1;\"/></g><g class=\"point\"><path d=\"M146.27,106.32V56.6H157.86V106.32Z\" style=\"vector-effect: non-scaling-stroke; opacity: 1; stroke-width: 0.5px; fill: rgb(0, 204, 150); fill-opacity: 1; stroke: rgb(229, 236, 246); stroke-opacity: 1;\"/></g><g class=\"point\"><path d=\"M160.75,76.05V56.06H172.34V76.05Z\" style=\"vector-effect: non-scaling-stroke; opacity: 1; stroke-width: 0.5px; fill: rgb(0, 204, 150); fill-opacity: 1; stroke: rgb(229, 236, 246); stroke-opacity: 1;\"/></g><g class=\"point\"><path d=\"M175.24,96.05V57.14H186.82V96.05Z\" style=\"vector-effect: non-scaling-stroke; opacity: 1; stroke-width: 0.5px; fill: rgb(0, 204, 150); fill-opacity: 1; stroke: rgb(229, 236, 246); stroke-opacity: 1;\"/></g><g class=\"point\"><path d=\"M189.72,102.35V56.6H201.3V102.35Z\" style=\"vector-effect: non-scaling-stroke; opacity: 1; stroke-width: 0.5px; fill: rgb(0, 204, 150); fill-opacity: 1; stroke: rgb(229, 236, 246); stroke-opacity: 1;\"/></g><g class=\"point\"><path d=\"M204.2,75.51V57.14H215.79V75.51Z\" style=\"vector-effect: non-scaling-stroke; opacity: 1; stroke-width: 0.5px; fill: rgb(0, 204, 150); fill-opacity: 1; stroke: rgb(229, 236, 246); stroke-opacity: 1;\"/></g><g class=\"point\"><path d=\"M218.68,92.27V56.6H230.27V92.27Z\" style=\"vector-effect: non-scaling-stroke; opacity: 1; stroke-width: 0.5px; fill: rgb(0, 204, 150); fill-opacity: 1; stroke: rgb(229, 236, 246); stroke-opacity: 1;\"/></g><g class=\"point\"><path d=\"M233.17,68.67V55.7H244.75V68.67Z\" style=\"vector-effect: non-scaling-stroke; opacity: 1; stroke-width: 0.5px; fill: rgb(0, 204, 150); fill-opacity: 1; stroke: rgb(229, 236, 246); stroke-opacity: 1;\"/></g><g class=\"point\"><path d=\"M247.65,63.63V56.6H259.23V63.63Z\" style=\"vector-effect: non-scaling-stroke; opacity: 1; stroke-width: 0.5px; fill: rgb(0, 204, 150); fill-opacity: 1; stroke: rgb(229, 236, 246); stroke-opacity: 1;\"/></g><g class=\"point\"><path d=\"M262.13,99.83V56.6H273.72V99.83Z\" style=\"vector-effect: non-scaling-stroke; opacity: 1; stroke-width: 0.5px; fill: rgb(0, 204, 150); fill-opacity: 1; stroke: rgb(229, 236, 246); stroke-opacity: 1;\"/></g><g class=\"point\"><path d=\"M276.61,125.77V56.6H288.2V125.77Z\" style=\"vector-effect: non-scaling-stroke; opacity: 1; stroke-width: 0.5px; fill: rgb(0, 204, 150); fill-opacity: 1; stroke: rgb(229, 236, 246); stroke-opacity: 1;\"/></g><g class=\"point\"><path d=\"M291.1,107.4V57.14H302.68V107.4Z\" style=\"vector-effect: non-scaling-stroke; opacity: 1; stroke-width: 0.5px; fill: rgb(0, 204, 150); fill-opacity: 1; stroke: rgb(229, 236, 246); stroke-opacity: 1;\"/></g><g class=\"point\"><path d=\"M305.58,76.59V56.6H317.16V76.59Z\" style=\"vector-effect: non-scaling-stroke; opacity: 1; stroke-width: 0.5px; fill: rgb(0, 204, 150); fill-opacity: 1; stroke: rgb(229, 236, 246); stroke-opacity: 1;\"/></g><g class=\"point\"><path d=\"M320.06,72.27V56.06H331.65V72.27Z\" style=\"vector-effect: non-scaling-stroke; opacity: 1; stroke-width: 0.5px; fill: rgb(0, 204, 150); fill-opacity: 1; stroke: rgb(229, 236, 246); stroke-opacity: 1;\"/></g><g class=\"point\"><path d=\"M334.54,65.79V56.6H346.13V65.79Z\" style=\"vector-effect: non-scaling-stroke; opacity: 1; stroke-width: 0.5px; fill: rgb(0, 204, 150); fill-opacity: 1; stroke: rgb(229, 236, 246); stroke-opacity: 1;\"/></g><g class=\"point\"><path d=\"M349.02,87.4V56.06H360.61V87.4Z\" style=\"vector-effect: non-scaling-stroke; opacity: 1; stroke-width: 0.5px; fill: rgb(0, 204, 150); fill-opacity: 1; stroke: rgb(229, 236, 246); stroke-opacity: 1;\"/></g><g class=\"point\"><path d=\"M363.51,96.77V56.24H375.09V96.77Z\" style=\"vector-effect: non-scaling-stroke; opacity: 1; stroke-width: 0.5px; fill: rgb(0, 204, 150); fill-opacity: 1; stroke: rgb(229, 236, 246); stroke-opacity: 1;\"/></g><g class=\"point\"><path d=\"M377.99,93.35V56.6H389.58V93.35Z\" style=\"vector-effect: non-scaling-stroke; opacity: 1; stroke-width: 0.5px; fill: rgb(0, 204, 150); fill-opacity: 1; stroke: rgb(229, 236, 246); stroke-opacity: 1;\"/></g><g class=\"point\"><path d=\"M392.47,70.11V57.14H404.06V70.11Z\" style=\"vector-effect: non-scaling-stroke; opacity: 1; stroke-width: 0.5px; fill: rgb(0, 204, 150); fill-opacity: 1; stroke: rgb(229, 236, 246); stroke-opacity: 1;\"/></g><g class=\"point\"><path d=\"M406.95,70.11V56.6H418.54V70.11Z\" style=\"vector-effect: non-scaling-stroke; opacity: 1; stroke-width: 0.5px; fill: rgb(0, 204, 150); fill-opacity: 1; stroke: rgb(229, 236, 246); stroke-opacity: 1;\"/></g><g class=\"point\"><path d=\"M421.44,121.45V56.6H433.02V121.45Z\" style=\"vector-effect: non-scaling-stroke; opacity: 1; stroke-width: 0.5px; fill: rgb(0, 204, 150); fill-opacity: 1; stroke: rgb(229, 236, 246); stroke-opacity: 1;\"/></g><g class=\"point\"><path d=\"M435.92,66.87V56.6H447.5V66.87Z\" style=\"vector-effect: non-scaling-stroke; opacity: 1; stroke-width: 0.5px; fill: rgb(0, 204, 150); fill-opacity: 1; stroke: rgb(229, 236, 246); stroke-opacity: 1;\"/></g><g class=\"point\"><path d=\"M450.4,76.05V56.6H461.99V76.05Z\" style=\"vector-effect: non-scaling-stroke; opacity: 1; stroke-width: 0.5px; fill: rgb(0, 204, 150); fill-opacity: 1; stroke: rgb(229, 236, 246); stroke-opacity: 1;\"/></g><g class=\"point\"><path d=\"M464.88,73.35V56.6H476.47V73.35Z\" style=\"vector-effect: non-scaling-stroke; opacity: 1; stroke-width: 0.5px; fill: rgb(0, 204, 150); fill-opacity: 1; stroke: rgb(229, 236, 246); stroke-opacity: 1;\"/></g><g class=\"point\"><path d=\"M479.37,79.3V56.6H490.95V79.3Z\" style=\"vector-effect: non-scaling-stroke; opacity: 1; stroke-width: 0.5px; fill: rgb(0, 204, 150); fill-opacity: 1; stroke: rgb(229, 236, 246); stroke-opacity: 1;\"/></g><g class=\"point\"><path d=\"M493.85,83.8V56.96H505.43V83.8Z\" style=\"vector-effect: non-scaling-stroke; opacity: 1; stroke-width: 0.5px; fill: rgb(0, 204, 150); fill-opacity: 1; stroke: rgb(229, 236, 246); stroke-opacity: 1;\"/></g><g class=\"point\"><path d=\"M508.33,82V56.6H519.92V82Z\" style=\"vector-effect: non-scaling-stroke; opacity: 1; stroke-width: 0.5px; fill: rgb(0, 204, 150); fill-opacity: 1; stroke: rgb(229, 236, 246); stroke-opacity: 1;\"/></g><g class=\"point\"><path d=\"M522.81,92.81V56.6H534.4V92.81Z\" style=\"vector-effect: non-scaling-stroke; opacity: 1; stroke-width: 0.5px; fill: rgb(0, 204, 150); fill-opacity: 1; stroke: rgb(229, 236, 246); stroke-opacity: 1;\"/></g><g class=\"point\"><path d=\"M537.3,86.32V56.6H548.88V86.32Z\" style=\"vector-effect: non-scaling-stroke; opacity: 1; stroke-width: 0.5px; fill: rgb(0, 204, 150); fill-opacity: 1; stroke: rgb(229, 236, 246); stroke-opacity: 1;\"/></g><g class=\"point\"><path d=\"M551.78,123.34V56.6H563.36V123.34Z\" style=\"vector-effect: non-scaling-stroke; opacity: 1; stroke-width: 0.5px; fill: rgb(0, 204, 150); fill-opacity: 1; stroke: rgb(229, 236, 246); stroke-opacity: 1;\"/></g><g class=\"point\"><path d=\"M566.26,95.69V56.6H577.85V95.69Z\" style=\"vector-effect: non-scaling-stroke; opacity: 1; stroke-width: 0.5px; fill: rgb(0, 204, 150); fill-opacity: 1; stroke: rgb(229, 236, 246); stroke-opacity: 1;\"/></g><g class=\"point\"><path d=\"M580.74,78.22V56.6H592.33V78.22Z\" style=\"vector-effect: non-scaling-stroke; opacity: 1; stroke-width: 0.5px; fill: rgb(0, 204, 150); fill-opacity: 1; stroke: rgb(229, 236, 246); stroke-opacity: 1;\"/></g><g class=\"point\"><path d=\"M595.22,69.03V56.6H606.81V69.03Z\" style=\"vector-effect: non-scaling-stroke; opacity: 1; stroke-width: 0.5px; fill: rgb(0, 204, 150); fill-opacity: 1; stroke: rgb(229, 236, 246); stroke-opacity: 1;\"/></g><g class=\"point\"><path d=\"M609.71,69.03V56.6H621.29V69.03Z\" style=\"vector-effect: non-scaling-stroke; opacity: 1; stroke-width: 0.5px; fill: rgb(0, 204, 150); fill-opacity: 1; stroke: rgb(229, 236, 246); stroke-opacity: 1;\"/></g><g class=\"point\"><path d=\"M624.19,94.43V56.6H635.78V94.43Z\" style=\"vector-effect: non-scaling-stroke; opacity: 1; stroke-width: 0.5px; fill: rgb(0, 204, 150); fill-opacity: 1; stroke: rgb(229, 236, 246); stroke-opacity: 1;\"/></g><g class=\"point\"><path d=\"M638.67,89.56V56.6H650.26V89.56Z\" style=\"vector-effect: non-scaling-stroke; opacity: 1; stroke-width: 0.5px; fill: rgb(0, 204, 150); fill-opacity: 1; stroke: rgb(229, 236, 246); stroke-opacity: 1;\"/></g><g class=\"point\"><path d=\"M653.15,114.06V56.6H664.74V114.06Z\" style=\"vector-effect: non-scaling-stroke; opacity: 1; stroke-width: 0.5px; fill: rgb(0, 204, 150); fill-opacity: 1; stroke: rgb(229, 236, 246); stroke-opacity: 1;\"/></g><g class=\"point\"><path d=\"M667.64,88.48V56.6H679.22V88.48Z\" style=\"vector-effect: non-scaling-stroke; opacity: 1; stroke-width: 0.5px; fill: rgb(0, 204, 150); fill-opacity: 1; stroke: rgb(229, 236, 246); stroke-opacity: 1;\"/></g><g class=\"point\"><path d=\"M682.12,80.92V56.6H693.7V80.92Z\" style=\"vector-effect: non-scaling-stroke; opacity: 1; stroke-width: 0.5px; fill: rgb(0, 204, 150); fill-opacity: 1; stroke: rgb(229, 236, 246); stroke-opacity: 1;\"/></g><g class=\"point\"><path d=\"M696.6,93.89V56.6H708.19V93.89Z\" style=\"vector-effect: non-scaling-stroke; opacity: 1; stroke-width: 0.5px; fill: rgb(0, 204, 150); fill-opacity: 1; stroke: rgb(229, 236, 246); stroke-opacity: 1;\"/></g><g class=\"point\"><path d=\"M711.08,82.54V50.84H722.67V82.54Z\" style=\"vector-effect: non-scaling-stroke; opacity: 1; stroke-width: 0.5px; fill: rgb(0, 204, 150); fill-opacity: 1; stroke: rgb(229, 236, 246); stroke-opacity: 1;\"/></g><g class=\"point\"><path d=\"M725.57,92.27V57.14H737.15V92.27Z\" style=\"vector-effect: non-scaling-stroke; opacity: 1; stroke-width: 0.5px; fill: rgb(0, 204, 150); fill-opacity: 1; stroke: rgb(229, 236, 246); stroke-opacity: 1;\"/></g><g class=\"point\"><path d=\"M740.05,119.56V56.33H751.63V119.56Z\" style=\"vector-effect: non-scaling-stroke; opacity: 1; stroke-width: 0.5px; fill: rgb(0, 204, 150); fill-opacity: 1; stroke: rgb(229, 236, 246); stroke-opacity: 1;\"/></g><g class=\"point\"><path d=\"M754.53,60.38V56.06H766.12V60.38Z\" style=\"vector-effect: non-scaling-stroke; opacity: 1; stroke-width: 0.5px; fill: rgb(0, 204, 150); fill-opacity: 1; stroke: rgb(229, 236, 246); stroke-opacity: 1;\"/></g><g class=\"point\"><path d=\"M769.01,87.4V56.6H780.6V87.4Z\" style=\"vector-effect: non-scaling-stroke; opacity: 1; stroke-width: 0.5px; fill: rgb(0, 204, 150); fill-opacity: 1; stroke: rgb(229, 236, 246); stroke-opacity: 1;\"/></g><g class=\"point\"><path d=\"M783.5,59.3V57.14H795.08V59.3Z\" style=\"vector-effect: non-scaling-stroke; opacity: 1; stroke-width: 0.5px; fill: rgb(0, 204, 150); fill-opacity: 1; stroke: rgb(229, 236, 246); stroke-opacity: 1;\"/></g><g class=\"point\"><path d=\"M797.98,77.14V56.6H809.56V77.14Z\" style=\"vector-effect: non-scaling-stroke; opacity: 1; stroke-width: 0.5px; fill: rgb(0, 204, 150); fill-opacity: 1; stroke: rgb(229, 236, 246); stroke-opacity: 1;\"/></g><g class=\"point\"><path d=\"M812.46,80.38V56.6H824.05V80.38Z\" style=\"vector-effect: non-scaling-stroke; opacity: 1; stroke-width: 0.5px; fill: rgb(0, 204, 150); fill-opacity: 1; stroke: rgb(229, 236, 246); stroke-opacity: 1;\"/></g><g class=\"point\"><path d=\"M826.94,83.62V56.06H838.53V83.62Z\" style=\"vector-effect: non-scaling-stroke; opacity: 1; stroke-width: 0.5px; fill: rgb(0, 204, 150); fill-opacity: 1; stroke: rgb(229, 236, 246); stroke-opacity: 1;\"/></g><g class=\"point\"><path d=\"M841.42,74.43V56.6H853.01V74.43Z\" style=\"vector-effect: non-scaling-stroke; opacity: 1; stroke-width: 0.5px; fill: rgb(0, 204, 150); fill-opacity: 1; stroke: rgb(229, 236, 246); stroke-opacity: 1;\"/></g><g class=\"point\"><path d=\"M855.91,80.38V60.38H867.49V80.38Z\" style=\"vector-effect: non-scaling-stroke; opacity: 1; stroke-width: 0.5px; fill: rgb(0, 204, 150); fill-opacity: 1; stroke: rgb(229, 236, 246); stroke-opacity: 1;\"/></g><g class=\"point\"><path d=\"M870.39,79.3V56.6H881.98V79.3Z\" style=\"vector-effect: non-scaling-stroke; opacity: 1; stroke-width: 0.5px; fill: rgb(0, 204, 150); fill-opacity: 1; stroke: rgb(229, 236, 246); stroke-opacity: 1;\"/></g><g class=\"point\"><path d=\"M884.87,80.92V56.6H896.46V80.92Z\" style=\"vector-effect: non-scaling-stroke; opacity: 1; stroke-width: 0.5px; fill: rgb(0, 204, 150); fill-opacity: 1; stroke: rgb(229, 236, 246); stroke-opacity: 1;\"/></g><g class=\"point\"><path d=\"M899.35,92.27V56.6H910.94V92.27Z\" style=\"vector-effect: non-scaling-stroke; opacity: 1; stroke-width: 0.5px; fill: rgb(0, 204, 150); fill-opacity: 1; stroke: rgb(229, 236, 246); stroke-opacity: 1;\"/></g><g class=\"point\"><path d=\"M913.84,84.16V56.6H925.42V84.16Z\" style=\"vector-effect: non-scaling-stroke; opacity: 1; stroke-width: 0.5px; fill: rgb(0, 204, 150); fill-opacity: 1; stroke: rgb(229, 236, 246); stroke-opacity: 1;\"/></g><g class=\"point\"><path d=\"M928.32,96.05V56.6H939.9V96.05Z\" style=\"vector-effect: non-scaling-stroke; opacity: 1; stroke-width: 0.5px; fill: rgb(0, 204, 150); fill-opacity: 1; stroke: rgb(229, 236, 246); stroke-opacity: 1;\"/></g><g class=\"point\"><path d=\"M942.8,65.25V56.6H954.39V65.25Z\" style=\"vector-effect: non-scaling-stroke; opacity: 1; stroke-width: 0.5px; fill: rgb(0, 204, 150); fill-opacity: 1; stroke: rgb(229, 236, 246); stroke-opacity: 1;\"/></g><g class=\"point\"><path d=\"M957.28,74.43V56.6H968.87V74.43Z\" style=\"vector-effect: non-scaling-stroke; opacity: 1; stroke-width: 0.5px; fill: rgb(0, 204, 150); fill-opacity: 1; stroke: rgb(229, 236, 246); stroke-opacity: 1;\"/></g><g class=\"point\"><path d=\"M971.77,107.94V56.6H983.35V107.94Z\" style=\"vector-effect: non-scaling-stroke; opacity: 1; stroke-width: 0.5px; fill: rgb(0, 204, 150); fill-opacity: 1; stroke: rgb(229, 236, 246); stroke-opacity: 1;\"/></g><g class=\"point\"><path d=\"M986.25,68.49V56.6H997.83V68.49Z\" style=\"vector-effect: non-scaling-stroke; opacity: 1; stroke-width: 0.5px; fill: rgb(0, 204, 150); fill-opacity: 1; stroke: rgb(229, 236, 246); stroke-opacity: 1;\"/></g><g class=\"point\"><path d=\"M1000.73,97.67V56.6H1012.32V97.67Z\" style=\"vector-effect: non-scaling-stroke; opacity: 1; stroke-width: 0.5px; fill: rgb(0, 204, 150); fill-opacity: 1; stroke: rgb(229, 236, 246); stroke-opacity: 1;\"/></g><g class=\"point\"><path d=\"M1015.21,77.68V57.14H1026.8V77.68Z\" style=\"vector-effect: non-scaling-stroke; opacity: 1; stroke-width: 0.5px; fill: rgb(0, 204, 150); fill-opacity: 1; stroke: rgb(229, 236, 246); stroke-opacity: 1;\"/></g><g class=\"point\"><path d=\"M1029.7,84.7V56.06H1041.28V84.7Z\" style=\"vector-effect: non-scaling-stroke; opacity: 1; stroke-width: 0.5px; fill: rgb(0, 204, 150); fill-opacity: 1; stroke: rgb(229, 236, 246); stroke-opacity: 1;\"/></g><g class=\"point\"><path d=\"M1044.18,81.46V53.9H1055.76V81.46Z\" style=\"vector-effect: non-scaling-stroke; opacity: 1; stroke-width: 0.5px; fill: rgb(0, 204, 150); fill-opacity: 1; stroke: rgb(229, 236, 246); stroke-opacity: 1;\"/></g><g class=\"point\"><path d=\"M1058.66,70.65V56.06H1070.25V70.65Z\" style=\"vector-effect: non-scaling-stroke; opacity: 1; stroke-width: 0.5px; fill: rgb(0, 204, 150); fill-opacity: 1; stroke: rgb(229, 236, 246); stroke-opacity: 1;\"/></g><g class=\"point\"><path d=\"M1073.14,91.19V56.6H1084.73V91.19Z\" style=\"vector-effect: non-scaling-stroke; opacity: 1; stroke-width: 0.5px; fill: rgb(0, 204, 150); fill-opacity: 1; stroke: rgb(229, 236, 246); stroke-opacity: 1;\"/></g><g class=\"point\"><path d=\"M1087.62,89.02V56.6H1099.21V89.02Z\" style=\"vector-effect: non-scaling-stroke; opacity: 1; stroke-width: 0.5px; fill: rgb(0, 204, 150); fill-opacity: 1; stroke: rgb(229, 236, 246); stroke-opacity: 1;\"/></g><g class=\"point\"><path d=\"M1102.11,69.03V56.6H1113.69V69.03Z\" style=\"vector-effect: non-scaling-stroke; opacity: 1; stroke-width: 0.5px; fill: rgb(0, 204, 150); fill-opacity: 1; stroke: rgb(229, 236, 246); stroke-opacity: 1;\"/></g><g class=\"point\"><path d=\"M1116.59,103.97V32.91H1128.18V103.97Z\" style=\"vector-effect: non-scaling-stroke; opacity: 1; stroke-width: 0.5px; fill: rgb(0, 204, 150); fill-opacity: 1; stroke: rgb(229, 236, 246); stroke-opacity: 1;\"/></g><g class=\"point\"><path d=\"M1131.07,72.09V56.78H1142.66V72.09Z\" style=\"vector-effect: non-scaling-stroke; opacity: 1; stroke-width: 0.5px; fill: rgb(0, 204, 150); fill-opacity: 1; stroke: rgb(229, 236, 246); stroke-opacity: 1;\"/></g><g class=\"point\"><path d=\"M1145.55,97.85V56.78H1157.14V97.85Z\" style=\"vector-effect: non-scaling-stroke; opacity: 1; stroke-width: 0.5px; fill: rgb(0, 204, 150); fill-opacity: 1; stroke: rgb(229, 236, 246); stroke-opacity: 1;\"/></g><g class=\"point\"><path d=\"M1160.04,64.71V56.06H1171.62V64.71Z\" style=\"vector-effect: non-scaling-stroke; opacity: 1; stroke-width: 0.5px; fill: rgb(0, 204, 150); fill-opacity: 1; stroke: rgb(229, 236, 246); stroke-opacity: 1;\"/></g><g class=\"point\"><path d=\"M1174.52,63.9V49.3H1186.1V63.9Z\" style=\"vector-effect: non-scaling-stroke; opacity: 1; stroke-width: 0.5px; fill: rgb(0, 204, 150); fill-opacity: 1; stroke: rgb(229, 236, 246); stroke-opacity: 1;\"/></g><g class=\"point\"><path d=\"M1189,59.84V56.06H1200.59V59.84Z\" style=\"vector-effect: non-scaling-stroke; opacity: 1; stroke-width: 0.5px; fill: rgb(0, 204, 150); fill-opacity: 1; stroke: rgb(229, 236, 246); stroke-opacity: 1;\"/></g><g class=\"point\"><path d=\"M1203.48,112.08V40.75H1215.07V112.08Z\" style=\"vector-effect: non-scaling-stroke; opacity: 1; stroke-width: 0.5px; fill: rgb(0, 204, 150); fill-opacity: 1; stroke: rgb(229, 236, 246); stroke-opacity: 1;\"/></g><g class=\"point\"><path d=\"M1217.97,82.81V29.85H1229.55V82.81Z\" style=\"vector-effect: non-scaling-stroke; opacity: 1; stroke-width: 0.5px; fill: rgb(0, 204, 150); fill-opacity: 1; stroke: rgb(229, 236, 246); stroke-opacity: 1;\"/></g></g></g></g></g><g class=\"overplot\"/><path class=\"xlines-above crisp\" d=\"M0,0\" style=\"fill: none;\"/><path class=\"ylines-above crisp\" d=\"M0,0\" style=\"fill: none;\"/><g class=\"overlines-above\"/><g class=\"xaxislayer-above\"><g class=\"xtick\"><text text-anchor=\"end\" x=\"-1.75\" y=\"705\" transform=\"translate(87.24,0) rotate(-90,-1.75,700)\" style=\"font-family: 'Open Sans', verdana, arial, sans-serif; font-size: 10px; fill: rgb(42, 63, 95); fill-opacity: 1; white-space: pre; opacity: 1;\">Еврейская автономная область</text></g><g class=\"xtick\"><text text-anchor=\"end\" x=\"-1.75\" y=\"705\" transform=\"translate(101.72,0) rotate(-90,-1.75,700)\" style=\"font-family: 'Open Sans', verdana, arial, sans-serif; font-size: 10px; fill: rgb(42, 63, 95); fill-opacity: 1; white-space: pre; opacity: 1;\">Кабардино-Балкарская Республика</text></g><g class=\"xtick\"><text text-anchor=\"end\" x=\"-1.75\" y=\"705\" transform=\"translate(116.21000000000001,0) rotate(-90,-1.75,700)\" style=\"font-family: 'Open Sans', verdana, arial, sans-serif; font-size: 10px; fill: rgb(42, 63, 95); fill-opacity: 1; white-space: pre; opacity: 1;\">Карачаево-Черкесская Республика</text></g><g class=\"xtick\"><text text-anchor=\"end\" x=\"-1.75\" y=\"705\" transform=\"translate(130.69,0) rotate(-90,-1.75,700)\" style=\"font-family: 'Open Sans', verdana, arial, sans-serif; font-size: 10px; fill: rgb(42, 63, 95); fill-opacity: 1; white-space: pre; opacity: 1;\">Республика Адыгея</text></g><g class=\"xtick\"><text text-anchor=\"end\" x=\"-1.75\" y=\"705\" transform=\"translate(145.17000000000002,0) rotate(-90,-1.75,700)\" style=\"font-family: 'Open Sans', verdana, arial, sans-serif; font-size: 10px; fill: rgb(42, 63, 95); fill-opacity: 1; white-space: pre; opacity: 1;\">Республика Алтай</text></g><g class=\"xtick\"><text text-anchor=\"end\" x=\"-1.75\" y=\"705\" transform=\"translate(159.65,0) rotate(-90,-1.75,700)\" style=\"font-family: 'Open Sans', verdana, arial, sans-serif; font-size: 10px; fill: rgb(42, 63, 95); fill-opacity: 1; white-space: pre; opacity: 1;\">Республика Дагестан</text></g><g class=\"xtick\"><text text-anchor=\"end\" x=\"-1.75\" y=\"705\" transform=\"translate(174.14,0) rotate(-90,-1.75,700)\" style=\"font-family: 'Open Sans', verdana, arial, sans-serif; font-size: 10px; fill: rgb(42, 63, 95); fill-opacity: 1; white-space: pre; opacity: 1;\">Республика Ингушетия</text></g><g class=\"xtick\"><text text-anchor=\"end\" x=\"-1.75\" y=\"705\" transform=\"translate(188.62,0) rotate(-90,-1.75,700)\" style=\"font-family: 'Open Sans', verdana, arial, sans-serif; font-size: 10px; fill: rgb(42, 63, 95); fill-opacity: 1; white-space: pre; opacity: 1;\">Республика Калмыкия</text></g><g class=\"xtick\"><text text-anchor=\"end\" x=\"-1.75\" y=\"705\" transform=\"translate(203.1,0) rotate(-90,-1.75,700)\" style=\"font-family: 'Open Sans', verdana, arial, sans-serif; font-size: 10px; fill: rgb(42, 63, 95); fill-opacity: 1; white-space: pre; opacity: 1;\">Республика Тыва</text></g><g class=\"xtick\"><text text-anchor=\"end\" x=\"-1.75\" y=\"705\" transform=\"translate(217.58,0) rotate(-90,-1.75,700)\" style=\"font-family: 'Open Sans', verdana, arial, sans-serif; font-size: 10px; fill: rgb(42, 63, 95); fill-opacity: 1; white-space: pre; opacity: 1;\">Чеченская Республика</text></g><g class=\"xtick\"><text text-anchor=\"end\" x=\"-1.75\" y=\"705\" transform=\"translate(232.06,0) rotate(-90,-1.75,700)\" style=\"font-family: 'Open Sans', verdana, arial, sans-serif; font-size: 10px; fill: rgb(42, 63, 95); fill-opacity: 1; white-space: pre; opacity: 1;\">Алтайский край</text></g><g class=\"xtick\"><text text-anchor=\"end\" x=\"-1.75\" y=\"705\" transform=\"translate(246.55,0) rotate(-90,-1.75,700)\" style=\"font-family: 'Open Sans', verdana, arial, sans-serif; font-size: 10px; fill: rgb(42, 63, 95); fill-opacity: 1; white-space: pre; opacity: 1;\">Брянская область</text></g><g class=\"xtick\"><text text-anchor=\"end\" x=\"-1.75\" y=\"705\" transform=\"translate(261.03,0) rotate(-90,-1.75,700)\" style=\"font-family: 'Open Sans', verdana, arial, sans-serif; font-size: 10px; fill: rgb(42, 63, 95); fill-opacity: 1; white-space: pre; opacity: 1;\">Забайкальский край</text></g><g class=\"xtick\"><text text-anchor=\"end\" x=\"-1.75\" y=\"705\" transform=\"translate(275.51,0) rotate(-90,-1.75,700)\" style=\"font-family: 'Open Sans', verdana, arial, sans-serif; font-size: 10px; fill: rgb(42, 63, 95); fill-opacity: 1; white-space: pre; opacity: 1;\">Ивановская область</text></g><g class=\"xtick\"><text text-anchor=\"end\" x=\"-1.75\" y=\"705\" transform=\"translate(289.99,0) rotate(-90,-1.75,700)\" style=\"font-family: 'Open Sans', verdana, arial, sans-serif; font-size: 10px; fill: rgb(42, 63, 95); fill-opacity: 1; white-space: pre; opacity: 1;\">Кировская область</text></g><g class=\"xtick\"><text text-anchor=\"end\" x=\"-1.75\" y=\"705\" transform=\"translate(304.48,0) rotate(-90,-1.75,700)\" style=\"font-family: 'Open Sans', verdana, arial, sans-serif; font-size: 10px; fill: rgb(42, 63, 95); fill-opacity: 1; white-space: pre; opacity: 1;\">Костромская область</text></g><g class=\"xtick\"><text text-anchor=\"end\" x=\"-1.75\" y=\"705\" transform=\"translate(318.96000000000004,0) rotate(-90,-1.75,700)\" style=\"font-family: 'Open Sans', verdana, arial, sans-serif; font-size: 10px; fill: rgb(42, 63, 95); fill-opacity: 1; white-space: pre; opacity: 1;\">Курганская область</text></g><g class=\"xtick\"><text text-anchor=\"end\" x=\"-1.75\" y=\"705\" transform=\"translate(333.44,0) rotate(-90,-1.75,700)\" style=\"font-family: 'Open Sans', verdana, arial, sans-serif; font-size: 10px; fill: rgb(42, 63, 95); fill-opacity: 1; white-space: pre; opacity: 1;\">Новгородская область</text></g><g class=\"xtick\"><text text-anchor=\"end\" x=\"-1.75\" y=\"705\" transform=\"translate(347.92,0) rotate(-90,-1.75,700)\" style=\"font-family: 'Open Sans', verdana, arial, sans-serif; font-size: 10px; fill: rgb(42, 63, 95); fill-opacity: 1; white-space: pre; opacity: 1;\">Орловская область</text></g><g class=\"xtick\"><text text-anchor=\"end\" x=\"-1.75\" y=\"705\" transform=\"translate(362.41,0) rotate(-90,-1.75,700)\" style=\"font-family: 'Open Sans', verdana, arial, sans-serif; font-size: 10px; fill: rgb(42, 63, 95); fill-opacity: 1; white-space: pre; opacity: 1;\">Пензенская область</text></g><g class=\"xtick\"><text text-anchor=\"end\" x=\"-1.75\" y=\"705\" transform=\"translate(376.89,0) rotate(-90,-1.75,700)\" style=\"font-family: 'Open Sans', verdana, arial, sans-serif; font-size: 10px; fill: rgb(42, 63, 95); fill-opacity: 1; white-space: pre; opacity: 1;\">Псковская область</text></g><g class=\"xtick\"><text text-anchor=\"end\" x=\"-1.75\" y=\"705\" transform=\"translate(391.37,0) rotate(-90,-1.75,700)\" style=\"font-family: 'Open Sans', verdana, arial, sans-serif; font-size: 10px; fill: rgb(42, 63, 95); fill-opacity: 1; white-space: pre; opacity: 1;\">Республика Бурятия</text></g><g class=\"xtick\"><text text-anchor=\"end\" x=\"-1.75\" y=\"705\" transform=\"translate(405.85,0) rotate(-90,-1.75,700)\" style=\"font-family: 'Open Sans', verdana, arial, sans-serif; font-size: 10px; fill: rgb(42, 63, 95); fill-opacity: 1; white-space: pre; opacity: 1;\">Республика Карелия</text></g><g class=\"xtick\"><text text-anchor=\"end\" x=\"-1.75\" y=\"705\" transform=\"translate(420.34,0) rotate(-90,-1.75,700)\" style=\"font-family: 'Open Sans', verdana, arial, sans-serif; font-size: 10px; fill: rgb(42, 63, 95); fill-opacity: 1; white-space: pre; opacity: 1;\">Республика Крым</text></g><g class=\"xtick\"><text text-anchor=\"end\" x=\"-1.75\" y=\"705\" transform=\"translate(434.82,0) rotate(-90,-1.75,700)\" style=\"font-family: 'Open Sans', verdana, arial, sans-serif; font-size: 10px; fill: rgb(42, 63, 95); fill-opacity: 1; white-space: pre; opacity: 1;\">Республика Марий Эл</text></g><g class=\"xtick\"><text text-anchor=\"end\" x=\"-1.75\" y=\"705\" transform=\"translate(449.3,0) rotate(-90,-1.75,700)\" style=\"font-family: 'Open Sans', verdana, arial, sans-serif; font-size: 10px; fill: rgb(42, 63, 95); fill-opacity: 1; white-space: pre; opacity: 1;\">Республика Мордовия</text></g><g class=\"xtick\"><text text-anchor=\"end\" x=\"-1.75\" y=\"705\" transform=\"translate(463.78,0) rotate(-90,-1.75,700)\" style=\"font-family: 'Open Sans', verdana, arial, sans-serif; font-size: 10px; fill: rgb(42, 63, 95); fill-opacity: 1; white-space: pre; opacity: 1;\">Республика Северная Осетия-Алания</text></g><g class=\"xtick\"><text text-anchor=\"end\" x=\"-1.75\" y=\"705\" transform=\"translate(478.26,0) rotate(-90,-1.75,700)\" style=\"font-family: 'Open Sans', verdana, arial, sans-serif; font-size: 10px; fill: rgb(42, 63, 95); fill-opacity: 1; white-space: pre; opacity: 1;\">Республика Хакасия</text></g><g class=\"xtick\"><text text-anchor=\"end\" x=\"-1.75\" y=\"705\" transform=\"translate(492.75,0) rotate(-90,-1.75,700)\" style=\"font-family: 'Open Sans', verdana, arial, sans-serif; font-size: 10px; fill: rgb(42, 63, 95); fill-opacity: 1; white-space: pre; opacity: 1;\">Саратовская область</text></g><g class=\"xtick\"><text text-anchor=\"end\" x=\"-1.75\" y=\"705\" transform=\"translate(507.23,0) rotate(-90,-1.75,700)\" style=\"font-family: 'Open Sans', verdana, arial, sans-serif; font-size: 10px; fill: rgb(42, 63, 95); fill-opacity: 1; white-space: pre; opacity: 1;\">Смоленская область</text></g><g class=\"xtick\"><text text-anchor=\"end\" x=\"-1.75\" y=\"705\" transform=\"translate(521.71,0) rotate(-90,-1.75,700)\" style=\"font-family: 'Open Sans', verdana, arial, sans-serif; font-size: 10px; fill: rgb(42, 63, 95); fill-opacity: 1; white-space: pre; opacity: 1;\">Ставропольский край</text></g><g class=\"xtick\"><text text-anchor=\"end\" x=\"-1.75\" y=\"705\" transform=\"translate(536.19,0) rotate(-90,-1.75,700)\" style=\"font-family: 'Open Sans', verdana, arial, sans-serif; font-size: 10px; fill: rgb(42, 63, 95); fill-opacity: 1; white-space: pre; opacity: 1;\">Томская область</text></g><g class=\"xtick\"><text text-anchor=\"end\" x=\"-1.75\" y=\"705\" transform=\"translate(550.6800000000001,0) rotate(-90,-1.75,700)\" style=\"font-family: 'Open Sans', verdana, arial, sans-serif; font-size: 10px; fill: rgb(42, 63, 95); fill-opacity: 1; white-space: pre; opacity: 1;\">Ульяновская область</text></g><g class=\"xtick\"><text text-anchor=\"end\" x=\"-1.75\" y=\"705\" transform=\"translate(565.1600000000001,0) rotate(-90,-1.75,700)\" style=\"font-family: 'Open Sans', verdana, arial, sans-serif; font-size: 10px; fill: rgb(42, 63, 95); fill-opacity: 1; white-space: pre; opacity: 1;\">Чувашская Республика</text></g><g class=\"xtick\"><text text-anchor=\"end\" x=\"-1.75\" y=\"705\" transform=\"translate(579.64,0) rotate(-90,-1.75,700)\" style=\"font-family: 'Open Sans', verdana, arial, sans-serif; font-size: 10px; fill: rgb(42, 63, 95); fill-opacity: 1; white-space: pre; opacity: 1;\">г. Севастополь</text></g><g class=\"xtick\"><text text-anchor=\"end\" x=\"-1.75\" y=\"705\" transform=\"translate(594.12,0) rotate(-90,-1.75,700)\" style=\"font-family: 'Open Sans', verdana, arial, sans-serif; font-size: 10px; fill: rgb(42, 63, 95); fill-opacity: 1; white-space: pre; opacity: 1;\">Амурская область</text></g><g class=\"xtick\"><text text-anchor=\"end\" x=\"-1.75\" y=\"705\" transform=\"translate(608.61,0) rotate(-90,-1.75,700)\" style=\"font-family: 'Open Sans', verdana, arial, sans-serif; font-size: 10px; fill: rgb(42, 63, 95); fill-opacity: 1; white-space: pre; opacity: 1;\">Архангельская область</text></g><g class=\"xtick\"><text text-anchor=\"end\" x=\"-1.75\" y=\"705\" transform=\"translate(623.09,0) rotate(-90,-1.75,700)\" style=\"font-family: 'Open Sans', verdana, arial, sans-serif; font-size: 10px; fill: rgb(42, 63, 95); fill-opacity: 1; white-space: pre; opacity: 1;\">Астраханская область</text></g><g class=\"xtick\"><text text-anchor=\"end\" x=\"-1.75\" y=\"705\" transform=\"translate(637.57,0) rotate(-90,-1.75,700)\" style=\"font-family: 'Open Sans', verdana, arial, sans-serif; font-size: 10px; fill: rgb(42, 63, 95); fill-opacity: 1; white-space: pre; opacity: 1;\">Белгородская область</text></g><g class=\"xtick\"><text text-anchor=\"end\" x=\"-1.75\" y=\"705\" transform=\"translate(652.05,0) rotate(-90,-1.75,700)\" style=\"font-family: 'Open Sans', verdana, arial, sans-serif; font-size: 10px; fill: rgb(42, 63, 95); fill-opacity: 1; white-space: pre; opacity: 1;\">Владимирская область</text></g><g class=\"xtick\"><text text-anchor=\"end\" x=\"-1.75\" y=\"705\" transform=\"translate(666.54,0) rotate(-90,-1.75,700)\" style=\"font-family: 'Open Sans', verdana, arial, sans-serif; font-size: 10px; fill: rgb(42, 63, 95); fill-opacity: 1; white-space: pre; opacity: 1;\">Волгоградская область</text></g><g class=\"xtick\"><text text-anchor=\"end\" x=\"-1.75\" y=\"705\" transform=\"translate(681.02,0) rotate(-90,-1.75,700)\" style=\"font-family: 'Open Sans', verdana, arial, sans-serif; font-size: 10px; fill: rgb(42, 63, 95); fill-opacity: 1; white-space: pre; opacity: 1;\">Вологодская область</text></g><g class=\"xtick\"><text text-anchor=\"end\" x=\"-1.75\" y=\"705\" transform=\"translate(695.5,0) rotate(-90,-1.75,700)\" style=\"font-family: 'Open Sans', verdana, arial, sans-serif; font-size: 10px; fill: rgb(42, 63, 95); fill-opacity: 1; white-space: pre; opacity: 1;\">Воронежская область</text></g><g class=\"xtick\"><text text-anchor=\"end\" x=\"-1.75\" y=\"705\" transform=\"translate(709.98,0) rotate(-90,-1.75,700)\" style=\"font-family: 'Open Sans', verdana, arial, sans-serif; font-size: 10px; fill: rgb(42, 63, 95); fill-opacity: 1; white-space: pre; opacity: 1;\">Иркутская область</text></g><g class=\"xtick\"><text text-anchor=\"end\" x=\"-1.75\" y=\"705\" transform=\"translate(724.46,0) rotate(-90,-1.75,700)\" style=\"font-family: 'Open Sans', verdana, arial, sans-serif; font-size: 10px; fill: rgb(42, 63, 95); fill-opacity: 1; white-space: pre; opacity: 1;\">Калининградская область</text></g><g class=\"xtick\"><text text-anchor=\"end\" x=\"-1.75\" y=\"705\" transform=\"translate(738.95,0) rotate(-90,-1.75,700)\" style=\"font-family: 'Open Sans', verdana, arial, sans-serif; font-size: 10px; fill: rgb(42, 63, 95); fill-opacity: 1; white-space: pre; opacity: 1;\">Калужская область</text></g><g class=\"xtick\"><text text-anchor=\"end\" x=\"-1.75\" y=\"705\" transform=\"translate(753.43,0) rotate(-90,-1.75,700)\" style=\"font-family: 'Open Sans', verdana, arial, sans-serif; font-size: 10px; fill: rgb(42, 63, 95); fill-opacity: 1; white-space: pre; opacity: 1;\">Камчатский край</text></g><g class=\"xtick\"><text text-anchor=\"end\" x=\"-1.75\" y=\"705\" transform=\"translate(767.91,0) rotate(-90,-1.75,700)\" style=\"font-family: 'Open Sans', verdana, arial, sans-serif; font-size: 10px; fill: rgb(42, 63, 95); fill-opacity: 1; white-space: pre; opacity: 1;\">Кемеровская область</text></g><g class=\"xtick\"><text text-anchor=\"end\" x=\"-1.75\" y=\"705\" transform=\"translate(782.39,0) rotate(-90,-1.75,700)\" style=\"font-family: 'Open Sans', verdana, arial, sans-serif; font-size: 10px; fill: rgb(42, 63, 95); fill-opacity: 1; white-space: pre; opacity: 1;\">Краснодарский край</text></g><g class=\"xtick\"><text text-anchor=\"end\" x=\"-1.75\" y=\"705\" transform=\"translate(796.88,0) rotate(-90,-1.75,700)\" style=\"font-family: 'Open Sans', verdana, arial, sans-serif; font-size: 10px; fill: rgb(42, 63, 95); fill-opacity: 1; white-space: pre; opacity: 1;\">Красноярский край</text></g><g class=\"xtick\"><text text-anchor=\"end\" x=\"-1.75\" y=\"705\" transform=\"translate(811.36,0) rotate(-90,-1.75,700)\" style=\"font-family: 'Open Sans', verdana, arial, sans-serif; font-size: 10px; fill: rgb(42, 63, 95); fill-opacity: 1; white-space: pre; opacity: 1;\">Курская область</text></g><g class=\"xtick\"><text text-anchor=\"end\" x=\"-1.75\" y=\"705\" transform=\"translate(825.84,0) rotate(-90,-1.75,700)\" style=\"font-family: 'Open Sans', verdana, arial, sans-serif; font-size: 10px; fill: rgb(42, 63, 95); fill-opacity: 1; white-space: pre; opacity: 1;\">Ленинградская область</text></g><g class=\"xtick\"><text text-anchor=\"end\" x=\"-1.75\" y=\"705\" transform=\"translate(840.32,0) rotate(-90,-1.75,700)\" style=\"font-family: 'Open Sans', verdana, arial, sans-serif; font-size: 10px; fill: rgb(42, 63, 95); fill-opacity: 1; white-space: pre; opacity: 1;\">Липецкая область</text></g><g class=\"xtick\"><text text-anchor=\"end\" x=\"-1.75\" y=\"705\" transform=\"translate(854.81,0) rotate(-90,-1.75,700)\" style=\"font-family: 'Open Sans', verdana, arial, sans-serif; font-size: 10px; fill: rgb(42, 63, 95); fill-opacity: 1; white-space: pre; opacity: 1;\">Московская область</text></g><g class=\"xtick\"><text text-anchor=\"end\" x=\"-1.75\" y=\"705\" transform=\"translate(869.29,0) rotate(-90,-1.75,700)\" style=\"font-family: 'Open Sans', verdana, arial, sans-serif; font-size: 10px; fill: rgb(42, 63, 95); fill-opacity: 1; white-space: pre; opacity: 1;\">Мурманская область</text></g><g class=\"xtick\"><text text-anchor=\"end\" x=\"-1.75\" y=\"705\" transform=\"translate(883.77,0) rotate(-90,-1.75,700)\" style=\"font-family: 'Open Sans', verdana, arial, sans-serif; font-size: 10px; fill: rgb(42, 63, 95); fill-opacity: 1; white-space: pre; opacity: 1;\">Нижегородская область</text></g><g class=\"xtick\"><text text-anchor=\"end\" x=\"-1.75\" y=\"705\" transform=\"translate(898.25,0) rotate(-90,-1.75,700)\" style=\"font-family: 'Open Sans', verdana, arial, sans-serif; font-size: 10px; fill: rgb(42, 63, 95); fill-opacity: 1; white-space: pre; opacity: 1;\">Новосибирская область</text></g><g class=\"xtick\"><text text-anchor=\"end\" x=\"-1.75\" y=\"705\" transform=\"translate(912.74,0) rotate(-90,-1.75,700)\" style=\"font-family: 'Open Sans', verdana, arial, sans-serif; font-size: 10px; fill: rgb(42, 63, 95); fill-opacity: 1; white-space: pre; opacity: 1;\">Омская область</text></g><g class=\"xtick\"><text text-anchor=\"end\" x=\"-1.75\" y=\"705\" transform=\"translate(927.22,0) rotate(-90,-1.75,700)\" style=\"font-family: 'Open Sans', verdana, arial, sans-serif; font-size: 10px; fill: rgb(42, 63, 95); fill-opacity: 1; white-space: pre; opacity: 1;\">Оренбургская область</text></g><g class=\"xtick\"><text text-anchor=\"end\" x=\"-1.75\" y=\"705\" transform=\"translate(941.7,0) rotate(-90,-1.75,700)\" style=\"font-family: 'Open Sans', verdana, arial, sans-serif; font-size: 10px; fill: rgb(42, 63, 95); fill-opacity: 1; white-space: pre; opacity: 1;\">Пермский край</text></g><g class=\"xtick\"><text text-anchor=\"end\" x=\"-1.75\" y=\"705\" transform=\"translate(956.18,0) rotate(-90,-1.75,700)\" style=\"font-family: 'Open Sans', verdana, arial, sans-serif; font-size: 10px; fill: rgb(42, 63, 95); fill-opacity: 1; white-space: pre; opacity: 1;\">Приморский край</text></g><g class=\"xtick\"><text text-anchor=\"end\" x=\"-1.75\" y=\"705\" transform=\"translate(970.66,0) rotate(-90,-1.75,700)\" style=\"font-family: 'Open Sans', verdana, arial, sans-serif; font-size: 10px; fill: rgb(42, 63, 95); fill-opacity: 1; white-space: pre; opacity: 1;\">Республика Башкортостан</text></g><g class=\"xtick\"><text text-anchor=\"end\" x=\"-1.75\" y=\"705\" transform=\"translate(985.15,0) rotate(-90,-1.75,700)\" style=\"font-family: 'Open Sans', verdana, arial, sans-serif; font-size: 10px; fill: rgb(42, 63, 95); fill-opacity: 1; white-space: pre; opacity: 1;\">Республика Коми</text></g><g class=\"xtick\"><text text-anchor=\"end\" x=\"-1.75\" y=\"705\" transform=\"translate(999.63,0) rotate(-90,-1.75,700)\" style=\"font-family: 'Open Sans', verdana, arial, sans-serif; font-size: 10px; fill: rgb(42, 63, 95); fill-opacity: 1; white-space: pre; opacity: 1;\">Республика Саха (Якутия)</text></g><g class=\"xtick\"><text text-anchor=\"end\" x=\"-1.75\" y=\"705\" transform=\"translate(1014.11,0) rotate(-90,-1.75,700)\" style=\"font-family: 'Open Sans', verdana, arial, sans-serif; font-size: 10px; fill: rgb(42, 63, 95); fill-opacity: 1; white-space: pre; opacity: 1;\">Республика Татарстан</text></g><g class=\"xtick\"><text text-anchor=\"end\" x=\"-1.75\" y=\"705\" transform=\"translate(1028.5900000000001,0) rotate(-90,-1.75,700)\" style=\"font-family: 'Open Sans', verdana, arial, sans-serif; font-size: 10px; fill: rgb(42, 63, 95); fill-opacity: 1; white-space: pre; opacity: 1;\">Ростовская область</text></g><g class=\"xtick\"><text text-anchor=\"end\" x=\"-1.75\" y=\"705\" transform=\"translate(1043.08,0) rotate(-90,-1.75,700)\" style=\"font-family: 'Open Sans', verdana, arial, sans-serif; font-size: 10px; fill: rgb(42, 63, 95); fill-opacity: 1; white-space: pre; opacity: 1;\">Рязанская область</text></g><g class=\"xtick\"><text text-anchor=\"end\" x=\"-1.75\" y=\"705\" transform=\"translate(1057.56,0) rotate(-90,-1.75,700)\" style=\"font-family: 'Open Sans', verdana, arial, sans-serif; font-size: 10px; fill: rgb(42, 63, 95); fill-opacity: 1; white-space: pre; opacity: 1;\">Самарская область</text></g><g class=\"xtick\"><text text-anchor=\"end\" x=\"-1.75\" y=\"705\" transform=\"translate(1072.04,0) rotate(-90,-1.75,700)\" style=\"font-family: 'Open Sans', verdana, arial, sans-serif; font-size: 10px; fill: rgb(42, 63, 95); fill-opacity: 1; white-space: pre; opacity: 1;\">Свердловская область</text></g><g class=\"xtick\"><text text-anchor=\"end\" x=\"-1.75\" y=\"705\" transform=\"translate(1086.52,0) rotate(-90,-1.75,700)\" style=\"font-family: 'Open Sans', verdana, arial, sans-serif; font-size: 10px; fill: rgb(42, 63, 95); fill-opacity: 1; white-space: pre; opacity: 1;\">Тамбовская область</text></g><g class=\"xtick\"><text text-anchor=\"end\" x=\"-1.75\" y=\"705\" transform=\"translate(1101.01,0) rotate(-90,-1.75,700)\" style=\"font-family: 'Open Sans', verdana, arial, sans-serif; font-size: 10px; fill: rgb(42, 63, 95); fill-opacity: 1; white-space: pre; opacity: 1;\">Тверская область</text></g><g class=\"xtick\"><text text-anchor=\"end\" x=\"-1.75\" y=\"705\" transform=\"translate(1115.49,0) rotate(-90,-1.75,700)\" style=\"font-family: 'Open Sans', verdana, arial, sans-serif; font-size: 10px; fill: rgb(42, 63, 95); fill-opacity: 1; white-space: pre; opacity: 1;\">Тульская область</text></g><g class=\"xtick\"><text text-anchor=\"end\" x=\"-1.75\" y=\"705\" transform=\"translate(1129.97,0) rotate(-90,-1.75,700)\" style=\"font-family: 'Open Sans', verdana, arial, sans-serif; font-size: 10px; fill: rgb(42, 63, 95); fill-opacity: 1; white-space: pre; opacity: 1;\">Тюменская область</text></g><g class=\"xtick\"><text text-anchor=\"end\" x=\"-1.75\" y=\"705\" transform=\"translate(1144.45,0) rotate(-90,-1.75,700)\" style=\"font-family: 'Open Sans', verdana, arial, sans-serif; font-size: 10px; fill: rgb(42, 63, 95); fill-opacity: 1; white-space: pre; opacity: 1;\">Удмуртская Республика</text></g><g class=\"xtick\"><text text-anchor=\"end\" x=\"-1.75\" y=\"705\" transform=\"translate(1158.94,0) rotate(-90,-1.75,700)\" style=\"font-family: 'Open Sans', verdana, arial, sans-serif; font-size: 10px; fill: rgb(42, 63, 95); fill-opacity: 1; white-space: pre; opacity: 1;\">Хабаровский край</text></g><g class=\"xtick\"><text text-anchor=\"end\" x=\"-1.75\" y=\"705\" transform=\"translate(1173.42,0) rotate(-90,-1.75,700)\" style=\"font-family: 'Open Sans', verdana, arial, sans-serif; font-size: 10px; fill: rgb(42, 63, 95); fill-opacity: 1; white-space: pre; opacity: 1;\">Челябинская область</text></g><g class=\"xtick\"><text text-anchor=\"end\" x=\"-1.75\" y=\"705\" transform=\"translate(1187.9,0) rotate(-90,-1.75,700)\" style=\"font-family: 'Open Sans', verdana, arial, sans-serif; font-size: 10px; fill: rgb(42, 63, 95); fill-opacity: 1; white-space: pre; opacity: 1;\">Ярославская область</text></g><g class=\"xtick\"><text text-anchor=\"end\" x=\"-1.75\" y=\"705\" transform=\"translate(1202.38,0) rotate(-90,-1.75,700)\" style=\"font-family: 'Open Sans', verdana, arial, sans-serif; font-size: 10px; fill: rgb(42, 63, 95); fill-opacity: 1; white-space: pre; opacity: 1;\">Магаданская область</text></g><g class=\"xtick\"><text text-anchor=\"end\" x=\"-1.75\" y=\"705\" transform=\"translate(1216.86,0) rotate(-90,-1.75,700)\" style=\"font-family: 'Open Sans', verdana, arial, sans-serif; font-size: 10px; fill: rgb(42, 63, 95); fill-opacity: 1; white-space: pre; opacity: 1;\">Ненецкий автономный округ</text></g><g class=\"xtick\"><text text-anchor=\"end\" x=\"-1.75\" y=\"705\" transform=\"translate(1231.35,0) rotate(-90,-1.75,700)\" style=\"font-family: 'Open Sans', verdana, arial, sans-serif; font-size: 10px; fill: rgb(42, 63, 95); fill-opacity: 1; white-space: pre; opacity: 1;\">Сахалинская область</text></g><g class=\"xtick\"><text text-anchor=\"end\" x=\"-1.75\" y=\"705\" transform=\"translate(1245.83,0) rotate(-90,-1.75,700)\" style=\"font-family: 'Open Sans', verdana, arial, sans-serif; font-size: 10px; fill: rgb(42, 63, 95); fill-opacity: 1; white-space: pre; opacity: 1;\">Ханты-Мансийский автономный округ - Югра</text></g><g class=\"xtick\"><text text-anchor=\"end\" x=\"-1.75\" y=\"705\" transform=\"translate(1260.31,0) rotate(-90,-1.75,700)\" style=\"font-family: 'Open Sans', verdana, arial, sans-serif; font-size: 10px; fill: rgb(42, 63, 95); fill-opacity: 1; white-space: pre; opacity: 1;\">Чукотский автономный округ</text></g><g class=\"xtick\"><text text-anchor=\"end\" x=\"-1.75\" y=\"705\" transform=\"translate(1274.79,0) rotate(-90,-1.75,700)\" style=\"font-family: 'Open Sans', verdana, arial, sans-serif; font-size: 10px; fill: rgb(42, 63, 95); fill-opacity: 1; white-space: pre; opacity: 1;\">Ямало-Ненецкий автономный округ</text></g><g class=\"xtick\"><text text-anchor=\"end\" x=\"-1.75\" y=\"705\" transform=\"translate(1289.28,0) rotate(-90,-1.75,700)\" style=\"font-family: 'Open Sans', verdana, arial, sans-serif; font-size: 10px; fill: rgb(42, 63, 95); fill-opacity: 1; white-space: pre; opacity: 1;\">г. Москва</text></g><g class=\"xtick\"><text text-anchor=\"end\" x=\"-1.75\" y=\"705\" transform=\"translate(1303.76,0) rotate(-90,-1.75,700)\" style=\"font-family: 'Open Sans', verdana, arial, sans-serif; font-size: 10px; fill: rgb(42, 63, 95); fill-opacity: 1; white-space: pre; opacity: 1;\">г. Санкт-Петербург</text></g></g><g class=\"yaxislayer-above\"><g class=\"ytick\"><text text-anchor=\"end\" x=\"79\" y=\"4.199999999999999\" transform=\"translate(0,697)\" style=\"font-family: 'Open Sans', verdana, arial, sans-serif; font-size: 12px; fill: rgb(42, 63, 95); fill-opacity: 1; white-space: pre; opacity: 1;\">0</text></g><g class=\"ytick\"><text text-anchor=\"end\" x=\"79\" y=\"4.199999999999999\" style=\"font-family: 'Open Sans', verdana, arial, sans-serif; font-size: 12px; fill: rgb(42, 63, 95); fill-opacity: 1; white-space: pre; opacity: 1;\" transform=\"translate(0,588.9200000000001)\">20</text></g><g class=\"ytick\"><text text-anchor=\"end\" x=\"79\" y=\"4.199999999999999\" style=\"font-family: 'Open Sans', verdana, arial, sans-serif; font-size: 12px; fill: rgb(42, 63, 95); fill-opacity: 1; white-space: pre; opacity: 1;\" transform=\"translate(0,480.84)\">40</text></g><g class=\"ytick\"><text text-anchor=\"end\" x=\"79\" y=\"4.199999999999999\" style=\"font-family: 'Open Sans', verdana, arial, sans-serif; font-size: 12px; fill: rgb(42, 63, 95); fill-opacity: 1; white-space: pre; opacity: 1;\" transform=\"translate(0,372.76)\">60</text></g><g class=\"ytick\"><text text-anchor=\"end\" x=\"79\" y=\"4.199999999999999\" style=\"font-family: 'Open Sans', verdana, arial, sans-serif; font-size: 12px; fill: rgb(42, 63, 95); fill-opacity: 1; white-space: pre; opacity: 1;\" transform=\"translate(0,264.68)\">80</text></g><g class=\"ytick\"><text text-anchor=\"end\" x=\"79\" y=\"4.199999999999999\" style=\"font-family: 'Open Sans', verdana, arial, sans-serif; font-size: 12px; fill: rgb(42, 63, 95); fill-opacity: 1; white-space: pre; opacity: 1;\" transform=\"translate(0,156.6)\">100</text></g></g><g class=\"overaxes-above\"/></g></g><g class=\"polarlayer\"/><g class=\"smithlayer\"/><g class=\"ternarylayer\"/><g class=\"geolayer\"/><g class=\"funnelarealayer\"/><g class=\"pielayer\"/><g class=\"iciclelayer\"/><g class=\"treemaplayer\"/><g class=\"sunburstlayer\"/><g class=\"glimages\"/><defs id=\"topdefs-de66d8\"><g class=\"clips\"/><clipPath id=\"legendde66d8\"><rect width=\"152\" height=\"86\" x=\"0\" y=\"0\"/></clipPath></defs><g class=\"layer-above\"><g class=\"imagelayer\"/><g class=\"shapelayer\"/></g><g class=\"infolayer\"><g class=\"legend\" pointer-events=\"all\" transform=\"translate(1335.6200000000001,100)\"><rect class=\"bg\" shape-rendering=\"crispEdges\" width=\"152\" height=\"86\" x=\"0\" y=\"0\" style=\"stroke: rgb(68, 68, 68); stroke-opacity: 1; fill: rgb(255, 255, 255); fill-opacity: 1; stroke-width: 0px;\"/><g class=\"scrollbox\" transform=\"\" clip-path=\"url(#legendde66d8)\"><text class=\"legendtitletext\" text-anchor=\"start\" x=\"2\" y=\"18.2\" style=\"font-family: 'Open Sans', verdana, arial, sans-serif; font-size: 14px; fill: rgb(42, 63, 95); fill-opacity: 1; white-space: pre;\">Социальные группы</text><g class=\"groups\" transform=\"\"><g class=\"traces\" transform=\"translate(0,32.7)\" style=\"opacity: 1;\"><text class=\"legendtext\" text-anchor=\"start\" x=\"40\" y=\"4.680000000000001\" style=\"font-family: 'Open Sans', verdana, arial, sans-serif; font-size: 12px; fill: rgb(42, 63, 95); fill-opacity: 1; white-space: pre;\">дети</text><g class=\"layers\" style=\"opacity: 1;\"><g class=\"legendfill\"/><g class=\"legendlines\"/><g class=\"legendsymbols\"><g class=\"legendpoints\"><path class=\"legendundefined\" d=\"M6,6H-6V-6H6Z\" transform=\"translate(20,0)\" style=\"stroke-width: 0.5px; fill: rgb(99, 110, 250); fill-opacity: 1; stroke: rgb(229, 236, 246); stroke-opacity: 1;\"/></g></g></g><rect class=\"legendtoggle\" x=\"0\" y=\"-9.5\" width=\"143.015625\" height=\"19\" style=\"fill: rgb(0, 0, 0); fill-opacity: 0;\"/></g></g><g class=\"groups\" transform=\"\"><g class=\"traces\" transform=\"translate(0,51.7)\" style=\"opacity: 1;\"><text class=\"legendtext\" text-anchor=\"start\" x=\"40\" y=\"4.680000000000001\" style=\"font-family: 'Open Sans', verdana, arial, sans-serif; font-size: 12px; fill: rgb(42, 63, 95); fill-opacity: 1; white-space: pre;\">трудоспособные</text><g class=\"layers\" style=\"opacity: 1;\"><g class=\"legendfill\"/><g class=\"legendlines\"/><g class=\"legendsymbols\"><g class=\"legendpoints\"><path class=\"legendundefined\" d=\"M6,6H-6V-6H6Z\" transform=\"translate(20,0)\" style=\"stroke-width: 0.5px; fill: rgb(239, 85, 59); fill-opacity: 1; stroke: rgb(229, 236, 246); stroke-opacity: 1;\"/></g></g></g><rect class=\"legendtoggle\" x=\"0\" y=\"-9.5\" width=\"143.015625\" height=\"19\" style=\"fill: rgb(0, 0, 0); fill-opacity: 0;\"/></g></g><g class=\"groups\" transform=\"\"><g class=\"traces\" transform=\"translate(0,70.7)\" style=\"opacity: 1;\"><text class=\"legendtext\" text-anchor=\"start\" x=\"40\" y=\"4.680000000000001\" style=\"font-family: 'Open Sans', verdana, arial, sans-serif; font-size: 12px; fill: rgb(42, 63, 95); fill-opacity: 1; white-space: pre;\">пенсионеры</text><g class=\"layers\" style=\"opacity: 1;\"><g class=\"legendfill\"/><g class=\"legendlines\"/><g class=\"legendsymbols\"><g class=\"legendpoints\"><path class=\"legendundefined\" d=\"M6,6H-6V-6H6Z\" transform=\"translate(20,0)\" style=\"stroke-width: 0.5px; fill: rgb(0, 204, 150); fill-opacity: 1; stroke: rgb(229, 236, 246); stroke-opacity: 1;\"/></g></g></g><rect class=\"legendtoggle\" x=\"0\" y=\"-9.5\" width=\"143.015625\" height=\"19\" style=\"fill: rgb(0, 0, 0); fill-opacity: 0;\"/></g></g></g><rect class=\"scrollbar\" rx=\"20\" ry=\"3\" width=\"0\" height=\"0\" x=\"0\" y=\"0\" style=\"fill: rgb(128, 139, 164); fill-opacity: 1;\"/></g><g class=\"g-gtitle\"><text class=\"gtitle\" x=\"75\" y=\"50\" text-anchor=\"start\" dy=\"0em\" style=\"font-family: 'Open Sans', verdana, arial, sans-serif; font-size: 17px; fill: rgb(42, 63, 95); opacity: 1; font-weight: normal; white-space: pre;\">Социально-демографический состав малоимущего населения</text></g><g class=\"g-xtitle\"/><g class=\"g-ytitle\"><text class=\"ytitle\" transform=\"rotate(-90,31.309375000000003,398.5)\" x=\"31.309375000000003\" y=\"398.5\" text-anchor=\"middle\" style=\"font-family: 'Open Sans', verdana, arial, sans-serif; font-size: 14px; fill: rgb(42, 63, 95); opacity: 1; font-weight: normal; white-space: pre;\">Проценты</text></g></g></svg>"
      ]
     },
     "metadata": {},
     "output_type": "display_data"
    }
   ],
   "source": [
    "# Сбросим индекс, так как 'region' будет использован для сортировки\n",
    "plot_df = russia_regions_cl.reset_index().sort_values(by=['Cluster', 'region'])\n",
    "\n",
    "# Переименовываем столбцы\n",
    "plot_df = plot_df.rename({\n",
    "    'the poor: children': 'дети',\n",
    "    'the poor: employable': 'трудоспособные',\n",
    "    'the poor: retired': 'пенсионеры' \n",
    "}, axis=1)\n",
    "\n",
    "# Создаем график\n",
    "fig = px.bar(plot_df, x='region', y=['дети', 'трудоспособные', 'пенсионеры'], width=1500, height=950,\n",
    "    title='Социально-демографический состав малоимущего населения')\n",
    "fig.layout.xaxis.tickfont.size = 10\n",
    "fig.update_xaxes(tickangle=270, title=None)\n",
    "fig.update_yaxes(title='Проценты')\n",
    "fig.layout.legend.title = 'Социальные группы'\n",
    "fig.show('svg')"
   ]
  },
  {
   "cell_type": "markdown",
   "id": "d0f395b3",
   "metadata": {},
   "source": [
    "Рассчитаем процент малоимущих в социально-демографических группах."
   ]
  },
  {
   "cell_type": "code",
   "execution_count": 45,
   "id": "69d08a0d",
   "metadata": {},
   "outputs": [
    {
     "name": "stdout",
     "output_type": "stream",
     "text": [
      "poor_children_percent     24.86\n",
      "poor_employable_percent   14.56\n",
      "poor_retired_percent       3.47\n",
      "dtype: float64\n"
     ]
    }
   ],
   "source": [
    "# Найдем children_percent для наших дальнейших вычислений\n",
    "russia_regions_cl['children_percent'] = russia_regions_cl['children'] / russia_regions_cl['population'] * 100\n",
    "\n",
    "# Создадим датафрейм из копию определенных колонок датафрейма russia_regions_cl\n",
    "socgroups = russia_regions_cl[[\n",
    "    'population', 'poverty_percent', 'the poor: children',\n",
    "    'the poor: retired', 'the poor: employable', 'children',\n",
    "    'children_percent', 'retired_percent']].copy()\n",
    "\n",
    "# Процент трудоспособных\n",
    "socgroups['employable_percent'] = (100 - socgroups['children_percent'] - socgroups['retired_percent']) \n",
    "\n",
    "# Количество малоимущих\n",
    "socgroups['the_poor'] = (socgroups['population'] * socgroups['poverty_percent'] / 100).round(0).astype(int)  \n",
    "\n",
    "# Количество людей в социально-демографических группах\n",
    "# 'children' нам уже известно\n",
    "# Найдем остальных\n",
    "socgroups['employable'] = ((socgroups['population'] * socgroups['employable_percent'] / 100).round(0).astype(int))  \n",
    "socgroups['retired'] = ((socgroups['population'] * socgroups['retired_percent'] / 100).round(0).astype(int))  \n",
    "\n",
    "# Количество малоимущих в социально-демографических группах\n",
    "socgroups['poor_children'] = ((socgroups['the_poor'] * socgroups['the poor: children'] / 100).round(0).astype(int))\n",
    "socgroups['poor_employable'] = ((socgroups['the_poor'] * socgroups['the poor: employable'] / 100).round(0).astype(int))   \n",
    "socgroups['poor_retired'] = ((socgroups['the_poor'] * socgroups['the poor: retired'] / 100).round(0).astype(int))    \n",
    "\n",
    "# Процент малоимущих в социально-демографических группах\n",
    "socgroups['poor_children_percent'] = ((socgroups['poor_children'] / socgroups['children'] * 100))  \n",
    "socgroups['poor_employable_percent'] = ((socgroups['poor_employable'] / socgroups['employable'] * 100))  \n",
    "socgroups['poor_retired_percent'] = ((socgroups['poor_retired'] / socgroups['retired'] * 100))  \n",
    "\n",
    "# Среднее по РФ\n",
    "cols =['poor_children_percent', 'poor_employable_percent', 'poor_retired_percent']\n",
    "poor_percent = socgroups[cols].mean()\n",
    "\n",
    "# Посмотрим на результат\n",
    "print(poor_percent)"
   ]
  },
  {
   "cell_type": "markdown",
   "id": "8abad81a",
   "metadata": {},
   "source": [
    "В среднем по стране за чертой бедности находятся 25% детей, 14% трудоспособного населения и около 3% пенсионеров. Данная статистика свидетельствует о том, что малоимущими чаще оказываются семьи с детьми - видим большой процент малоимущих среди детей при гораздо меньшем проценте малоимущих среди трудоспособного населения. При этом трудоспособные составляют 56% малоимущего населения - больше чем дети (39%), т.е. многие из малоимущих оказываются в бедственном положении уже при рождении первого ребенка (т.к. оба родителя переходят в разряд малоимущих)."
   ]
  },
  {
   "cell_type": "code",
   "execution_count": 46,
   "id": "e90e8f7a",
   "metadata": {},
   "outputs": [
    {
     "data": {
      "image/png": "[encoded data removed]",
      "text/plain": [
       "<Figure size 1600x500 with 3 Axes>"
      ]
     },
     "metadata": {},
     "output_type": "display_data"
    }
   ],
   "source": [
    "# Визуализируем получившиеся результаты\n",
    "# Запишем названия для каждого сектора\n",
    "labels = ['малоимущие', 'остальные']\n",
    "\n",
    "# Запишем названия для каждого графика\n",
    "titles = ['Дети', 'Трудоспособный возраст', 'Пенсионеры']\n",
    "\n",
    "# Создадим фигуры с осями\n",
    "fig, axes = plt.subplots(1, 3, figsize=(16, 5))\n",
    "\n",
    "# Создадим круговые диаграммы\n",
    "for i, ax in enumerate(axes):\n",
    "    ax.pie([poor_percent[i], 100-poor_percent[i]], labels=labels, autopct='%1.1f%%')\n",
    "    ax.set_title(titles[i])\n",
    "\n",
    "# Добавим общий заголовок\n",
    "fig.suptitle('Процент малоимущих в социально-демографических группах', fontsize=16)\n",
    "\n",
    "# Установим белый фон для фигуры\n",
    "fig.patch.set_facecolor('white')\n",
    "\n",
    "# Посмотрим на результат\n",
    "plt.show()"
   ]
  },
  {
   "cell_type": "markdown",
   "id": "f717cdb0",
   "metadata": {},
   "source": [
    "Посмотрим на аналогичные показатели по кластерам. Помимо закономерного падения процента малоимущих от кластера 0 к кластеру 3 (уровень бедности закладывался как признак кластеризации), можно отметить также значительно больший процент малоимущих пенсионеров в беднейших регионах: 10%, в то время как во всех остальных кластерах он не превышает 3%."
   ]
  },
  {
   "cell_type": "code",
   "execution_count": 47,
   "id": "3a448b61",
   "metadata": {},
   "outputs": [
    {
     "data": {
      "text/html": [
       "<div>\n",
       "<style scoped>\n",
       "    .dataframe tbody tr th:only-of-type {\n",
       "        vertical-align: middle;\n",
       "    }\n",
       "\n",
       "    .dataframe tbody tr th {\n",
       "        vertical-align: top;\n",
       "    }\n",
       "\n",
       "    .dataframe thead th {\n",
       "        text-align: right;\n",
       "    }\n",
       "</style>\n",
       "<table border=\"1\" class=\"dataframe\">\n",
       "  <thead>\n",
       "    <tr style=\"text-align: right;\">\n",
       "      <th></th>\n",
       "      <th>children</th>\n",
       "      <th>employable</th>\n",
       "      <th>retired</th>\n",
       "      <th>poor_children</th>\n",
       "      <th>poor_employable</th>\n",
       "      <th>poor_retired</th>\n",
       "      <th>poor_children_percent</th>\n",
       "      <th>poor_employable_percent</th>\n",
       "      <th>poor_retired_percent</th>\n",
       "    </tr>\n",
       "    <tr>\n",
       "      <th>Cluster</th>\n",
       "      <th></th>\n",
       "      <th></th>\n",
       "      <th></th>\n",
       "      <th></th>\n",
       "      <th></th>\n",
       "      <th></th>\n",
       "      <th></th>\n",
       "      <th></th>\n",
       "      <th></th>\n",
       "    </tr>\n",
       "  </thead>\n",
       "  <tbody>\n",
       "    <tr>\n",
       "      <th>0</th>\n",
       "      <td>2294803</td>\n",
       "      <td>4361266</td>\n",
       "      <td>1214546</td>\n",
       "      <td>798137</td>\n",
       "      <td>1135355</td>\n",
       "      <td>117092</td>\n",
       "      <td>34.78</td>\n",
       "      <td>26.03</td>\n",
       "      <td>9.64</td>\n",
       "    </tr>\n",
       "    <tr>\n",
       "      <th>1</th>\n",
       "      <td>5680833</td>\n",
       "      <td>14878885</td>\n",
       "      <td>7341142</td>\n",
       "      <td>1567943</td>\n",
       "      <td>2419056</td>\n",
       "      <td>220438</td>\n",
       "      <td>27.60</td>\n",
       "      <td>16.26</td>\n",
       "      <td>3.00</td>\n",
       "    </tr>\n",
       "    <tr>\n",
       "      <th>2</th>\n",
       "      <td>18550131</td>\n",
       "      <td>48664503</td>\n",
       "      <td>22744413</td>\n",
       "      <td>4172292</td>\n",
       "      <td>5734833</td>\n",
       "      <td>546859</td>\n",
       "      <td>22.49</td>\n",
       "      <td>11.78</td>\n",
       "      <td>2.40</td>\n",
       "    </tr>\n",
       "    <tr>\n",
       "      <th>3</th>\n",
       "      <td>3844605</td>\n",
       "      <td>11851455</td>\n",
       "      <td>5322008</td>\n",
       "      <td>489654</td>\n",
       "      <td>714358</td>\n",
       "      <td>138742</td>\n",
       "      <td>12.74</td>\n",
       "      <td>6.03</td>\n",
       "      <td>2.61</td>\n",
       "    </tr>\n",
       "  </tbody>\n",
       "</table>\n",
       "</div>"
      ],
      "text/plain": [
       "         children  employable   retired  poor_children  poor_employable  \\\n",
       "Cluster                                                                   \n",
       "0         2294803     4361266   1214546         798137          1135355   \n",
       "1         5680833    14878885   7341142        1567943          2419056   \n",
       "2        18550131    48664503  22744413        4172292          5734833   \n",
       "3         3844605    11851455   5322008         489654           714358   \n",
       "\n",
       "         poor_retired  poor_children_percent  poor_employable_percent  \\\n",
       "Cluster                                                                 \n",
       "0              117092                  34.78                    26.03   \n",
       "1              220438                  27.60                    16.26   \n",
       "2              546859                  22.49                    11.78   \n",
       "3              138742                  12.74                     6.03   \n",
       "\n",
       "         poor_retired_percent  \n",
       "Cluster                        \n",
       "0                        9.64  \n",
       "1                        3.00  \n",
       "2                        2.40  \n",
       "3                        2.61  "
      ]
     },
     "metadata": {},
     "output_type": "display_data"
    }
   ],
   "source": [
    "# Добавим Cluster в датафрейм socgroups\n",
    "socgroups['Cluster'] = russia_regions_cl['Cluster']\n",
    "\n",
    "# Вычислим суммы по группам\n",
    "cluster_socgroups = (socgroups.groupby('Cluster')[['children', 'employable', 'retired', 'poor_children', 'poor_employable', 'poor_retired']].sum())\n",
    "\n",
    "# Рассчитаем процентные соотношения малоимущих\n",
    "cluster_socgroups['poor_children_percent'] = (cluster_socgroups['poor_children'] / cluster_socgroups['children'] * 100)  \n",
    "cluster_socgroups['poor_employable_percent'] = (cluster_socgroups['poor_employable'] / cluster_socgroups['employable'] * 100)  \n",
    "cluster_socgroups['poor_retired_percent'] = (cluster_socgroups['poor_retired'] / cluster_socgroups['retired'] * 100) \n",
    "\n",
    "# Посмотрим на результат\n",
    "display(cluster_socgroups)"
   ]
  },
  {
   "cell_type": "markdown",
   "id": "7b6b4dda",
   "metadata": {},
   "source": [
    "#### 4.3. Взаимосвязь численности социально-демографических групп с уровнем бедности"
   ]
  },
  {
   "cell_type": "code",
   "execution_count": 48,
   "id": "d2444d36",
   "metadata": {},
   "outputs": [
    {
     "data": {
      "text/html": [
       "<div>\n",
       "<style scoped>\n",
       "    .dataframe tbody tr th:only-of-type {\n",
       "        vertical-align: middle;\n",
       "    }\n",
       "\n",
       "    .dataframe tbody tr th {\n",
       "        vertical-align: top;\n",
       "    }\n",
       "\n",
       "    .dataframe thead th {\n",
       "        text-align: right;\n",
       "    }\n",
       "</style>\n",
       "<table border=\"1\" class=\"dataframe\">\n",
       "  <thead>\n",
       "    <tr style=\"text-align: right;\">\n",
       "      <th></th>\n",
       "      <th>children</th>\n",
       "      <th>employable</th>\n",
       "      <th>retired</th>\n",
       "      <th>poor_children</th>\n",
       "      <th>poor_employable</th>\n",
       "      <th>poor_retired</th>\n",
       "      <th>poor_children_percent</th>\n",
       "      <th>poor_employable_percent</th>\n",
       "      <th>poor_retired_percent</th>\n",
       "      <th>population</th>\n",
       "      <th>children_percent</th>\n",
       "      <th>employable_percent</th>\n",
       "      <th>retired_percent</th>\n",
       "    </tr>\n",
       "    <tr>\n",
       "      <th>Cluster</th>\n",
       "      <th></th>\n",
       "      <th></th>\n",
       "      <th></th>\n",
       "      <th></th>\n",
       "      <th></th>\n",
       "      <th></th>\n",
       "      <th></th>\n",
       "      <th></th>\n",
       "      <th></th>\n",
       "      <th></th>\n",
       "      <th></th>\n",
       "      <th></th>\n",
       "      <th></th>\n",
       "    </tr>\n",
       "  </thead>\n",
       "  <tbody>\n",
       "    <tr>\n",
       "      <th>0</th>\n",
       "      <td>2294803</td>\n",
       "      <td>4361266</td>\n",
       "      <td>1214546</td>\n",
       "      <td>798137</td>\n",
       "      <td>1135355</td>\n",
       "      <td>117092</td>\n",
       "      <td>34.78</td>\n",
       "      <td>26.03</td>\n",
       "      <td>9.64</td>\n",
       "      <td>7870615</td>\n",
       "      <td>29.16</td>\n",
       "      <td>55.41</td>\n",
       "      <td>15.43</td>\n",
       "    </tr>\n",
       "    <tr>\n",
       "      <th>1</th>\n",
       "      <td>5680833</td>\n",
       "      <td>14878885</td>\n",
       "      <td>7341142</td>\n",
       "      <td>1567943</td>\n",
       "      <td>2419056</td>\n",
       "      <td>220438</td>\n",
       "      <td>27.60</td>\n",
       "      <td>16.26</td>\n",
       "      <td>3.00</td>\n",
       "      <td>27900860</td>\n",
       "      <td>20.36</td>\n",
       "      <td>53.33</td>\n",
       "      <td>26.31</td>\n",
       "    </tr>\n",
       "    <tr>\n",
       "      <th>2</th>\n",
       "      <td>18550131</td>\n",
       "      <td>48664503</td>\n",
       "      <td>22744413</td>\n",
       "      <td>4172292</td>\n",
       "      <td>5734833</td>\n",
       "      <td>546859</td>\n",
       "      <td>22.49</td>\n",
       "      <td>11.78</td>\n",
       "      <td>2.40</td>\n",
       "      <td>89959047</td>\n",
       "      <td>20.62</td>\n",
       "      <td>54.10</td>\n",
       "      <td>25.28</td>\n",
       "    </tr>\n",
       "    <tr>\n",
       "      <th>3</th>\n",
       "      <td>3844605</td>\n",
       "      <td>11851455</td>\n",
       "      <td>5322008</td>\n",
       "      <td>489654</td>\n",
       "      <td>714358</td>\n",
       "      <td>138742</td>\n",
       "      <td>12.74</td>\n",
       "      <td>6.03</td>\n",
       "      <td>2.61</td>\n",
       "      <td>21018068</td>\n",
       "      <td>18.29</td>\n",
       "      <td>56.39</td>\n",
       "      <td>25.32</td>\n",
       "    </tr>\n",
       "  </tbody>\n",
       "</table>\n",
       "</div>"
      ],
      "text/plain": [
       "         children  employable   retired  poor_children  poor_employable  \\\n",
       "Cluster                                                                   \n",
       "0         2294803     4361266   1214546         798137          1135355   \n",
       "1         5680833    14878885   7341142        1567943          2419056   \n",
       "2        18550131    48664503  22744413        4172292          5734833   \n",
       "3         3844605    11851455   5322008         489654           714358   \n",
       "\n",
       "         poor_retired  poor_children_percent  poor_employable_percent  \\\n",
       "Cluster                                                                 \n",
       "0              117092                  34.78                    26.03   \n",
       "1              220438                  27.60                    16.26   \n",
       "2              546859                  22.49                    11.78   \n",
       "3              138742                  12.74                     6.03   \n",
       "\n",
       "         poor_retired_percent  population  children_percent  \\\n",
       "Cluster                                                       \n",
       "0                        9.64     7870615             29.16   \n",
       "1                        3.00    27900860             20.36   \n",
       "2                        2.40    89959047             20.62   \n",
       "3                        2.61    21018068             18.29   \n",
       "\n",
       "         employable_percent  retired_percent  \n",
       "Cluster                                       \n",
       "0                     55.41            15.43  \n",
       "1                     53.33            26.31  \n",
       "2                     54.10            25.28  \n",
       "3                     56.39            25.32  "
      ]
     },
     "metadata": {},
     "output_type": "display_data"
    },
    {
     "name": "stdout",
     "output_type": "stream",
     "text": [
      "Есть основания отклонить нулевую гипотезу: процент детей в разных кластерах не одинаков\n",
      "Chi-square test p-value = 0.000\n"
     ]
    },
    {
     "data": {
      "image/png": "[encoded data removed]",
      "text/plain": [
       "<Figure size 2000x400 with 3 Axes>"
      ]
     },
     "metadata": {},
     "output_type": "display_data"
    }
   ],
   "source": [
    "# Расчёт суммы населения и процентов для категорий\n",
    "cluster_population = russia_regions_cl.groupby('Cluster')['population'].sum().astype(int)\n",
    "cluster_socgroups = cluster_socgroups.assign(\n",
    "    population=cluster_population,\n",
    "    children_percent=cluster_socgroups['children'] / cluster_population * 100,\n",
    "    employable_percent=cluster_socgroups['employable'] / cluster_population * 100,\n",
    "    retired_percent=cluster_socgroups['retired'] / cluster_population * 100\n",
    ")\n",
    "\n",
    "# Выводим полученную таблицу\n",
    "display(cluster_socgroups)\n",
    "\n",
    "# Визуализируем результаты\n",
    "categories = ['children_percent', 'employable_percent', 'retired_percent']\n",
    "titles = ['Дети, %', 'Трудоспособные, %', 'Пенсионеры, %']\n",
    "\n",
    "fig, axes = plt.subplots(1, 3, figsize=(20, 4))\n",
    "for ax, category, title in zip(axes, categories, titles):\n",
    "    sns.barplot(data=cluster_socgroups, x=cluster_socgroups.index, y=category, ax=ax)\n",
    "    ax.set_title(title, fontsize=16)\n",
    "\n",
    "# Проверка гипотезы\n",
    "# Построим таблицу сопряженности для хи-квадрат теста\n",
    "observed = cluster_socgroups[['children', 'population']]\n",
    "chi2, p, dof, expected = chi2_contingency(observed)\n",
    "\n",
    "# Интрепретируем p-value\n",
    "if p < 0.05:\n",
    "    print(\"Есть основания отклонить нулевую гипотезу: процент детей в разных кластерах не одинаков\")\n",
    "else:\n",
    "    print(\"Нет оснований отклонить нулевую гипотезу: нет убедительных доказательств различий в проценте детей между кластерами\")\n",
    "print(f'Chi-square test p-value = {p:.3f}')\n",
    "\n",
    "plt.tight_layout()\n",
    "plt.show()\n"
   ]
  },
  {
   "cell_type": "markdown",
   "id": "bd0d51d4",
   "metadata": {},
   "source": [
    "Из таблицы выше видим, что существенных отличий в процентах трудоспособного населения не наблюдается: величины колеблются в пределах 54% - 56%, такие различия в рабочей силе вряд ли оказывают какое-либо влияние на экономику регионов, особенно в виду кратной разницы в уровне доходов (это можно найти на графиках в Части 3). Одновременно можно отметить, что в беднейших регионах наблюдается существенно больший процент детей (на 10% больше среднего) и меньший процент пенсионеров (тоже на 10%). Процент детей в целом падает с ростом финансового благополучия (от кластера 0 к кластеру 3). Различия статистически значимы:  𝜒2-тест на пропорции дает p-value = 0. Это в целом соответствует полученному ранее выводу о том, что семьи с детьми являются наиболее уязвимым слоем населения с финансовой точки зрения. Одновременно можно предположить, что в более бедных регионах выше рождаемость, что оказывает дополнительное негативное влияние на показатели дохода на душу населения. "
   ]
  },
  {
   "cell_type": "code",
   "execution_count": 49,
   "id": "8cf1d441",
   "metadata": {},
   "outputs": [
    {
     "name": "stdout",
     "output_type": "stream",
     "text": [
      "Есть основания отклонить нулевую гипотезу: рождаемость зависит от кластера\n",
      "Kruskal-Wallis p-value = 0.001\n"
     ]
    },
    {
     "data": {
      "image/png": "[encoded data removed]",
      "text/plain": [
       "<Figure size 650x400 with 1 Axes>"
      ]
     },
     "metadata": {},
     "output_type": "display_data"
    }
   ],
   "source": [
    "# Считаем медиану для каждого кластера\n",
    "median_values = russia_regions_cl.groupby('Cluster')['newborn'].median().sort_values(ascending=False)\n",
    "\n",
    "# Создаем порядок кластеров на основе отсортированных медиан\n",
    "sorted_clusters = median_values.index.tolist()\n",
    "\n",
    "# Рассчитываем p-value для теста Краскела-Уоллиса\n",
    "groups = [group['newborn'].values for name, group in russia_regions_cl.groupby('Cluster')]\n",
    "p_value = kruskal(*groups).pvalue\n",
    "\n",
    "# Интерпретируем p-value\n",
    "if p_value < 0.05:\n",
    "    print(\"Есть основания отклонить нулевую гипотезу: рождаемость зависит от кластера\")\n",
    "else:\n",
    "    print(\"Нет оснований отклонить нулевую гипотезу: нет убедительных доказательств различий в рождаемости между кластерами\")\n",
    "\n",
    "# Выводим p-value\n",
    "print(f\"Kruskal-Wallis p-value = {p_value:.3f}\")\n",
    "\n",
    "# Теперь строим boxplot с учетом порядка кластеров\n",
    "plt.figure(figsize=(6.5, 4))\n",
    "sns.boxplot(data=russia_regions_cl, x='newborn', y='Cluster', orient='h', order=sorted_clusters)\n",
    "plt.title('Распределение рождаемости в разных кластерах', fontsize=16)\n",
    "\n",
    "# Отображаем результаты\n",
    "plt.show()\n"
   ]
  },
  {
   "cell_type": "markdown",
   "id": "5ec0b792",
   "metadata": {},
   "source": [
    "Видим что:\n",
    "- Кластер 2: Имеет меньший ящик с усами по сравнению с кластером 3, что указывает на меньший разброс значений рождаемости. Медиана в этом кластере самая высокая, что может свидетельствовать о благоприятных общих условиях для рождения детей в этих регионах. Относительно высокая медиана с меньшим разбросом значений может указывать на более однородные и стабильные условия.\n",
    "\n",
    "- Кластер 1: Ящик с усами самый маленький и медиану, которая ниже, чем у кластера 2, но выше, чем у кластеров 3 и 0. Это может указывать на наименьшее разнообразие для рождаемости, но с более низким средним уровнем рождаемости по сравнению с кластером 2.\n",
    "\n",
    "- Кластер_3: Ящик с усами является самым большим, что свидетельствует о значительном разбросе значений рождаемости. То есть, регионы внутри этого кластера могут сильно различаться по уровню рождаемости. Это может быть обусловлено рядом факторов, таких как различия в доступе к медицинским услугам, социальной поддержке и экономическом развитии. В то же время, медиана не является самой высокой, что указывает на то, что, несмотря на наличие регионов с высокой рождаемостью, средний уровень рождаемости в кластере не самый высокий.\n",
    "\n",
    "- Кластер 0:  Ящик с усами чуть больше чему кластера 1 и медиана самая низкая из всех, что свидетельствует о разнообразие условий для рождаемости и в то же время наименьшем уровне рождаемости. Это может отражать более сложные социально-экономические условия или более высокий уровень урбанизации, который часто сопряжен с более низкой рождаемостью.\n",
    "\n",
    "- Во всех кластерах присутствуют выбросы, что может указывать на наличие регионов с аномально высокой или низкой рождаемостью по сравнению с медианой кластера."
   ]
  },
  {
   "cell_type": "markdown",
   "id": "fc303d60",
   "metadata": {},
   "source": [
    "#### 4.4. Другие различия между кластерами"
   ]
  },
  {
   "cell_type": "markdown",
   "id": "5618525e",
   "metadata": {},
   "source": [
    "Рассмотрим прочие отличия между кластерами. Для этого выберем в датафрейме колонки, которые еще не рассматривались, из них выберем только те, которые показывают статистически значимые различия между кластерами на уровне 5% по критерию Краскела-Уоллиса. Отметим, что даже статистически значимые различия не являются доказательством прямой взаимосвязи между уровнем финансового благополучия (кластером) и рассматриваемой характеристикой, однако такой анализ позволяет выдвинуть определенные гипотезы. Дополнительно нормируем некоторые показатели на 100 тыс. населения для учета разной численности населения в регионах."
   ]
  },
  {
   "cell_type": "code",
   "execution_count": 50,
   "id": "e59f5932",
   "metadata": {},
   "outputs": [
    {
     "name": "stdout",
     "output_type": "stream",
     "text": [
      "child_mortality: p-value = 0.005\n",
      "disabled_18_60: p-value = 0.000\n",
      "alco: p-value = 0.055\n",
      "drug: p-value = 0.537\n",
      "bad_conditions: p-value = 0.923\n",
      "no_funds: p-value = 0.024\n",
      "general_morbidity: p-value = 0.000\n",
      "congenital_malformation: p-value = 0.085\n",
      "mental_disorders: p-value = 0.000\n",
      "teenage_pregnancy: p-value = 0.027\n",
      "population: p-value = 0.000\n",
      "subsidies: p-value = 0.072\n",
      "welfare: p-value = 0.000\n",
      "registered crimes: p-value = 0.259\n",
      "felonies: p-value = 0.056\n",
      "misdemeanors: p-value = 0.097\n",
      "killed: p-value = 0.641\n",
      "grievous harm: p-value = 0.653\n",
      "orphanage: p-value = 0.291\n",
      "adopted_percent: p-value = 0.382\n",
      "avg_pension: p-value = 0.000\n",
      "avg_pension_normalized: p-value = 0.081\n",
      "living_wage: p-value = 0.000\n"
     ]
    }
   ],
   "source": [
    "# Проведем нормировку к пенсии на размер потребительской корзины\n",
    "russia_regions_cl['avg_pension_normalized'] = russia_regions_cl['avg_pension'] / russia_regions_cl['living_wage']\n",
    "\n",
    "# Нам необходимо преобразовать данные в колонке adopted_percent в числовые перед функцией kruskal_pvalue\n",
    "russia_regions_cl['adopted_percent'] = pd.to_numeric(russia_regions_cl['adopted_percent'], errors='coerce')\n",
    "\n",
    "# После преобразования у нас есть NAN-значения, с которыми нужно поработать\n",
    "median_value = russia_regions_cl['adopted_percent'].median()\n",
    "russia_regions_cl['adopted_percent'].fillna(median_value, inplace=True)\n",
    "\n",
    "\n",
    "# Пересчитаем кол-во преступлений на 100 тыс. населения\n",
    "russia_regions_cl['registered crimes'] = (russia_regions_cl['registered crimes'] / russia_regions_cl['population'] * 100_000)\n",
    "russia_regions_cl['felonies'] = (russia_regions_cl['felonies'] / russia_regions_cl['population'] * 100_000)\n",
    "russia_regions_cl['misdemeanors'] = (russia_regions_cl['misdemeanors'] / russia_regions_cl['population'] * 100_000)\n",
    "russia_regions_cl['killed'] = (russia_regions_cl['killed'] / russia_regions_cl['population'] * 100_000)\n",
    "russia_regions_cl['grievous harm'] = (russia_regions_cl['grievous harm'] / russia_regions_cl['population'] * 100_000)\n",
    "\n",
    "# Кол-во детей в детских домах на 100 тыс. населения\n",
    "russia_regions_cl['orphanage'] = (russia_regions_cl['orphanage'] / russia_regions_cl['population'] * 100_000)\n",
    "\n",
    "# Список колонок для анализа\n",
    "cols = ['child_mortality', 'disabled_18_60', 'alco', 'drug',\n",
    "        'bad_conditions', 'no_funds', 'general_morbidity',\n",
    "        'congenital_malformation', 'mental_disorders',\n",
    "        'teenage_pregnancy', 'population', 'subsidies', 'welfare', \n",
    "        'registered crimes', 'felonies', 'misdemeanors', 'killed',\n",
    "        'grievous harm', 'orphanage', 'adopted_percent', 'avg_pension',\n",
    "        'avg_pension_normalized', 'living_wage'\n",
    "]\n",
    "    \n",
    "# Скопируем список колонок   \n",
    "cols_s = cols.copy()\n",
    "\n",
    "# Пройдем по списку колонок и проводим статистический тест\n",
    "for col in cols:\n",
    "    p = kruskal_pvalue(russia_regions_cl, col)\n",
    "    print(f'{col}: p-value = {p:.3f}')\n",
    "    # Удаляем колонки с p-value больше 0.05\n",
    "    if p > 0.05: \n",
    "        cols_s.remove(col)"
   ]
  },
  {
   "cell_type": "markdown",
   "id": "2e1fa046",
   "metadata": {},
   "source": [
    "Кластеры НЕ отличаются по следующим характеристикам (показатели нормированы на 100 тыс. населения либо приведены в процентах):\n",
    "- drug: Нет достаточных доказательств наличия различий в употреблении наркотиков.\n",
    "- bad_conditions: Нет достаточных доказательств наличия различий в проживании в плохих условиях.\n",
    "- felonies: Нет достаточных доказательств наличия различий в получении субсидий.\n",
    "- registered crimes: Нет достаточных доказательств наличия различий в количестве зарегистрированных преступлений.\n",
    "- misdemeanors: Нет достаточных доказательств наличия различий в количестве правонарушений.\n",
    "- killed: Нет достаточных доказательств наличия различий в количестве убийств.\n",
    "- grievous harm: Нет достаточных доказательств наличия различий в количестве тяжких телесных повреждений.\n",
    "- orphanage: Нет достаточных доказательств наличия различий в численности детей в детских домах.\n",
    "- adopted_percent: Нет достаточных доказательств наличия различий в проценте усыновленных детей.\n",
    "\n",
    "А также исключаем признаки:\n",
    "- alco: p-value = 0.055\n",
    "- congenital_malformation: p-value = 0.085\n",
    "- subsidies: p-value = 0.072\n",
    "- felonies: p-value = 0.056\n",
    "- misdemeanors: p-value = 0.097\n",
    "- avg_pension_normalized: p-value = 0.081\n",
    "\n",
    "Остальные признаки имеют p-value ниже 0.05, что указывает на их потенциальную важность для различения кластеров."
   ]
  },
  {
   "cell_type": "code",
   "execution_count": 53,
   "id": "9a254789",
   "metadata": {},
   "outputs": [
    {
     "name": "stdout",
     "output_type": "stream",
     "text": [
      "Количество признаков для визуализации: 10\n",
      "Мы будем использовать 3 строки(и) и 4 столбец(а) для подграфиков.\n"
     ]
    }
   ],
   "source": [
    "# Предположим, что cols_s — это список признаков для визуализации\n",
    "# Убедимся, что количество признаков соответствует количеству подграфиков\n",
    "print(f\"Количество признаков для визуализации: {len(cols_s)}\")\n",
    "\n",
    "# Теперь давайте вычислим подходящее количество строк и столбцов для подграфиков\n",
    "# Используя корень квадратный, округление в большую сторону, чтобы вместить все признаки\n",
    "import math\n",
    "n_features = len(cols_s)\n",
    "n_cols = math.ceil(math.sqrt(n_features))\n",
    "n_rows = math.ceil(n_features / n_cols)\n",
    "\n",
    "print(f\"Мы будем использовать {n_rows} строки(и) и {n_cols} столбец(а) для подграфиков.\")"
   ]
  },
  {
   "cell_type": "code",
   "execution_count": 54,
   "id": "1d8b9c3d",
   "metadata": {},
   "outputs": [
    {
     "data": {
      "image/png": "[encoded data removed]",
      "text/plain": [
       "<Figure size 2500x1100 with 12 Axes>"
      ]
     },
     "metadata": {},
     "output_type": "display_data"
    }
   ],
   "source": [
    "fig, axs = plt.subplots(3, 4, figsize=(25, 11)) # Создаем сетку подграфиков 3x4\n",
    "\n",
    "# Пройдемся по всем ячейкам сетки подграфиков\n",
    "for idx, ax in enumerate(axs.flat):\n",
    "    if idx < len(cols_s):  # Убедимся, что индекс находится в пределах списка признаков\n",
    "        # Рассчитываем медиану для текущего признака\n",
    "        median_order = russia_regions_cl.groupby('Cluster')[cols_s[idx]].median().sort_values(ascending=False).index\n",
    "        # Строим boxplot с учетом отсортированного порядка\n",
    "        sns.boxplot(data=russia_regions_cl, x=cols_s[idx], y='Cluster', orient='h', ax=ax, order=median_order)\n",
    "    else:\n",
    "        ax.set_visible(False)  # Скрываем пустые подграфики\n",
    "\n",
    "# Установим общий заголовок для всей фигуры\n",
    "fig.suptitle('Распределения различающихся характеристик', fontsize=20)\n",
    "\n",
    "# Автоматически подгоним подложку каждого подграфика\n",
    "plt.tight_layout(rect=[0, 0.03, 1, 0.95])  # Учитываем место для заголовка\n",
    "\n",
    "# Посмотрим на результат\n",
    "plt.show()"
   ]
  },
  {
   "cell_type": "markdown",
   "id": "2390d154",
   "metadata": {},
   "source": [
    "Ящики с усами представлены в порядке сортировки по убыванию от большего к меньшему. \n",
    "Как мы можем видить картина совсем разнообразная и порой удивительная. \n",
    "\n",
    "Можем наглядно теперь увидеть социально-экономическое разделение между кластерами: бедные регионы страдают от высоких уровней проблем, связанных со здоровьем и социальным благополучием, в то время как богатые регионы показывают лучшие показатели. Это может указывать на необходимость адресной социальной и экономической политики для улучшения условий в бедных и менее благополучных регионах."
   ]
  },
  {
   "cell_type": "markdown",
   "id": "0657a05e",
   "metadata": {},
   "source": [
    "### Вывод\n",
    "\n",
    "Дано описание характерных особенностей полученных кластеров:\n",
    "- бедные регионы;\n",
    "- регионы на уровне прожиточного минимума;\n",
    "- регионы выше уровня прожиточного минимума;\n",
    "- богатые регионы.\n",
    "\n",
    "Проведен анализ социально-демографических групп населения, показывающий, что наиболее уязвимой группой населения по финасовым показателям являются семьи с детьми. \n",
    " \n",
    "Также проведен анализ различия других характеристик датафрейма по кластерам. Подробное описание имеющихся корреляций и отсутствия таковых дано выше."
   ]
  }
 ],
 "metadata": {
  "kernelspec": {
   "display_name": "Python 3 (ipykernel)",
   "language": "python",
   "name": "python3"
  },
  "language_info": {
   "codemirror_mode": {
    "name": "ipython",
    "version": 3
   },
   "file_extension": ".py",
   "mimetype": "text/x-python",
   "name": "python",
   "nbconvert_exporter": "python",
   "pygments_lexer": "ipython3",
   "version": "3.10.9"
  }
 },
 "nbformat": 4,
 "nbformat_minor": 5
}
