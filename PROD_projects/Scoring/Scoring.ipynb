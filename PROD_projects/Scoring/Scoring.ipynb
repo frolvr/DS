{
 "cells": [
  {
   "cell_type": "code",
   "execution_count": 6,
   "metadata": {},
   "outputs": [],
   "source": [
    "# Импорт необходимых библиотек\n",
    "import pandas as pd\n",
    "from sklearn.model_selection import StratifiedKFold, GridSearchCV\n",
    "from sklearn import metrics\n",
    "import xgboost as xgb\n",
    "from joblib import dump, load\n",
    "\n",
    "import logging\n",
    "logging.basicConfig(level=logging.INFO)\n",
    "logger = logging.getLogger(__name__)"
   ]
  },
  {
   "cell_type": "markdown",
   "metadata": {},
   "source": [
    "#### 1. Определение метрики"
   ]
  },
  {
   "cell_type": "code",
   "execution_count": 7,
   "metadata": {},
   "outputs": [],
   "source": [
    "# Определение метрики (нормализованный коэффициент Джини)\n",
    "# Для оценки будем использовать нормализованный коэффициент Джини\n",
    "# эта метрика позволяет минимизировать ошибки 2 рода - отказ в кредите ответственному заемщику \n",
    "# то есть глобально, она направлена на увеличение потенциальной прибыли от выданных кредитов\n",
    "\n",
    "def norm_gini(actual, predict):\n",
    "    return 2*metrics.roc_auc_score(actual, predict)-1"
   ]
  },
  {
   "cell_type": "markdown",
   "metadata": {},
   "source": [
    "#### 2. Загрузка и предварительная обработка данных"
   ]
  },
  {
   "cell_type": "code",
   "execution_count": 8,
   "metadata": {},
   "outputs": [
    {
     "name": "stderr",
     "output_type": "stream",
     "text": [
      "INFO:__main__:Загрузка данных\n",
      "INFO:__main__:Готово\n"
     ]
    }
   ],
   "source": [
    "logger.info('Загрузка данных')\n",
    "credits = pd.read_excel('credits.xlsx', header=1, index_col=0)\n",
    "logger.info('Готово')\n",
    "#print(credits.head())\n",
    "#print(credits.info())\n",
    "# нулевых данных нет, предобработка не нужна"
   ]
  },
  {
   "cell_type": "markdown",
   "metadata": {},
   "source": [
    "#### 3. Разделение данных на обучающую и тестовую выборки"
   ]
  },
  {
   "cell_type": "code",
   "execution_count": 9,
   "metadata": {},
   "outputs": [],
   "source": [
    "# разделим датасет на обучающую и тестовую выборки\n",
    "train = credits[credits.is_test == 0]\n",
    "test = credits[credits.is_test == 1]"
   ]
  },
  {
   "cell_type": "markdown",
   "metadata": {},
   "source": [
    "#### 4. Подготовка данных для обучения и тестирования модели"
   ]
  },
  {
   "cell_type": "code",
   "execution_count": 10,
   "metadata": {},
   "outputs": [
    {
     "name": "stderr",
     "output_type": "stream",
     "text": [
      "INFO:__main__:Предобработка данных\n",
      "INFO:__main__:Готово\n"
     ]
    }
   ],
   "source": [
    "# уберём лишние столбцы, нам нужны только столбцы с первого по 'res_npl_15'\n",
    "logger.info('Предобработка данных')\n",
    "y_col = 'res_npl_15'\n",
    "train = train.loc[:, :y_col]\n",
    "train_y = train[y_col]\n",
    "train_X = train.drop(columns=y_col)\n",
    "\n",
    "test = test.loc[:, :y_col]\n",
    "test_X = test.drop(columns=y_col)\n",
    "\n",
    "#print(X_train, y_train)\n",
    "logger.info('Готово')"
   ]
  },
  {
   "cell_type": "markdown",
   "metadata": {},
   "source": [
    "#### 5. Подготовка метрики для оценки модели"
   ]
  },
  {
   "cell_type": "code",
   "execution_count": 11,
   "metadata": {},
   "outputs": [
    {
     "name": "stderr",
     "output_type": "stream",
     "text": [
      "INFO:__main__:Готовим метрику\n",
      "INFO:__main__:Готово\n"
     ]
    }
   ],
   "source": [
    "logger.info('Готовим метрику')\n",
    "# Создадим объект gini_scorer с использованием функции make_scorer\n",
    "gini_scorer = metrics.make_scorer(norm_gini, greater_is_better = True)\n",
    "logger.info('Готово')"
   ]
  },
  {
   "cell_type": "markdown",
   "metadata": {},
   "source": [
    "#### 6. Настройка и обучение модели XGBoost"
   ]
  },
  {
   "cell_type": "code",
   "execution_count": 12,
   "metadata": {},
   "outputs": [
    {
     "name": "stderr",
     "output_type": "stream",
     "text": [
      "INFO:__main__:Подбираем лучшие параметры модели\n",
      "INFO:__main__:Готово\n"
     ]
    }
   ],
   "source": [
    "# Создадим экземпляр модели\n",
    "xgb_model = xgb.XGBClassifier(use_label_encoder=False)\n",
    "\n",
    "logger.info('Подбираем лучшие параметры модели')\n",
    "parameters = { 'objective':['binary:logistic'],\n",
    "              'learning_rate': [0.05],\n",
    "              'max_depth': [4,5],\n",
    "              'min_child_weight': [11],\n",
    "              'eval_metric': ['logloss'],\n",
    "              'subsample': [0.8],\n",
    "              'colsample_bytree': [0.7],\n",
    "              'n_estimators': [100,200],\n",
    "              'seed': [42]}\n",
    "\n",
    "# Обучим модель с использованием кросс-валидации для определения лучших параметров\n",
    "clf = GridSearchCV(xgb_model, parameters, n_jobs=5,                     \n",
    "                   scoring=gini_scorer,\n",
    "                   verbose=10, refit=True)\n",
    "logger.info('Готово')"
   ]
  },
  {
   "cell_type": "markdown",
   "metadata": {},
   "source": [
    "#### 7. Подготовка предсказаний и сохранение результатов"
   ]
  },
  {
   "cell_type": "code",
   "execution_count": 13,
   "metadata": {},
   "outputs": [
    {
     "name": "stdout",
     "output_type": "stream",
     "text": [
      "Fitting 5 folds for each of 4 candidates, totalling 20 fits\n"
     ]
    },
    {
     "name": "stderr",
     "output_type": "stream",
     "text": [
      "INFO:__main__:Сохраняем саму модель\n",
      "INFO:__main__:Модель сохранена как best_xgb_model.joblib\n",
      "INFO:__main__:Готовим предсказания\n",
      "INFO:__main__:Готово\n",
      "INFO:__main__:Выгрузка результата\n"
     ]
    },
    {
     "name": "stdout",
     "output_type": "stream",
     "text": [
      "Лучшие параметры:  {'colsample_bytree': 0.7, 'eval_metric': 'logloss', 'learning_rate': 0.05, 'max_depth': 4, 'min_child_weight': 11, 'n_estimators': 200, 'objective': 'binary:logistic', 'seed': 42, 'subsample': 0.8}\n"
     ]
    },
    {
     "name": "stderr",
     "output_type": "stream",
     "text": [
      "INFO:__main__:Готово\n"
     ]
    }
   ],
   "source": [
    "# Обучение модели и поиск по сетке\n",
    "clf.fit(train_X, train_y)\n",
    "print('Лучшие параметры: ', clf.best_params_)\n",
    "\n",
    "# Сохраняем обученную модель\n",
    "logger.info('Сохраняем саму модель')\n",
    "dump(clf.best_estimator_, 'best_xgb_model.joblib')\n",
    "logger.info('Модель сохранена как best_xgb_model.joblib')\n",
    "\n",
    "# Предсказание результатов для тестовой выборки\n",
    "logger.info('Готовим предсказания')\n",
    "test_probs = clf.predict(test_X)\n",
    "test_X[y_col] = test_probs\n",
    "logger.info('Готово')\n",
    "\n",
    "# Сохраним предсказания в файл Excel\n",
    "logger.info('Выгрузка результата')\n",
    "test_X.to_excel('Submission.xlsx')\n",
    "logger.info('Готово')"
   ]
  },
  {
   "cell_type": "code",
   "execution_count": null,
   "metadata": {},
   "outputs": [],
   "source": []
  }
 ],
 "metadata": {
  "kernelspec": {
   "display_name": "Python 3 (ipykernel)",
   "language": "python",
   "name": "python3"
  },
  "language_info": {
   "codemirror_mode": {
    "name": "ipython",
    "version": 3
   },
   "file_extension": ".py",
   "mimetype": "text/x-python",
   "name": "python",
   "nbconvert_exporter": "python",
   "pygments_lexer": "ipython3",
   "version": "3.10.9"
  }
 },
 "nbformat": 4,
 "nbformat_minor": 4
}
